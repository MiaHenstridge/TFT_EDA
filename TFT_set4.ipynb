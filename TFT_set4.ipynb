{
 "cells": [
  {
   "cell_type": "code",
   "execution_count": 1,
   "id": "d93e424c",
   "metadata": {},
   "outputs": [],
   "source": [
    "import pandas as pd\n",
    "import numpy as np\n",
    "import matplotlib.pyplot as plt\n",
    "import seaborn as sns\n",
    "%matplotlib inline"
   ]
  },
  {
   "cell_type": "markdown",
   "id": "c08287e0",
   "metadata": {},
   "source": [
    "## Load the dataset"
   ]
  },
  {
   "cell_type": "code",
   "execution_count": 2,
   "id": "9021f8e4",
   "metadata": {},
   "outputs": [],
   "source": [
    "df = pd.read_csv('TFT_set4_euw_challanger_games.csv')"
   ]
  },
  {
   "cell_type": "code",
   "execution_count": 3,
   "id": "e067d9c5",
   "metadata": {},
   "outputs": [
    {
     "data": {
      "text/html": [
       "<div>\n",
       "<style scoped>\n",
       "    .dataframe tbody tr th:only-of-type {\n",
       "        vertical-align: middle;\n",
       "    }\n",
       "\n",
       "    .dataframe tbody tr th {\n",
       "        vertical-align: top;\n",
       "    }\n",
       "\n",
       "    .dataframe thead th {\n",
       "        text-align: right;\n",
       "    }\n",
       "</style>\n",
       "<table border=\"1\" class=\"dataframe\">\n",
       "  <thead>\n",
       "    <tr style=\"text-align: right;\">\n",
       "      <th></th>\n",
       "      <th>patch_version</th>\n",
       "      <th>match_id</th>\n",
       "      <th>puuid</th>\n",
       "      <th>placement</th>\n",
       "      <th>level</th>\n",
       "      <th>gold_left</th>\n",
       "      <th>last_round</th>\n",
       "      <th>time_in_game</th>\n",
       "      <th>total_dmg_to_players</th>\n",
       "      <th>players_eliminated</th>\n",
       "      <th>chosen_unit</th>\n",
       "      <th>chosen_trait</th>\n",
       "      <th>units</th>\n",
       "      <th>traits</th>\n",
       "    </tr>\n",
       "  </thead>\n",
       "  <tbody>\n",
       "    <tr>\n",
       "      <th>0</th>\n",
       "      <td>10.19</td>\n",
       "      <td>EUW1_4817498958</td>\n",
       "      <td>KzseHzU3hoWVccjzPLRHVynRYxLT_Ww27nQpZSMXsa4YFp...</td>\n",
       "      <td>1</td>\n",
       "      <td>9</td>\n",
       "      <td>22</td>\n",
       "      <td>40</td>\n",
       "      <td>2461.936768</td>\n",
       "      <td>181</td>\n",
       "      <td>2</td>\n",
       "      <td>NaN</td>\n",
       "      <td>NaN</td>\n",
       "      <td>{'Nidalee': {'items': [99, 5, 36], 'stars': 2}...</td>\n",
       "      <td>{'Divine': 1, 'Emperor': 1, 'Fortune': 3, 'Kee...</td>\n",
       "    </tr>\n",
       "    <tr>\n",
       "      <th>1</th>\n",
       "      <td>10.19</td>\n",
       "      <td>EUW1_4817498958</td>\n",
       "      <td>0i6nCStgF5A3Bg-xmHvcS9Htjxo3t-BMcGBTfgG_VDc8H0...</td>\n",
       "      <td>2</td>\n",
       "      <td>9</td>\n",
       "      <td>1</td>\n",
       "      <td>40</td>\n",
       "      <td>2461.936768</td>\n",
       "      <td>161</td>\n",
       "      <td>0</td>\n",
       "      <td>NaN</td>\n",
       "      <td>NaN</td>\n",
       "      <td>{'Elise': {'items': [], 'stars': 2}, 'TwistedF...</td>\n",
       "      <td>{'Cultist': 8, 'Divine': 1, 'Duelist': 2, 'Dus...</td>\n",
       "    </tr>\n",
       "    <tr>\n",
       "      <th>2</th>\n",
       "      <td>10.19</td>\n",
       "      <td>EUW1_4817498958</td>\n",
       "      <td>xbmh7BXRjtNjZaUGkiY7kPAbx85q6CqkmR2CpijLu9Icz7...</td>\n",
       "      <td>3</td>\n",
       "      <td>9</td>\n",
       "      <td>1</td>\n",
       "      <td>37</td>\n",
       "      <td>2279.858154</td>\n",
       "      <td>116</td>\n",
       "      <td>1</td>\n",
       "      <td>NaN</td>\n",
       "      <td>NaN</td>\n",
       "      <td>{'Elise': {'items': [77, 57, 17], 'stars': 2},...</td>\n",
       "      <td>{'Cultist': 6, 'Emperor': 1, 'Keeper': 2, 'Ass...</td>\n",
       "    </tr>\n",
       "    <tr>\n",
       "      <th>3</th>\n",
       "      <td>10.19</td>\n",
       "      <td>EUW1_4817498958</td>\n",
       "      <td>O7P3r5EcNYdWWWaXR_pRtrE92G-Recxed8nwTCe5FsNBNG...</td>\n",
       "      <td>4</td>\n",
       "      <td>8</td>\n",
       "      <td>1</td>\n",
       "      <td>35</td>\n",
       "      <td>2189.656006</td>\n",
       "      <td>125</td>\n",
       "      <td>3</td>\n",
       "      <td>NaN</td>\n",
       "      <td>NaN</td>\n",
       "      <td>{'Maokai': {'items': [], 'stars': 2}, 'Hecarim...</td>\n",
       "      <td>{'Boss': 1, 'Dusk': 1, 'Assassin': 1, 'Brawler...</td>\n",
       "    </tr>\n",
       "    <tr>\n",
       "      <th>4</th>\n",
       "      <td>10.19</td>\n",
       "      <td>EUW1_4817498958</td>\n",
       "      <td>OpwDkmPPsNS2P-1XKuR_jpDkScZFzPYYbk4eUJ8gMTfVV-...</td>\n",
       "      <td>5</td>\n",
       "      <td>8</td>\n",
       "      <td>2</td>\n",
       "      <td>34</td>\n",
       "      <td>2123.929199</td>\n",
       "      <td>80</td>\n",
       "      <td>0</td>\n",
       "      <td>NaN</td>\n",
       "      <td>NaN</td>\n",
       "      <td>{'Maokai': {'items': [], 'stars': 2}, 'Irelia'...</td>\n",
       "      <td>{'Divine': 2, 'Hunter': 3, 'Adept': 2, 'Brawle...</td>\n",
       "    </tr>\n",
       "  </tbody>\n",
       "</table>\n",
       "</div>"
      ],
      "text/plain": [
       "   patch_version         match_id  \\\n",
       "0          10.19  EUW1_4817498958   \n",
       "1          10.19  EUW1_4817498958   \n",
       "2          10.19  EUW1_4817498958   \n",
       "3          10.19  EUW1_4817498958   \n",
       "4          10.19  EUW1_4817498958   \n",
       "\n",
       "                                               puuid  placement  level  \\\n",
       "0  KzseHzU3hoWVccjzPLRHVynRYxLT_Ww27nQpZSMXsa4YFp...          1      9   \n",
       "1  0i6nCStgF5A3Bg-xmHvcS9Htjxo3t-BMcGBTfgG_VDc8H0...          2      9   \n",
       "2  xbmh7BXRjtNjZaUGkiY7kPAbx85q6CqkmR2CpijLu9Icz7...          3      9   \n",
       "3  O7P3r5EcNYdWWWaXR_pRtrE92G-Recxed8nwTCe5FsNBNG...          4      8   \n",
       "4  OpwDkmPPsNS2P-1XKuR_jpDkScZFzPYYbk4eUJ8gMTfVV-...          5      8   \n",
       "\n",
       "   gold_left  last_round  time_in_game  total_dmg_to_players  \\\n",
       "0         22          40   2461.936768                   181   \n",
       "1          1          40   2461.936768                   161   \n",
       "2          1          37   2279.858154                   116   \n",
       "3          1          35   2189.656006                   125   \n",
       "4          2          34   2123.929199                    80   \n",
       "\n",
       "   players_eliminated chosen_unit chosen_trait  \\\n",
       "0                   2         NaN          NaN   \n",
       "1                   0         NaN          NaN   \n",
       "2                   1         NaN          NaN   \n",
       "3                   3         NaN          NaN   \n",
       "4                   0         NaN          NaN   \n",
       "\n",
       "                                               units  \\\n",
       "0  {'Nidalee': {'items': [99, 5, 36], 'stars': 2}...   \n",
       "1  {'Elise': {'items': [], 'stars': 2}, 'TwistedF...   \n",
       "2  {'Elise': {'items': [77, 57, 17], 'stars': 2},...   \n",
       "3  {'Maokai': {'items': [], 'stars': 2}, 'Hecarim...   \n",
       "4  {'Maokai': {'items': [], 'stars': 2}, 'Irelia'...   \n",
       "\n",
       "                                              traits  \n",
       "0  {'Divine': 1, 'Emperor': 1, 'Fortune': 3, 'Kee...  \n",
       "1  {'Cultist': 8, 'Divine': 1, 'Duelist': 2, 'Dus...  \n",
       "2  {'Cultist': 6, 'Emperor': 1, 'Keeper': 2, 'Ass...  \n",
       "3  {'Boss': 1, 'Dusk': 1, 'Assassin': 1, 'Brawler...  \n",
       "4  {'Divine': 2, 'Hunter': 3, 'Adept': 2, 'Brawle...  "
      ]
     },
     "execution_count": 3,
     "metadata": {},
     "output_type": "execute_result"
    }
   ],
   "source": [
    "df.head()"
   ]
  },
  {
   "cell_type": "code",
   "execution_count": 4,
   "id": "583bcf8e",
   "metadata": {},
   "outputs": [
    {
     "name": "stdout",
     "output_type": "stream",
     "text": [
      "<class 'pandas.core.frame.DataFrame'>\n",
      "RangeIndex: 748928 entries, 0 to 748927\n",
      "Data columns (total 14 columns):\n",
      " #   Column                Non-Null Count   Dtype  \n",
      "---  ------                --------------   -----  \n",
      " 0   patch_version         748928 non-null  float64\n",
      " 1   match_id              748928 non-null  object \n",
      " 2   puuid                 748928 non-null  object \n",
      " 3   placement             748928 non-null  int64  \n",
      " 4   level                 748928 non-null  int64  \n",
      " 5   gold_left             748928 non-null  int64  \n",
      " 6   last_round            748928 non-null  int64  \n",
      " 7   time_in_game          748928 non-null  float64\n",
      " 8   total_dmg_to_players  748928 non-null  int64  \n",
      " 9   players_eliminated    748928 non-null  int64  \n",
      " 10  chosen_unit           658668 non-null  object \n",
      " 11  chosen_trait          652603 non-null  object \n",
      " 12  units                 748928 non-null  object \n",
      " 13  traits                748928 non-null  object \n",
      "dtypes: float64(2), int64(6), object(6)\n",
      "memory usage: 80.0+ MB\n"
     ]
    }
   ],
   "source": [
    "df.info()"
   ]
  },
  {
   "cell_type": "code",
   "execution_count": 5,
   "id": "e98f4f77",
   "metadata": {},
   "outputs": [
    {
     "data": {
      "text/html": [
       "<div>\n",
       "<style scoped>\n",
       "    .dataframe tbody tr th:only-of-type {\n",
       "        vertical-align: middle;\n",
       "    }\n",
       "\n",
       "    .dataframe tbody tr th {\n",
       "        vertical-align: top;\n",
       "    }\n",
       "\n",
       "    .dataframe thead th {\n",
       "        text-align: right;\n",
       "    }\n",
       "</style>\n",
       "<table border=\"1\" class=\"dataframe\">\n",
       "  <thead>\n",
       "    <tr style=\"text-align: right;\">\n",
       "      <th></th>\n",
       "      <th>patch_version</th>\n",
       "      <th>placement</th>\n",
       "      <th>level</th>\n",
       "      <th>gold_left</th>\n",
       "      <th>last_round</th>\n",
       "      <th>time_in_game</th>\n",
       "      <th>total_dmg_to_players</th>\n",
       "      <th>players_eliminated</th>\n",
       "    </tr>\n",
       "  </thead>\n",
       "  <tbody>\n",
       "    <tr>\n",
       "      <th>count</th>\n",
       "      <td>748928.000000</td>\n",
       "      <td>748928.000000</td>\n",
       "      <td>748928.000000</td>\n",
       "      <td>748928.000000</td>\n",
       "      <td>748928.000000</td>\n",
       "      <td>748928.000000</td>\n",
       "      <td>748928.000000</td>\n",
       "      <td>748928.000000</td>\n",
       "    </tr>\n",
       "    <tr>\n",
       "      <th>mean</th>\n",
       "      <td>10.243750</td>\n",
       "      <td>4.500000</td>\n",
       "      <td>8.029120</td>\n",
       "      <td>5.332709</td>\n",
       "      <td>33.467040</td>\n",
       "      <td>1910.167032</td>\n",
       "      <td>99.177693</td>\n",
       "      <td>0.782306</td>\n",
       "    </tr>\n",
       "    <tr>\n",
       "      <th>std</th>\n",
       "      <td>0.096814</td>\n",
       "      <td>2.291289</td>\n",
       "      <td>0.644042</td>\n",
       "      <td>12.023793</td>\n",
       "      <td>4.574374</td>\n",
       "      <td>267.504057</td>\n",
       "      <td>49.174617</td>\n",
       "      <td>1.058558</td>\n",
       "    </tr>\n",
       "    <tr>\n",
       "      <th>min</th>\n",
       "      <td>10.190000</td>\n",
       "      <td>1.000000</td>\n",
       "      <td>1.000000</td>\n",
       "      <td>0.000000</td>\n",
       "      <td>0.000000</td>\n",
       "      <td>0.000000</td>\n",
       "      <td>0.000000</td>\n",
       "      <td>0.000000</td>\n",
       "    </tr>\n",
       "    <tr>\n",
       "      <th>25%</th>\n",
       "      <td>10.220000</td>\n",
       "      <td>2.750000</td>\n",
       "      <td>8.000000</td>\n",
       "      <td>0.000000</td>\n",
       "      <td>30.000000</td>\n",
       "      <td>1736.235992</td>\n",
       "      <td>62.000000</td>\n",
       "      <td>0.000000</td>\n",
       "    </tr>\n",
       "    <tr>\n",
       "      <th>50%</th>\n",
       "      <td>10.240000</td>\n",
       "      <td>4.500000</td>\n",
       "      <td>8.000000</td>\n",
       "      <td>1.000000</td>\n",
       "      <td>34.000000</td>\n",
       "      <td>1935.911377</td>\n",
       "      <td>93.000000</td>\n",
       "      <td>0.000000</td>\n",
       "    </tr>\n",
       "    <tr>\n",
       "      <th>75%</th>\n",
       "      <td>10.250000</td>\n",
       "      <td>6.250000</td>\n",
       "      <td>8.000000</td>\n",
       "      <td>4.000000</td>\n",
       "      <td>37.000000</td>\n",
       "      <td>2102.279358</td>\n",
       "      <td>131.000000</td>\n",
       "      <td>1.000000</td>\n",
       "    </tr>\n",
       "    <tr>\n",
       "      <th>max</th>\n",
       "      <td>11.100000</td>\n",
       "      <td>8.000000</td>\n",
       "      <td>9.000000</td>\n",
       "      <td>296.000000</td>\n",
       "      <td>47.000000</td>\n",
       "      <td>2821.117432</td>\n",
       "      <td>308.000000</td>\n",
       "      <td>7.000000</td>\n",
       "    </tr>\n",
       "  </tbody>\n",
       "</table>\n",
       "</div>"
      ],
      "text/plain": [
       "       patch_version      placement          level      gold_left  \\\n",
       "count  748928.000000  748928.000000  748928.000000  748928.000000   \n",
       "mean       10.243750       4.500000       8.029120       5.332709   \n",
       "std         0.096814       2.291289       0.644042      12.023793   \n",
       "min        10.190000       1.000000       1.000000       0.000000   \n",
       "25%        10.220000       2.750000       8.000000       0.000000   \n",
       "50%        10.240000       4.500000       8.000000       1.000000   \n",
       "75%        10.250000       6.250000       8.000000       4.000000   \n",
       "max        11.100000       8.000000       9.000000     296.000000   \n",
       "\n",
       "          last_round   time_in_game  total_dmg_to_players  players_eliminated  \n",
       "count  748928.000000  748928.000000         748928.000000       748928.000000  \n",
       "mean       33.467040    1910.167032             99.177693            0.782306  \n",
       "std         4.574374     267.504057             49.174617            1.058558  \n",
       "min         0.000000       0.000000              0.000000            0.000000  \n",
       "25%        30.000000    1736.235992             62.000000            0.000000  \n",
       "50%        34.000000    1935.911377             93.000000            0.000000  \n",
       "75%        37.000000    2102.279358            131.000000            1.000000  \n",
       "max        47.000000    2821.117432            308.000000            7.000000  "
      ]
     },
     "execution_count": 5,
     "metadata": {},
     "output_type": "execute_result"
    }
   ],
   "source": [
    "df.describe()"
   ]
  },
  {
   "cell_type": "code",
   "execution_count": 6,
   "id": "cc5015b1",
   "metadata": {},
   "outputs": [],
   "source": [
    "df = df[df['last_round'] > 0]"
   ]
  },
  {
   "cell_type": "code",
   "execution_count": 7,
   "id": "bf4df4db",
   "metadata": {},
   "outputs": [
    {
     "data": {
      "text/html": [
       "<div>\n",
       "<style scoped>\n",
       "    .dataframe tbody tr th:only-of-type {\n",
       "        vertical-align: middle;\n",
       "    }\n",
       "\n",
       "    .dataframe tbody tr th {\n",
       "        vertical-align: top;\n",
       "    }\n",
       "\n",
       "    .dataframe thead th {\n",
       "        text-align: right;\n",
       "    }\n",
       "</style>\n",
       "<table border=\"1\" class=\"dataframe\">\n",
       "  <thead>\n",
       "    <tr style=\"text-align: right;\">\n",
       "      <th></th>\n",
       "      <th>patch_version</th>\n",
       "      <th>placement</th>\n",
       "      <th>level</th>\n",
       "      <th>gold_left</th>\n",
       "      <th>last_round</th>\n",
       "      <th>time_in_game</th>\n",
       "      <th>total_dmg_to_players</th>\n",
       "      <th>players_eliminated</th>\n",
       "    </tr>\n",
       "  </thead>\n",
       "  <tbody>\n",
       "    <tr>\n",
       "      <th>count</th>\n",
       "      <td>748920.000000</td>\n",
       "      <td>748920.000000</td>\n",
       "      <td>748920.000000</td>\n",
       "      <td>748920.000000</td>\n",
       "      <td>748920.000000</td>\n",
       "      <td>748920.000000</td>\n",
       "      <td>748920.000000</td>\n",
       "      <td>748920.000000</td>\n",
       "    </tr>\n",
       "    <tr>\n",
       "      <th>mean</th>\n",
       "      <td>10.243750</td>\n",
       "      <td>4.500000</td>\n",
       "      <td>8.029195</td>\n",
       "      <td>5.332766</td>\n",
       "      <td>33.467397</td>\n",
       "      <td>1910.187436</td>\n",
       "      <td>99.178752</td>\n",
       "      <td>0.782315</td>\n",
       "    </tr>\n",
       "    <tr>\n",
       "      <th>std</th>\n",
       "      <td>0.096815</td>\n",
       "      <td>2.291289</td>\n",
       "      <td>0.643636</td>\n",
       "      <td>12.023844</td>\n",
       "      <td>4.573090</td>\n",
       "      <td>267.432624</td>\n",
       "      <td>49.173811</td>\n",
       "      <td>1.058561</td>\n",
       "    </tr>\n",
       "    <tr>\n",
       "      <th>min</th>\n",
       "      <td>10.190000</td>\n",
       "      <td>1.000000</td>\n",
       "      <td>1.000000</td>\n",
       "      <td>0.000000</td>\n",
       "      <td>1.000000</td>\n",
       "      <td>23.514519</td>\n",
       "      <td>0.000000</td>\n",
       "      <td>0.000000</td>\n",
       "    </tr>\n",
       "    <tr>\n",
       "      <th>25%</th>\n",
       "      <td>10.220000</td>\n",
       "      <td>2.750000</td>\n",
       "      <td>8.000000</td>\n",
       "      <td>0.000000</td>\n",
       "      <td>30.000000</td>\n",
       "      <td>1736.241363</td>\n",
       "      <td>62.000000</td>\n",
       "      <td>0.000000</td>\n",
       "    </tr>\n",
       "    <tr>\n",
       "      <th>50%</th>\n",
       "      <td>10.240000</td>\n",
       "      <td>4.500000</td>\n",
       "      <td>8.000000</td>\n",
       "      <td>1.000000</td>\n",
       "      <td>34.000000</td>\n",
       "      <td>1935.913086</td>\n",
       "      <td>93.000000</td>\n",
       "      <td>0.000000</td>\n",
       "    </tr>\n",
       "    <tr>\n",
       "      <th>75%</th>\n",
       "      <td>10.250000</td>\n",
       "      <td>6.250000</td>\n",
       "      <td>8.000000</td>\n",
       "      <td>4.000000</td>\n",
       "      <td>37.000000</td>\n",
       "      <td>2102.280090</td>\n",
       "      <td>131.000000</td>\n",
       "      <td>1.000000</td>\n",
       "    </tr>\n",
       "    <tr>\n",
       "      <th>max</th>\n",
       "      <td>11.100000</td>\n",
       "      <td>8.000000</td>\n",
       "      <td>9.000000</td>\n",
       "      <td>296.000000</td>\n",
       "      <td>47.000000</td>\n",
       "      <td>2821.117432</td>\n",
       "      <td>308.000000</td>\n",
       "      <td>7.000000</td>\n",
       "    </tr>\n",
       "  </tbody>\n",
       "</table>\n",
       "</div>"
      ],
      "text/plain": [
       "       patch_version      placement          level      gold_left  \\\n",
       "count  748920.000000  748920.000000  748920.000000  748920.000000   \n",
       "mean       10.243750       4.500000       8.029195       5.332766   \n",
       "std         0.096815       2.291289       0.643636      12.023844   \n",
       "min        10.190000       1.000000       1.000000       0.000000   \n",
       "25%        10.220000       2.750000       8.000000       0.000000   \n",
       "50%        10.240000       4.500000       8.000000       1.000000   \n",
       "75%        10.250000       6.250000       8.000000       4.000000   \n",
       "max        11.100000       8.000000       9.000000     296.000000   \n",
       "\n",
       "          last_round   time_in_game  total_dmg_to_players  players_eliminated  \n",
       "count  748920.000000  748920.000000         748920.000000       748920.000000  \n",
       "mean       33.467397    1910.187436             99.178752            0.782315  \n",
       "std         4.573090     267.432624             49.173811            1.058561  \n",
       "min         1.000000      23.514519              0.000000            0.000000  \n",
       "25%        30.000000    1736.241363             62.000000            0.000000  \n",
       "50%        34.000000    1935.913086             93.000000            0.000000  \n",
       "75%        37.000000    2102.280090            131.000000            1.000000  \n",
       "max        47.000000    2821.117432            308.000000            7.000000  "
      ]
     },
     "execution_count": 7,
     "metadata": {},
     "output_type": "execute_result"
    }
   ],
   "source": [
    "df.describe()"
   ]
  },
  {
   "cell_type": "code",
   "execution_count": 8,
   "id": "43219a23",
   "metadata": {},
   "outputs": [
    {
     "data": {
      "text/plain": [
       "array([10.19, 10.2 , 10.21, 10.22, 10.23, 10.24, 10.25, 11.1 ])"
      ]
     },
     "execution_count": 8,
     "metadata": {},
     "output_type": "execute_result"
    }
   ],
   "source": [
    "# Check which patches are covered in the dataset\n",
    "df['patch_version'].unique()"
   ]
  },
  {
   "cell_type": "code",
   "execution_count": 9,
   "id": "59ad05a7",
   "metadata": {},
   "outputs": [
    {
     "data": {
      "text/plain": [
       "<Axes: ylabel='Frequency'>"
      ]
     },
     "execution_count": 9,
     "metadata": {},
     "output_type": "execute_result"
    },
    {
     "data": {
      "image/png": "[encoded data removed]",
      "text/plain": [
       "<Figure size 640x480 with 1 Axes>"
      ]
     },
     "metadata": {},
     "output_type": "display_data"
    }
   ],
   "source": [
    "df['placement'].plot.hist()"
   ]
  },
  {
   "cell_type": "code",
   "execution_count": 10,
   "id": "87b443d4",
   "metadata": {},
   "outputs": [
    {
     "data": {
      "text/plain": [
       "<Axes: xlabel='level', ylabel='Count'>"
      ]
     },
     "execution_count": 10,
     "metadata": {},
     "output_type": "execute_result"
    },
    {
     "data": {
      "image/png": "[encoded data removed]",
      "text/plain": [
       "<Figure size 640x480 with 1 Axes>"
      ]
     },
     "metadata": {},
     "output_type": "display_data"
    }
   ],
   "source": [
    "sns.histplot(df['level'], bins = 9)"
   ]
  },
  {
   "cell_type": "code",
   "execution_count": 11,
   "id": "7f6b96ff",
   "metadata": {},
   "outputs": [
    {
     "data": {
      "text/plain": [
       "<Axes: xlabel='gold_left', ylabel='Count'>"
      ]
     },
     "execution_count": 11,
     "metadata": {},
     "output_type": "execute_result"
    },
    {
     "data": {
      "image/png": "[encoded data removed]",
      "text/plain": [
       "<Figure size 640x480 with 1 Axes>"
      ]
     },
     "metadata": {},
     "output_type": "display_data"
    }
   ],
   "source": [
    "sns.histplot(df['gold_left'],bins = 50)"
   ]
  },
  {
   "cell_type": "code",
   "execution_count": 12,
   "id": "d51b13d4",
   "metadata": {},
   "outputs": [
    {
     "data": {
      "text/plain": [
       "<Axes: xlabel='last_round', ylabel='Count'>"
      ]
     },
     "execution_count": 12,
     "metadata": {},
     "output_type": "execute_result"
    },
    {
     "data": {
      "image/png": "[encoded data removed]",
      "text/plain": [
       "<Figure size 640x480 with 1 Axes>"
      ]
     },
     "metadata": {},
     "output_type": "display_data"
    }
   ],
   "source": [
    "sns.histplot(df['last_round'], bins = 30)"
   ]
  },
  {
   "cell_type": "code",
   "execution_count": 13,
   "id": "1d52b55d",
   "metadata": {},
   "outputs": [],
   "source": [
    "# Create a new column to record whether the player made top 4\n",
    "df['top4'] = df['placement'].apply(lambda x: 1 if x < 5 else 0)"
   ]
  },
  {
   "cell_type": "code",
   "execution_count": 14,
   "id": "2240c350",
   "metadata": {},
   "outputs": [
    {
     "data": {
      "image/png": "[encoded data removed]",
      "text/plain": [
       "<Figure size 600x300 with 2 Axes>"
      ]
     },
     "metadata": {},
     "output_type": "display_data"
    }
   ],
   "source": [
    "g = sns.FacetGrid(df, col = 'top4')\n",
    "g = g.map(plt.hist, 'time_in_game', bins = 30)"
   ]
  },
  {
   "cell_type": "code",
   "execution_count": 15,
   "id": "5b3ac8b1",
   "metadata": {},
   "outputs": [
    {
     "data": {
      "image/png": "[encoded data removed]",
      "text/plain": [
       "<Figure size 600x300 with 2 Axes>"
      ]
     },
     "metadata": {},
     "output_type": "display_data"
    }
   ],
   "source": [
    "g = sns.FacetGrid(df, col = 'top4')\n",
    "g = g.map(plt.hist, 'level')"
   ]
  },
  {
   "cell_type": "code",
   "execution_count": 16,
   "id": "64148101",
   "metadata": {},
   "outputs": [
    {
     "data": {
      "image/png": "[encoded data removed]",
      "text/plain": [
       "<Figure size 600x300 with 2 Axes>"
      ]
     },
     "metadata": {},
     "output_type": "display_data"
    }
   ],
   "source": [
    "g = sns.FacetGrid(df, col = 'top4')\n",
    "g = g.map(plt.hist, 'last_round')"
   ]
  },
  {
   "cell_type": "markdown",
   "id": "e3e7e5f2",
   "metadata": {},
   "source": [
    "## Which traits and champs are in set 4?"
   ]
  },
  {
   "cell_type": "code",
   "execution_count": 17,
   "id": "a0e5510d",
   "metadata": {},
   "outputs": [],
   "source": [
    "# Convert to dictionary type\n",
    "df['traits'] = df['traits'].apply(lambda x: eval(x))\n",
    "df['units'] = df['units'].apply(lambda x: eval(x))"
   ]
  },
  {
   "cell_type": "code",
   "execution_count": 18,
   "id": "2773db19",
   "metadata": {},
   "outputs": [],
   "source": [
    "# check for unique traits & champions in the dataset\n",
    "traits = set()\n",
    "units = set()\n",
    "\n",
    "for i in range(len(df['traits'])):\n",
    "    traits = set(traits.union(list(df['traits'].iloc[i].keys())))\n",
    "    units = set(units.union(list(df['units'].iloc[i].keys())))"
   ]
  },
  {
   "cell_type": "code",
   "execution_count": 19,
   "id": "da3f1893",
   "metadata": {
    "scrolled": true
   },
   "outputs": [
    {
     "data": {
      "text/plain": [
       "{'Adept',\n",
       " 'Assassin',\n",
       " 'Boss',\n",
       " 'Brawler',\n",
       " 'Cultist',\n",
       " 'Dazzler',\n",
       " 'Divine',\n",
       " 'Duelist',\n",
       " 'Dusk',\n",
       " 'Elderwood',\n",
       " 'Emperor',\n",
       " 'Enlightened',\n",
       " 'Exile',\n",
       " 'Fortune',\n",
       " 'Hunter',\n",
       " 'Keeper',\n",
       " 'Mage',\n",
       " 'Moonlight',\n",
       " 'Mystic',\n",
       " 'Ninja',\n",
       " 'Shade',\n",
       " 'Sharpshooter',\n",
       " 'Spirit',\n",
       " 'Tormented',\n",
       " 'Vanguard',\n",
       " 'Warlord'}"
      ]
     },
     "execution_count": 19,
     "metadata": {},
     "output_type": "execute_result"
    }
   ],
   "source": [
    "traits"
   ]
  },
  {
   "cell_type": "code",
   "execution_count": 20,
   "id": "adcfa042",
   "metadata": {
    "scrolled": true
   },
   "outputs": [
    {
     "data": {
      "text/plain": [
       "{'Aatrox',\n",
       " 'Ahri',\n",
       " 'Akali',\n",
       " 'Annie',\n",
       " 'Aphelios',\n",
       " 'Ashe',\n",
       " 'Azir',\n",
       " 'Cassiopeia',\n",
       " 'Diana',\n",
       " 'Elise',\n",
       " 'Evelynn',\n",
       " 'Ezreal',\n",
       " 'Fiora',\n",
       " 'Garen',\n",
       " 'Hecarim',\n",
       " 'Irelia',\n",
       " 'Janna',\n",
       " 'JarvanIV',\n",
       " 'Jax',\n",
       " 'Jhin',\n",
       " 'Jinx',\n",
       " 'Kalista',\n",
       " 'Katarina',\n",
       " 'Kayn',\n",
       " 'Kennen',\n",
       " 'Kindred',\n",
       " 'LeeSin',\n",
       " 'Lillia',\n",
       " 'Lissandra',\n",
       " 'Lulu',\n",
       " 'Lux',\n",
       " 'Maokai',\n",
       " 'Morgana',\n",
       " 'Nami',\n",
       " 'Nidalee',\n",
       " 'Nunu',\n",
       " 'Pyke',\n",
       " 'Riven',\n",
       " 'Sejuani',\n",
       " 'Sett',\n",
       " 'Shen',\n",
       " 'Sylas',\n",
       " 'TahmKench',\n",
       " 'Talon',\n",
       " 'Teemo',\n",
       " 'Thresh',\n",
       " 'TwistedFate',\n",
       " 'Vayne',\n",
       " 'Veigar',\n",
       " 'Vi',\n",
       " 'Warwick',\n",
       " 'Wukong',\n",
       " 'XinZhao',\n",
       " 'Yasuo',\n",
       " 'Yone',\n",
       " 'Yuumi',\n",
       " 'Zed',\n",
       " 'Zilean'}"
      ]
     },
     "execution_count": 20,
     "metadata": {},
     "output_type": "execute_result"
    }
   ],
   "source": [
    "units"
   ]
  },
  {
   "cell_type": "markdown",
   "id": "3ab1b853",
   "metadata": {},
   "source": [
    "## Split the dataset into patches"
   ]
  },
  {
   "cell_type": "code",
   "execution_count": 21,
   "id": "bdab55f1",
   "metadata": {},
   "outputs": [],
   "source": [
    "df_1019 = df[df['patch_version'] == 10.19]"
   ]
  },
  {
   "cell_type": "code",
   "execution_count": 22,
   "id": "c45c31af",
   "metadata": {},
   "outputs": [],
   "source": [
    "df_1020 = df[df['patch_version'] == 10.20]"
   ]
  },
  {
   "cell_type": "code",
   "execution_count": 23,
   "id": "d22581a8",
   "metadata": {},
   "outputs": [],
   "source": [
    "df_1021 = df[df['patch_version'] == 10.21]"
   ]
  },
  {
   "cell_type": "code",
   "execution_count": 24,
   "id": "c51b517d",
   "metadata": {},
   "outputs": [],
   "source": [
    "df_1022 = df[df['patch_version'] == 10.22]"
   ]
  },
  {
   "cell_type": "code",
   "execution_count": 25,
   "id": "9f77a9ee",
   "metadata": {},
   "outputs": [],
   "source": [
    "df_1023 = df[df['patch_version'] == 10.23]"
   ]
  },
  {
   "cell_type": "code",
   "execution_count": 26,
   "id": "0482fce9",
   "metadata": {},
   "outputs": [],
   "source": [
    "df_1024 = df[df['patch_version'] == 10.24]"
   ]
  },
  {
   "cell_type": "code",
   "execution_count": 27,
   "id": "5001a35c",
   "metadata": {},
   "outputs": [],
   "source": [
    "df_1025 = df[df['patch_version'] == 10.25]"
   ]
  },
  {
   "cell_type": "code",
   "execution_count": 28,
   "id": "e75c113c",
   "metadata": {},
   "outputs": [],
   "source": [
    "df_1110 = df[df['patch_version'] == 11.10]"
   ]
  },
  {
   "cell_type": "code",
   "execution_count": 29,
   "id": "91c24a0a",
   "metadata": {},
   "outputs": [
    {
     "data": {
      "text/plain": [
       "patch_version\n",
       "10.19     22696\n",
       "10.20     42872\n",
       "10.21     61168\n",
       "10.22     97336\n",
       "10.23    102560\n",
       "10.24    154336\n",
       "10.25    258792\n",
       "11.10      9160\n",
       "Name: match_id, dtype: int64"
      ]
     },
     "execution_count": 29,
     "metadata": {},
     "output_type": "execute_result"
    }
   ],
   "source": [
    "# How many games were recorded in each patch?\n",
    "df.groupby('patch_version').count()['match_id']"
   ]
  },
  {
   "cell_type": "code",
   "execution_count": 30,
   "id": "a12e1d13",
   "metadata": {},
   "outputs": [
    {
     "name": "stderr",
     "output_type": "stream",
     "text": [
      "C:\\Users\\mainn.ho\\AppData\\Local\\Temp\\ipykernel_19380\\96055645.py:2: FutureWarning: The default value of numeric_only in DataFrameGroupBy.mean is deprecated. In a future version, numeric_only will default to False. Either specify numeric_only or select only columns which should be valid for the function.\n",
      "  df[df['top4'] == 1].groupby('patch_version').mean()['level']\n"
     ]
    },
    {
     "data": {
      "text/plain": [
       "patch_version\n",
       "10.19    8.254582\n",
       "10.20    8.218091\n",
       "10.21    8.204126\n",
       "10.22    8.232905\n",
       "10.23    8.304368\n",
       "10.24    8.393751\n",
       "10.25    8.351348\n",
       "11.10    8.323362\n",
       "Name: level, dtype: float64"
      ]
     },
     "execution_count": 30,
     "metadata": {},
     "output_type": "execute_result"
    }
   ],
   "source": [
    "# Over each patch, what is the average level of players who finished at top 4?\n",
    "df[df['top4'] == 1].groupby('patch_version').mean()['level']"
   ]
  },
  {
   "cell_type": "code",
   "execution_count": 31,
   "id": "77fd84b5",
   "metadata": {},
   "outputs": [
    {
     "name": "stderr",
     "output_type": "stream",
     "text": [
      "C:\\Users\\mainn.ho\\AppData\\Local\\Temp\\ipykernel_19380\\363019192.py:2: FutureWarning: The default value of numeric_only in DataFrameGroupBy.mean is deprecated. In a future version, numeric_only will default to False. Either specify numeric_only or select only columns which should be valid for the function.\n",
      "  df[df['placement'] == 1].groupby('patch_version').mean()['level']\n"
     ]
    },
    {
     "data": {
      "text/plain": [
       "patch_version\n",
       "10.19    8.438844\n",
       "10.20    8.420228\n",
       "10.21    8.397855\n",
       "10.22    8.435769\n",
       "10.23    8.527067\n",
       "10.24    8.661414\n",
       "10.25    8.618999\n",
       "11.10    8.586900\n",
       "Name: level, dtype: float64"
      ]
     },
     "execution_count": 31,
     "metadata": {},
     "output_type": "execute_result"
    }
   ],
   "source": [
    "# Over each patch, what is the average level of players who finished at top 1?\n",
    "df[df['placement'] == 1].groupby('patch_version').mean()['level']"
   ]
  },
  {
   "cell_type": "markdown",
   "id": "bd5aa867",
   "metadata": {},
   "source": [
    "# Which traits are the most popular over each patch?"
   ]
  },
  {
   "cell_type": "code",
   "execution_count": 32,
   "id": "c6bf5d9d",
   "metadata": {},
   "outputs": [
    {
     "data": {
      "text/html": [
       "<div>\n",
       "<style scoped>\n",
       "    .dataframe tbody tr th:only-of-type {\n",
       "        vertical-align: middle;\n",
       "    }\n",
       "\n",
       "    .dataframe tbody tr th {\n",
       "        vertical-align: top;\n",
       "    }\n",
       "\n",
       "    .dataframe thead th {\n",
       "        text-align: right;\n",
       "    }\n",
       "</style>\n",
       "<table border=\"1\" class=\"dataframe\">\n",
       "  <thead>\n",
       "    <tr style=\"text-align: right;\">\n",
       "      <th></th>\n",
       "      <th>trait_name</th>\n",
       "      <th>count</th>\n",
       "    </tr>\n",
       "  </thead>\n",
       "  <tbody>\n",
       "    <tr>\n",
       "      <th>12</th>\n",
       "      <td>Mystic</td>\n",
       "      <td>14760</td>\n",
       "    </tr>\n",
       "    <tr>\n",
       "      <th>9</th>\n",
       "      <td>Cultist</td>\n",
       "      <td>14381</td>\n",
       "    </tr>\n",
       "    <tr>\n",
       "      <th>1</th>\n",
       "      <td>Vanguard</td>\n",
       "      <td>12230</td>\n",
       "    </tr>\n",
       "    <tr>\n",
       "      <th>19</th>\n",
       "      <td>Dusk</td>\n",
       "      <td>10556</td>\n",
       "    </tr>\n",
       "    <tr>\n",
       "      <th>10</th>\n",
       "      <td>Sharpshooter</td>\n",
       "      <td>9854</td>\n",
       "    </tr>\n",
       "    <tr>\n",
       "      <th>11</th>\n",
       "      <td>Warlord</td>\n",
       "      <td>9687</td>\n",
       "    </tr>\n",
       "    <tr>\n",
       "      <th>0</th>\n",
       "      <td>Mage</td>\n",
       "      <td>9656</td>\n",
       "    </tr>\n",
       "    <tr>\n",
       "      <th>25</th>\n",
       "      <td>Brawler</td>\n",
       "      <td>9653</td>\n",
       "    </tr>\n",
       "    <tr>\n",
       "      <th>3</th>\n",
       "      <td>Fortune</td>\n",
       "      <td>9643</td>\n",
       "    </tr>\n",
       "    <tr>\n",
       "      <th>13</th>\n",
       "      <td>Keeper</td>\n",
       "      <td>9499</td>\n",
       "    </tr>\n",
       "  </tbody>\n",
       "</table>\n",
       "</div>"
      ],
      "text/plain": [
       "      trait_name  count\n",
       "12        Mystic  14760\n",
       "9        Cultist  14381\n",
       "1       Vanguard  12230\n",
       "19          Dusk  10556\n",
       "10  Sharpshooter   9854\n",
       "11       Warlord   9687\n",
       "0           Mage   9656\n",
       "25       Brawler   9653\n",
       "3        Fortune   9643\n",
       "13        Keeper   9499"
      ]
     },
     "execution_count": 32,
     "metadata": {},
     "output_type": "execute_result"
    }
   ],
   "source": [
    "# check to see how many times each trait appears in patch 10.19\n",
    "trait_cnt_1019 = dict()\n",
    "\n",
    "for t in traits:\n",
    "    trait_cnt_1019[t] = 0 \n",
    "    \n",
    "for c in df_1019['traits']:\n",
    "    for k in c.keys():\n",
    "        trait_cnt_1019[k] += 1\n",
    "\n",
    "trait_df_1019 = pd.DataFrame({\n",
    "    'trait_name': list(trait_cnt_1019.keys()),\n",
    "    'count': list(trait_cnt_1019.values())\n",
    "}, index = None)\n",
    "\n",
    "# Top 10 traits played during patch 10.19\n",
    "trait_df_1019.sort_values(by='count', ascending=False).head(10)"
   ]
  },
  {
   "cell_type": "code",
   "execution_count": 33,
   "id": "ad4a098a",
   "metadata": {},
   "outputs": [
    {
     "data": {
      "text/html": [
       "<div>\n",
       "<style scoped>\n",
       "    .dataframe tbody tr th:only-of-type {\n",
       "        vertical-align: middle;\n",
       "    }\n",
       "\n",
       "    .dataframe tbody tr th {\n",
       "        vertical-align: top;\n",
       "    }\n",
       "\n",
       "    .dataframe thead th {\n",
       "        text-align: right;\n",
       "    }\n",
       "</style>\n",
       "<table border=\"1\" class=\"dataframe\">\n",
       "  <thead>\n",
       "    <tr style=\"text-align: right;\">\n",
       "      <th></th>\n",
       "      <th>trait_name</th>\n",
       "      <th>count</th>\n",
       "    </tr>\n",
       "  </thead>\n",
       "  <tbody>\n",
       "    <tr>\n",
       "      <th>12</th>\n",
       "      <td>Mystic</td>\n",
       "      <td>30282</td>\n",
       "    </tr>\n",
       "    <tr>\n",
       "      <th>9</th>\n",
       "      <td>Cultist</td>\n",
       "      <td>26419</td>\n",
       "    </tr>\n",
       "    <tr>\n",
       "      <th>0</th>\n",
       "      <td>Mage</td>\n",
       "      <td>22110</td>\n",
       "    </tr>\n",
       "    <tr>\n",
       "      <th>1</th>\n",
       "      <td>Vanguard</td>\n",
       "      <td>20830</td>\n",
       "    </tr>\n",
       "    <tr>\n",
       "      <th>6</th>\n",
       "      <td>Spirit</td>\n",
       "      <td>20294</td>\n",
       "    </tr>\n",
       "    <tr>\n",
       "      <th>3</th>\n",
       "      <td>Fortune</td>\n",
       "      <td>19359</td>\n",
       "    </tr>\n",
       "    <tr>\n",
       "      <th>19</th>\n",
       "      <td>Dusk</td>\n",
       "      <td>18884</td>\n",
       "    </tr>\n",
       "    <tr>\n",
       "      <th>23</th>\n",
       "      <td>Divine</td>\n",
       "      <td>18549</td>\n",
       "    </tr>\n",
       "    <tr>\n",
       "      <th>4</th>\n",
       "      <td>Ninja</td>\n",
       "      <td>17342</td>\n",
       "    </tr>\n",
       "    <tr>\n",
       "      <th>17</th>\n",
       "      <td>Enlightened</td>\n",
       "      <td>17313</td>\n",
       "    </tr>\n",
       "  </tbody>\n",
       "</table>\n",
       "</div>"
      ],
      "text/plain": [
       "     trait_name  count\n",
       "12       Mystic  30282\n",
       "9       Cultist  26419\n",
       "0          Mage  22110\n",
       "1      Vanguard  20830\n",
       "6        Spirit  20294\n",
       "3       Fortune  19359\n",
       "19         Dusk  18884\n",
       "23       Divine  18549\n",
       "4         Ninja  17342\n",
       "17  Enlightened  17313"
      ]
     },
     "execution_count": 33,
     "metadata": {},
     "output_type": "execute_result"
    }
   ],
   "source": [
    "# check to see how many times each trait appears in patch 10.20\n",
    "trait_cnt_1020 = dict()\n",
    "\n",
    "for t in traits:\n",
    "    trait_cnt_1020[t] = 0 \n",
    "    \n",
    "for c in df_1020['traits']:\n",
    "    for k in c.keys():\n",
    "        trait_cnt_1020[k] += 1\n",
    "\n",
    "trait_df_1020 = pd.DataFrame({\n",
    "    'trait_name': list(trait_cnt_1020.keys()),\n",
    "    'count': list(trait_cnt_1020.values())\n",
    "}, index = None)\n",
    "\n",
    "# Top 10 traits played during patch 10.20\n",
    "trait_df_1020.sort_values(by='count', ascending=False).head(10)"
   ]
  },
  {
   "cell_type": "code",
   "execution_count": 34,
   "id": "76412db4",
   "metadata": {},
   "outputs": [
    {
     "data": {
      "text/html": [
       "<div>\n",
       "<style scoped>\n",
       "    .dataframe tbody tr th:only-of-type {\n",
       "        vertical-align: middle;\n",
       "    }\n",
       "\n",
       "    .dataframe tbody tr th {\n",
       "        vertical-align: top;\n",
       "    }\n",
       "\n",
       "    .dataframe thead th {\n",
       "        text-align: right;\n",
       "    }\n",
       "</style>\n",
       "<table border=\"1\" class=\"dataframe\">\n",
       "  <thead>\n",
       "    <tr style=\"text-align: right;\">\n",
       "      <th></th>\n",
       "      <th>trait_name</th>\n",
       "      <th>count</th>\n",
       "    </tr>\n",
       "  </thead>\n",
       "  <tbody>\n",
       "    <tr>\n",
       "      <th>12</th>\n",
       "      <td>Mystic</td>\n",
       "      <td>45068</td>\n",
       "    </tr>\n",
       "    <tr>\n",
       "      <th>9</th>\n",
       "      <td>Cultist</td>\n",
       "      <td>41808</td>\n",
       "    </tr>\n",
       "    <tr>\n",
       "      <th>21</th>\n",
       "      <td>Adept</td>\n",
       "      <td>34087</td>\n",
       "    </tr>\n",
       "    <tr>\n",
       "      <th>4</th>\n",
       "      <td>Ninja</td>\n",
       "      <td>33940</td>\n",
       "    </tr>\n",
       "    <tr>\n",
       "      <th>1</th>\n",
       "      <td>Vanguard</td>\n",
       "      <td>33362</td>\n",
       "    </tr>\n",
       "    <tr>\n",
       "      <th>3</th>\n",
       "      <td>Fortune</td>\n",
       "      <td>33193</td>\n",
       "    </tr>\n",
       "    <tr>\n",
       "      <th>17</th>\n",
       "      <td>Enlightened</td>\n",
       "      <td>31056</td>\n",
       "    </tr>\n",
       "    <tr>\n",
       "      <th>19</th>\n",
       "      <td>Dusk</td>\n",
       "      <td>28810</td>\n",
       "    </tr>\n",
       "    <tr>\n",
       "      <th>6</th>\n",
       "      <td>Spirit</td>\n",
       "      <td>28446</td>\n",
       "    </tr>\n",
       "    <tr>\n",
       "      <th>23</th>\n",
       "      <td>Divine</td>\n",
       "      <td>27966</td>\n",
       "    </tr>\n",
       "  </tbody>\n",
       "</table>\n",
       "</div>"
      ],
      "text/plain": [
       "     trait_name  count\n",
       "12       Mystic  45068\n",
       "9       Cultist  41808\n",
       "21        Adept  34087\n",
       "4         Ninja  33940\n",
       "1      Vanguard  33362\n",
       "3       Fortune  33193\n",
       "17  Enlightened  31056\n",
       "19         Dusk  28810\n",
       "6        Spirit  28446\n",
       "23       Divine  27966"
      ]
     },
     "execution_count": 34,
     "metadata": {},
     "output_type": "execute_result"
    }
   ],
   "source": [
    "# check to see how many times each trait appears in patch 10.21\n",
    "trait_cnt_1021 = dict()\n",
    "\n",
    "for t in traits:\n",
    "    trait_cnt_1021[t] = 0 \n",
    "    \n",
    "for c in df_1021['traits']:\n",
    "    for k in c.keys():\n",
    "        trait_cnt_1021[k] += 1\n",
    "\n",
    "trait_df_1021 = pd.DataFrame({\n",
    "    'trait_name': list(trait_cnt_1021.keys()),\n",
    "    'count': list(trait_cnt_1021.values())\n",
    "}, index = None)\n",
    "\n",
    "# Top 10 traits played during patch 10.21\n",
    "trait_df_1021.sort_values(by='count', ascending=False).head(10)"
   ]
  },
  {
   "cell_type": "code",
   "execution_count": 35,
   "id": "27a08b9f",
   "metadata": {},
   "outputs": [
    {
     "data": {
      "text/html": [
       "<div>\n",
       "<style scoped>\n",
       "    .dataframe tbody tr th:only-of-type {\n",
       "        vertical-align: middle;\n",
       "    }\n",
       "\n",
       "    .dataframe tbody tr th {\n",
       "        vertical-align: top;\n",
       "    }\n",
       "\n",
       "    .dataframe thead th {\n",
       "        text-align: right;\n",
       "    }\n",
       "</style>\n",
       "<table border=\"1\" class=\"dataframe\">\n",
       "  <thead>\n",
       "    <tr style=\"text-align: right;\">\n",
       "      <th></th>\n",
       "      <th>trait_name</th>\n",
       "      <th>count</th>\n",
       "    </tr>\n",
       "  </thead>\n",
       "  <tbody>\n",
       "    <tr>\n",
       "      <th>12</th>\n",
       "      <td>Mystic</td>\n",
       "      <td>75334</td>\n",
       "    </tr>\n",
       "    <tr>\n",
       "      <th>9</th>\n",
       "      <td>Cultist</td>\n",
       "      <td>63115</td>\n",
       "    </tr>\n",
       "    <tr>\n",
       "      <th>23</th>\n",
       "      <td>Divine</td>\n",
       "      <td>59515</td>\n",
       "    </tr>\n",
       "    <tr>\n",
       "      <th>21</th>\n",
       "      <td>Adept</td>\n",
       "      <td>58079</td>\n",
       "    </tr>\n",
       "    <tr>\n",
       "      <th>4</th>\n",
       "      <td>Ninja</td>\n",
       "      <td>54933</td>\n",
       "    </tr>\n",
       "    <tr>\n",
       "      <th>17</th>\n",
       "      <td>Enlightened</td>\n",
       "      <td>53323</td>\n",
       "    </tr>\n",
       "    <tr>\n",
       "      <th>1</th>\n",
       "      <td>Vanguard</td>\n",
       "      <td>45931</td>\n",
       "    </tr>\n",
       "    <tr>\n",
       "      <th>8</th>\n",
       "      <td>Dazzler</td>\n",
       "      <td>44802</td>\n",
       "    </tr>\n",
       "    <tr>\n",
       "      <th>13</th>\n",
       "      <td>Keeper</td>\n",
       "      <td>38690</td>\n",
       "    </tr>\n",
       "    <tr>\n",
       "      <th>3</th>\n",
       "      <td>Fortune</td>\n",
       "      <td>38397</td>\n",
       "    </tr>\n",
       "  </tbody>\n",
       "</table>\n",
       "</div>"
      ],
      "text/plain": [
       "     trait_name  count\n",
       "12       Mystic  75334\n",
       "9       Cultist  63115\n",
       "23       Divine  59515\n",
       "21        Adept  58079\n",
       "4         Ninja  54933\n",
       "17  Enlightened  53323\n",
       "1      Vanguard  45931\n",
       "8       Dazzler  44802\n",
       "13       Keeper  38690\n",
       "3       Fortune  38397"
      ]
     },
     "execution_count": 35,
     "metadata": {},
     "output_type": "execute_result"
    }
   ],
   "source": [
    "# check to see how many times each trait appears in patch 10.22\n",
    "trait_cnt_1022 = dict()\n",
    "\n",
    "for t in traits:\n",
    "    trait_cnt_1022[t] = 0 \n",
    "    \n",
    "for c in df_1022['traits']:\n",
    "    for k in c.keys():\n",
    "        trait_cnt_1022[k] += 1\n",
    "\n",
    "trait_df_1022 = pd.DataFrame({\n",
    "    'trait_name': list(trait_cnt_1022.keys()),\n",
    "    'count': list(trait_cnt_1022.values())\n",
    "}, index = None)\n",
    "\n",
    "# Top 10 traits played during patch 10.22\n",
    "trait_df_1022.sort_values(by='count', ascending=False).head(10)"
   ]
  },
  {
   "cell_type": "code",
   "execution_count": 36,
   "id": "a87d4181",
   "metadata": {},
   "outputs": [
    {
     "data": {
      "text/html": [
       "<div>\n",
       "<style scoped>\n",
       "    .dataframe tbody tr th:only-of-type {\n",
       "        vertical-align: middle;\n",
       "    }\n",
       "\n",
       "    .dataframe tbody tr th {\n",
       "        vertical-align: top;\n",
       "    }\n",
       "\n",
       "    .dataframe thead th {\n",
       "        text-align: right;\n",
       "    }\n",
       "</style>\n",
       "<table border=\"1\" class=\"dataframe\">\n",
       "  <thead>\n",
       "    <tr style=\"text-align: right;\">\n",
       "      <th></th>\n",
       "      <th>trait_name</th>\n",
       "      <th>count</th>\n",
       "    </tr>\n",
       "  </thead>\n",
       "  <tbody>\n",
       "    <tr>\n",
       "      <th>12</th>\n",
       "      <td>Mystic</td>\n",
       "      <td>81383</td>\n",
       "    </tr>\n",
       "    <tr>\n",
       "      <th>9</th>\n",
       "      <td>Cultist</td>\n",
       "      <td>70694</td>\n",
       "    </tr>\n",
       "    <tr>\n",
       "      <th>21</th>\n",
       "      <td>Adept</td>\n",
       "      <td>59690</td>\n",
       "    </tr>\n",
       "    <tr>\n",
       "      <th>23</th>\n",
       "      <td>Divine</td>\n",
       "      <td>58827</td>\n",
       "    </tr>\n",
       "    <tr>\n",
       "      <th>4</th>\n",
       "      <td>Ninja</td>\n",
       "      <td>56047</td>\n",
       "    </tr>\n",
       "    <tr>\n",
       "      <th>17</th>\n",
       "      <td>Enlightened</td>\n",
       "      <td>52751</td>\n",
       "    </tr>\n",
       "    <tr>\n",
       "      <th>13</th>\n",
       "      <td>Keeper</td>\n",
       "      <td>49692</td>\n",
       "    </tr>\n",
       "    <tr>\n",
       "      <th>1</th>\n",
       "      <td>Vanguard</td>\n",
       "      <td>49118</td>\n",
       "    </tr>\n",
       "    <tr>\n",
       "      <th>8</th>\n",
       "      <td>Dazzler</td>\n",
       "      <td>45636</td>\n",
       "    </tr>\n",
       "    <tr>\n",
       "      <th>11</th>\n",
       "      <td>Warlord</td>\n",
       "      <td>42504</td>\n",
       "    </tr>\n",
       "  </tbody>\n",
       "</table>\n",
       "</div>"
      ],
      "text/plain": [
       "     trait_name  count\n",
       "12       Mystic  81383\n",
       "9       Cultist  70694\n",
       "21        Adept  59690\n",
       "23       Divine  58827\n",
       "4         Ninja  56047\n",
       "17  Enlightened  52751\n",
       "13       Keeper  49692\n",
       "1      Vanguard  49118\n",
       "8       Dazzler  45636\n",
       "11      Warlord  42504"
      ]
     },
     "execution_count": 36,
     "metadata": {},
     "output_type": "execute_result"
    }
   ],
   "source": [
    "# check to see how many times each trait appears in patch 10.23\n",
    "trait_cnt_1023 = dict()\n",
    "\n",
    "for t in traits:\n",
    "    trait_cnt_1023[t] = 0 \n",
    "    \n",
    "for c in df_1023['traits']:\n",
    "    for k in c.keys():\n",
    "        trait_cnt_1023[k] += 1\n",
    "\n",
    "trait_df_1023 = pd.DataFrame({\n",
    "    'trait_name': list(trait_cnt_1023.keys()),\n",
    "    'count': list(trait_cnt_1023.values())\n",
    "}, index = None)\n",
    "\n",
    "# Top 10 traits played during patch 10.23\n",
    "trait_df_1023.sort_values(by='count', ascending=False).head(10)"
   ]
  },
  {
   "cell_type": "code",
   "execution_count": 37,
   "id": "0a8cdf93",
   "metadata": {},
   "outputs": [
    {
     "data": {
      "text/html": [
       "<div>\n",
       "<style scoped>\n",
       "    .dataframe tbody tr th:only-of-type {\n",
       "        vertical-align: middle;\n",
       "    }\n",
       "\n",
       "    .dataframe tbody tr th {\n",
       "        vertical-align: top;\n",
       "    }\n",
       "\n",
       "    .dataframe thead th {\n",
       "        text-align: right;\n",
       "    }\n",
       "</style>\n",
       "<table border=\"1\" class=\"dataframe\">\n",
       "  <thead>\n",
       "    <tr style=\"text-align: right;\">\n",
       "      <th></th>\n",
       "      <th>trait_name</th>\n",
       "      <th>count</th>\n",
       "    </tr>\n",
       "  </thead>\n",
       "  <tbody>\n",
       "    <tr>\n",
       "      <th>12</th>\n",
       "      <td>Mystic</td>\n",
       "      <td>115977</td>\n",
       "    </tr>\n",
       "    <tr>\n",
       "      <th>9</th>\n",
       "      <td>Cultist</td>\n",
       "      <td>105205</td>\n",
       "    </tr>\n",
       "    <tr>\n",
       "      <th>21</th>\n",
       "      <td>Adept</td>\n",
       "      <td>95204</td>\n",
       "    </tr>\n",
       "    <tr>\n",
       "      <th>13</th>\n",
       "      <td>Keeper</td>\n",
       "      <td>92306</td>\n",
       "    </tr>\n",
       "    <tr>\n",
       "      <th>4</th>\n",
       "      <td>Ninja</td>\n",
       "      <td>84294</td>\n",
       "    </tr>\n",
       "    <tr>\n",
       "      <th>11</th>\n",
       "      <td>Warlord</td>\n",
       "      <td>79605</td>\n",
       "    </tr>\n",
       "    <tr>\n",
       "      <th>25</th>\n",
       "      <td>Brawler</td>\n",
       "      <td>75519</td>\n",
       "    </tr>\n",
       "    <tr>\n",
       "      <th>23</th>\n",
       "      <td>Divine</td>\n",
       "      <td>75193</td>\n",
       "    </tr>\n",
       "    <tr>\n",
       "      <th>1</th>\n",
       "      <td>Vanguard</td>\n",
       "      <td>72392</td>\n",
       "    </tr>\n",
       "    <tr>\n",
       "      <th>19</th>\n",
       "      <td>Dusk</td>\n",
       "      <td>71456</td>\n",
       "    </tr>\n",
       "  </tbody>\n",
       "</table>\n",
       "</div>"
      ],
      "text/plain": [
       "   trait_name   count\n",
       "12     Mystic  115977\n",
       "9     Cultist  105205\n",
       "21      Adept   95204\n",
       "13     Keeper   92306\n",
       "4       Ninja   84294\n",
       "11    Warlord   79605\n",
       "25    Brawler   75519\n",
       "23     Divine   75193\n",
       "1    Vanguard   72392\n",
       "19       Dusk   71456"
      ]
     },
     "execution_count": 37,
     "metadata": {},
     "output_type": "execute_result"
    }
   ],
   "source": [
    "# check to see how many times each trait appears in patch 10.24\n",
    "trait_cnt_1024 = dict()\n",
    "\n",
    "for t in traits:\n",
    "    trait_cnt_1024[t] = 0 \n",
    "    \n",
    "for c in df_1024['traits']:\n",
    "    for k in c.keys():\n",
    "        trait_cnt_1024[k] += 1\n",
    "\n",
    "trait_df_1024 = pd.DataFrame({\n",
    "    'trait_name': list(trait_cnt_1024.keys()),\n",
    "    'count': list(trait_cnt_1024.values())\n",
    "}, index = None)\n",
    "\n",
    "# Top 10 traits played during patch 10.24\n",
    "trait_df_1024.sort_values(by='count', ascending=False).head(10)"
   ]
  },
  {
   "cell_type": "code",
   "execution_count": 38,
   "id": "3d843135",
   "metadata": {},
   "outputs": [
    {
     "data": {
      "text/html": [
       "<div>\n",
       "<style scoped>\n",
       "    .dataframe tbody tr th:only-of-type {\n",
       "        vertical-align: middle;\n",
       "    }\n",
       "\n",
       "    .dataframe tbody tr th {\n",
       "        vertical-align: top;\n",
       "    }\n",
       "\n",
       "    .dataframe thead th {\n",
       "        text-align: right;\n",
       "    }\n",
       "</style>\n",
       "<table border=\"1\" class=\"dataframe\">\n",
       "  <thead>\n",
       "    <tr style=\"text-align: right;\">\n",
       "      <th></th>\n",
       "      <th>trait_name</th>\n",
       "      <th>count</th>\n",
       "    </tr>\n",
       "  </thead>\n",
       "  <tbody>\n",
       "    <tr>\n",
       "      <th>12</th>\n",
       "      <td>Mystic</td>\n",
       "      <td>188843</td>\n",
       "    </tr>\n",
       "    <tr>\n",
       "      <th>9</th>\n",
       "      <td>Cultist</td>\n",
       "      <td>156768</td>\n",
       "    </tr>\n",
       "    <tr>\n",
       "      <th>21</th>\n",
       "      <td>Adept</td>\n",
       "      <td>145212</td>\n",
       "    </tr>\n",
       "    <tr>\n",
       "      <th>25</th>\n",
       "      <td>Brawler</td>\n",
       "      <td>141232</td>\n",
       "    </tr>\n",
       "    <tr>\n",
       "      <th>13</th>\n",
       "      <td>Keeper</td>\n",
       "      <td>133624</td>\n",
       "    </tr>\n",
       "    <tr>\n",
       "      <th>19</th>\n",
       "      <td>Dusk</td>\n",
       "      <td>124032</td>\n",
       "    </tr>\n",
       "    <tr>\n",
       "      <th>23</th>\n",
       "      <td>Divine</td>\n",
       "      <td>122576</td>\n",
       "    </tr>\n",
       "    <tr>\n",
       "      <th>4</th>\n",
       "      <td>Ninja</td>\n",
       "      <td>120643</td>\n",
       "    </tr>\n",
       "    <tr>\n",
       "      <th>11</th>\n",
       "      <td>Warlord</td>\n",
       "      <td>118699</td>\n",
       "    </tr>\n",
       "    <tr>\n",
       "      <th>1</th>\n",
       "      <td>Vanguard</td>\n",
       "      <td>115958</td>\n",
       "    </tr>\n",
       "  </tbody>\n",
       "</table>\n",
       "</div>"
      ],
      "text/plain": [
       "   trait_name   count\n",
       "12     Mystic  188843\n",
       "9     Cultist  156768\n",
       "21      Adept  145212\n",
       "25    Brawler  141232\n",
       "13     Keeper  133624\n",
       "19       Dusk  124032\n",
       "23     Divine  122576\n",
       "4       Ninja  120643\n",
       "11    Warlord  118699\n",
       "1    Vanguard  115958"
      ]
     },
     "execution_count": 38,
     "metadata": {},
     "output_type": "execute_result"
    }
   ],
   "source": [
    "# check to see how many times each trait appears in patch 10.25\n",
    "trait_cnt_1025 = dict()\n",
    "\n",
    "for t in traits:\n",
    "    trait_cnt_1025[t] = 0 \n",
    "    \n",
    "for c in df_1025['traits']:\n",
    "    for k in c.keys():\n",
    "        trait_cnt_1025[k] += 1\n",
    "\n",
    "trait_df_1025 = pd.DataFrame({\n",
    "    'trait_name': list(trait_cnt_1025.keys()),\n",
    "    'count': list(trait_cnt_1025.values())\n",
    "}, index = None)\n",
    "\n",
    "# Top 10 traits played during patch 10.25\n",
    "trait_df_1025.sort_values(by='count', ascending=False).head(10)"
   ]
  },
  {
   "cell_type": "code",
   "execution_count": 39,
   "id": "d33572ea",
   "metadata": {},
   "outputs": [
    {
     "data": {
      "text/html": [
       "<div>\n",
       "<style scoped>\n",
       "    .dataframe tbody tr th:only-of-type {\n",
       "        vertical-align: middle;\n",
       "    }\n",
       "\n",
       "    .dataframe tbody tr th {\n",
       "        vertical-align: top;\n",
       "    }\n",
       "\n",
       "    .dataframe thead th {\n",
       "        text-align: right;\n",
       "    }\n",
       "</style>\n",
       "<table border=\"1\" class=\"dataframe\">\n",
       "  <thead>\n",
       "    <tr style=\"text-align: right;\">\n",
       "      <th></th>\n",
       "      <th>trait_name</th>\n",
       "      <th>count</th>\n",
       "    </tr>\n",
       "  </thead>\n",
       "  <tbody>\n",
       "    <tr>\n",
       "      <th>12</th>\n",
       "      <td>Mystic</td>\n",
       "      <td>7203</td>\n",
       "    </tr>\n",
       "    <tr>\n",
       "      <th>9</th>\n",
       "      <td>Cultist</td>\n",
       "      <td>5700</td>\n",
       "    </tr>\n",
       "    <tr>\n",
       "      <th>21</th>\n",
       "      <td>Adept</td>\n",
       "      <td>5700</td>\n",
       "    </tr>\n",
       "    <tr>\n",
       "      <th>4</th>\n",
       "      <td>Ninja</td>\n",
       "      <td>4762</td>\n",
       "    </tr>\n",
       "    <tr>\n",
       "      <th>13</th>\n",
       "      <td>Keeper</td>\n",
       "      <td>4700</td>\n",
       "    </tr>\n",
       "    <tr>\n",
       "      <th>25</th>\n",
       "      <td>Brawler</td>\n",
       "      <td>4549</td>\n",
       "    </tr>\n",
       "    <tr>\n",
       "      <th>23</th>\n",
       "      <td>Divine</td>\n",
       "      <td>4377</td>\n",
       "    </tr>\n",
       "    <tr>\n",
       "      <th>19</th>\n",
       "      <td>Dusk</td>\n",
       "      <td>4311</td>\n",
       "    </tr>\n",
       "    <tr>\n",
       "      <th>1</th>\n",
       "      <td>Vanguard</td>\n",
       "      <td>4144</td>\n",
       "    </tr>\n",
       "    <tr>\n",
       "      <th>11</th>\n",
       "      <td>Warlord</td>\n",
       "      <td>4091</td>\n",
       "    </tr>\n",
       "  </tbody>\n",
       "</table>\n",
       "</div>"
      ],
      "text/plain": [
       "   trait_name  count\n",
       "12     Mystic   7203\n",
       "9     Cultist   5700\n",
       "21      Adept   5700\n",
       "4       Ninja   4762\n",
       "13     Keeper   4700\n",
       "25    Brawler   4549\n",
       "23     Divine   4377\n",
       "19       Dusk   4311\n",
       "1    Vanguard   4144\n",
       "11    Warlord   4091"
      ]
     },
     "execution_count": 39,
     "metadata": {},
     "output_type": "execute_result"
    }
   ],
   "source": [
    "# check to see how many times each trait appears in patch 11.10\n",
    "trait_cnt_1110 = dict()\n",
    "\n",
    "for t in traits:\n",
    "    trait_cnt_1110[t] = 0 \n",
    "    \n",
    "for c in df_1110['traits']:\n",
    "    for k in c.keys():\n",
    "        trait_cnt_1110[k] += 1\n",
    "\n",
    "trait_df_1110 = pd.DataFrame({\n",
    "    'trait_name': list(trait_cnt_1110.keys()),\n",
    "    'count': list(trait_cnt_1110.values())\n",
    "}, index = None)\n",
    "\n",
    "# Top 10 traits played during patch 11.10\n",
    "trait_df_1110.sort_values(by='count', ascending=False).head(10)"
   ]
  },
  {
   "cell_type": "markdown",
   "id": "2b11ab8b",
   "metadata": {},
   "source": [
    "### Mystic, Cultist, and Adept have been consistently the 3 most popular traits through all the patches"
   ]
  },
  {
   "cell_type": "markdown",
   "id": "80315b04",
   "metadata": {},
   "source": [
    "## Which units are the most popular over the patches?"
   ]
  },
  {
   "cell_type": "code",
   "execution_count": 40,
   "id": "57af4c8d",
   "metadata": {},
   "outputs": [
    {
     "data": {
      "text/html": [
       "<div>\n",
       "<style scoped>\n",
       "    .dataframe tbody tr th:only-of-type {\n",
       "        vertical-align: middle;\n",
       "    }\n",
       "\n",
       "    .dataframe tbody tr th {\n",
       "        vertical-align: top;\n",
       "    }\n",
       "\n",
       "    .dataframe thead th {\n",
       "        text-align: right;\n",
       "    }\n",
       "</style>\n",
       "<table border=\"1\" class=\"dataframe\">\n",
       "  <thead>\n",
       "    <tr style=\"text-align: right;\">\n",
       "      <th></th>\n",
       "      <th>unit_name</th>\n",
       "      <th>count</th>\n",
       "    </tr>\n",
       "  </thead>\n",
       "  <tbody>\n",
       "    <tr>\n",
       "      <th>52</th>\n",
       "      <td>Cassiopeia</td>\n",
       "      <td>7967</td>\n",
       "    </tr>\n",
       "    <tr>\n",
       "      <th>8</th>\n",
       "      <td>Aatrox</td>\n",
       "      <td>7520</td>\n",
       "    </tr>\n",
       "    <tr>\n",
       "      <th>20</th>\n",
       "      <td>Riven</td>\n",
       "      <td>6294</td>\n",
       "    </tr>\n",
       "    <tr>\n",
       "      <th>32</th>\n",
       "      <td>Zilean</td>\n",
       "      <td>6113</td>\n",
       "    </tr>\n",
       "    <tr>\n",
       "      <th>31</th>\n",
       "      <td>Jhin</td>\n",
       "      <td>6077</td>\n",
       "    </tr>\n",
       "    <tr>\n",
       "      <th>17</th>\n",
       "      <td>Thresh</td>\n",
       "      <td>5894</td>\n",
       "    </tr>\n",
       "    <tr>\n",
       "      <th>46</th>\n",
       "      <td>Sett</td>\n",
       "      <td>5824</td>\n",
       "    </tr>\n",
       "    <tr>\n",
       "      <th>41</th>\n",
       "      <td>Yuumi</td>\n",
       "      <td>5700</td>\n",
       "    </tr>\n",
       "    <tr>\n",
       "      <th>9</th>\n",
       "      <td>Warwick</td>\n",
       "      <td>5548</td>\n",
       "    </tr>\n",
       "    <tr>\n",
       "      <th>23</th>\n",
       "      <td>Nunu</td>\n",
       "      <td>5135</td>\n",
       "    </tr>\n",
       "  </tbody>\n",
       "</table>\n",
       "</div>"
      ],
      "text/plain": [
       "     unit_name  count\n",
       "52  Cassiopeia   7967\n",
       "8       Aatrox   7520\n",
       "20       Riven   6294\n",
       "32      Zilean   6113\n",
       "31        Jhin   6077\n",
       "17      Thresh   5894\n",
       "46        Sett   5824\n",
       "41       Yuumi   5700\n",
       "9      Warwick   5548\n",
       "23        Nunu   5135"
      ]
     },
     "execution_count": 40,
     "metadata": {},
     "output_type": "execute_result"
    }
   ],
   "source": [
    "# check to see how many times each unit appears in patch 10.19\n",
    "unit_cnt_1019 = dict()\n",
    "\n",
    "for u in units:\n",
    "    unit_cnt_1019[u] = 0 \n",
    "    \n",
    "for c in df_1019['units']:\n",
    "    for k in c.keys():\n",
    "        unit_cnt_1019[k] += 1\n",
    "\n",
    "unit_df_1019 = pd.DataFrame({\n",
    "    'unit_name': list(unit_cnt_1019.keys()),\n",
    "    'count': list(unit_cnt_1019.values())\n",
    "}, index = None)\n",
    "\n",
    "# Top 10 units played during patch 10.19\n",
    "unit_df_1019.sort_values(by='count', ascending=False).head(10)"
   ]
  },
  {
   "cell_type": "code",
   "execution_count": 41,
   "id": "b96bcb57",
   "metadata": {},
   "outputs": [
    {
     "data": {
      "text/html": [
       "<div>\n",
       "<style scoped>\n",
       "    .dataframe tbody tr th:only-of-type {\n",
       "        vertical-align: middle;\n",
       "    }\n",
       "\n",
       "    .dataframe tbody tr th {\n",
       "        vertical-align: top;\n",
       "    }\n",
       "\n",
       "    .dataframe thead th {\n",
       "        text-align: right;\n",
       "    }\n",
       "</style>\n",
       "<table border=\"1\" class=\"dataframe\">\n",
       "  <thead>\n",
       "    <tr style=\"text-align: right;\">\n",
       "      <th></th>\n",
       "      <th>unit_name</th>\n",
       "      <th>count</th>\n",
       "    </tr>\n",
       "  </thead>\n",
       "  <tbody>\n",
       "    <tr>\n",
       "      <th>41</th>\n",
       "      <td>Yuumi</td>\n",
       "      <td>14690</td>\n",
       "    </tr>\n",
       "    <tr>\n",
       "      <th>52</th>\n",
       "      <td>Cassiopeia</td>\n",
       "      <td>14192</td>\n",
       "    </tr>\n",
       "    <tr>\n",
       "      <th>39</th>\n",
       "      <td>Ahri</td>\n",
       "      <td>13778</td>\n",
       "    </tr>\n",
       "    <tr>\n",
       "      <th>10</th>\n",
       "      <td>Shen</td>\n",
       "      <td>11972</td>\n",
       "    </tr>\n",
       "    <tr>\n",
       "      <th>28</th>\n",
       "      <td>Janna</td>\n",
       "      <td>11764</td>\n",
       "    </tr>\n",
       "    <tr>\n",
       "      <th>44</th>\n",
       "      <td>Sejuani</td>\n",
       "      <td>11433</td>\n",
       "    </tr>\n",
       "    <tr>\n",
       "      <th>17</th>\n",
       "      <td>Thresh</td>\n",
       "      <td>10791</td>\n",
       "    </tr>\n",
       "    <tr>\n",
       "      <th>32</th>\n",
       "      <td>Zilean</td>\n",
       "      <td>10410</td>\n",
       "    </tr>\n",
       "    <tr>\n",
       "      <th>8</th>\n",
       "      <td>Aatrox</td>\n",
       "      <td>10296</td>\n",
       "    </tr>\n",
       "    <tr>\n",
       "      <th>23</th>\n",
       "      <td>Nunu</td>\n",
       "      <td>9097</td>\n",
       "    </tr>\n",
       "  </tbody>\n",
       "</table>\n",
       "</div>"
      ],
      "text/plain": [
       "     unit_name  count\n",
       "41       Yuumi  14690\n",
       "52  Cassiopeia  14192\n",
       "39        Ahri  13778\n",
       "10        Shen  11972\n",
       "28       Janna  11764\n",
       "44     Sejuani  11433\n",
       "17      Thresh  10791\n",
       "32      Zilean  10410\n",
       "8       Aatrox  10296\n",
       "23        Nunu   9097"
      ]
     },
     "execution_count": 41,
     "metadata": {},
     "output_type": "execute_result"
    }
   ],
   "source": [
    "# check to see how many times each unit appears in patch 10.20\n",
    "unit_cnt_1020 = dict()\n",
    "\n",
    "for u in units:\n",
    "    unit_cnt_1020[u] = 0 \n",
    "    \n",
    "for c in df_1020['units']:\n",
    "    for k in c.keys():\n",
    "        unit_cnt_1020[k] += 1\n",
    "\n",
    "unit_df_1020 = pd.DataFrame({\n",
    "    'unit_name': list(unit_cnt_1020.keys()),\n",
    "    'count': list(unit_cnt_1020.values())\n",
    "}, index = None)\n",
    "\n",
    "# Top 10 units played during patch 10.20\n",
    "unit_df_1020.sort_values(by='count', ascending=False).head(10)"
   ]
  },
  {
   "cell_type": "markdown",
   "id": "cde88272",
   "metadata": {},
   "source": [
    "### Yuumi suddenly came out on top. Probably due to a buff \n",
    "### Sejuani made top 10"
   ]
  },
  {
   "cell_type": "code",
   "execution_count": 42,
   "id": "6eb51d90",
   "metadata": {},
   "outputs": [
    {
     "data": {
      "text/html": [
       "<div>\n",
       "<style scoped>\n",
       "    .dataframe tbody tr th:only-of-type {\n",
       "        vertical-align: middle;\n",
       "    }\n",
       "\n",
       "    .dataframe tbody tr th {\n",
       "        vertical-align: top;\n",
       "    }\n",
       "\n",
       "    .dataframe thead th {\n",
       "        text-align: right;\n",
       "    }\n",
       "</style>\n",
       "<table border=\"1\" class=\"dataframe\">\n",
       "  <thead>\n",
       "    <tr style=\"text-align: right;\">\n",
       "      <th></th>\n",
       "      <th>unit_name</th>\n",
       "      <th>count</th>\n",
       "    </tr>\n",
       "  </thead>\n",
       "  <tbody>\n",
       "    <tr>\n",
       "      <th>10</th>\n",
       "      <td>Shen</td>\n",
       "      <td>29671</td>\n",
       "    </tr>\n",
       "    <tr>\n",
       "      <th>44</th>\n",
       "      <td>Sejuani</td>\n",
       "      <td>22345</td>\n",
       "    </tr>\n",
       "    <tr>\n",
       "      <th>52</th>\n",
       "      <td>Cassiopeia</td>\n",
       "      <td>18454</td>\n",
       "    </tr>\n",
       "    <tr>\n",
       "      <th>43</th>\n",
       "      <td>Irelia</td>\n",
       "      <td>17819</td>\n",
       "    </tr>\n",
       "    <tr>\n",
       "      <th>28</th>\n",
       "      <td>Janna</td>\n",
       "      <td>16214</td>\n",
       "    </tr>\n",
       "    <tr>\n",
       "      <th>17</th>\n",
       "      <td>Thresh</td>\n",
       "      <td>16054</td>\n",
       "    </tr>\n",
       "    <tr>\n",
       "      <th>8</th>\n",
       "      <td>Aatrox</td>\n",
       "      <td>15963</td>\n",
       "    </tr>\n",
       "    <tr>\n",
       "      <th>41</th>\n",
       "      <td>Yuumi</td>\n",
       "      <td>15938</td>\n",
       "    </tr>\n",
       "    <tr>\n",
       "      <th>32</th>\n",
       "      <td>Zilean</td>\n",
       "      <td>15378</td>\n",
       "    </tr>\n",
       "    <tr>\n",
       "      <th>9</th>\n",
       "      <td>Warwick</td>\n",
       "      <td>14186</td>\n",
       "    </tr>\n",
       "  </tbody>\n",
       "</table>\n",
       "</div>"
      ],
      "text/plain": [
       "     unit_name  count\n",
       "10        Shen  29671\n",
       "44     Sejuani  22345\n",
       "52  Cassiopeia  18454\n",
       "43      Irelia  17819\n",
       "28       Janna  16214\n",
       "17      Thresh  16054\n",
       "8       Aatrox  15963\n",
       "41       Yuumi  15938\n",
       "32      Zilean  15378\n",
       "9      Warwick  14186"
      ]
     },
     "execution_count": 42,
     "metadata": {},
     "output_type": "execute_result"
    }
   ],
   "source": [
    "# check to see how many times each unit appears in patch 10.21\n",
    "unit_cnt_1021 = dict()\n",
    "\n",
    "for u in units:\n",
    "    unit_cnt_1021[u] = 0 \n",
    "    \n",
    "for c in df_1021['units']:\n",
    "    for k in c.keys():\n",
    "        unit_cnt_1021[k] += 1\n",
    "\n",
    "unit_df_1021 = pd.DataFrame({\n",
    "    'unit_name': list(unit_cnt_1021.keys()),\n",
    "    'count': list(unit_cnt_1021.values())\n",
    "}, index = None)\n",
    "\n",
    "# Top 10 units played during patch 10.21\n",
    "unit_df_1021.sort_values(by='count', ascending=False).head(10)"
   ]
  },
  {
   "cell_type": "markdown",
   "id": "bc42347d",
   "metadata": {},
   "source": [
    "### Sejuani made top 2 now, only after Shen\n",
    "### Irelia also made top 5, suggesting this might be the patch when Adept is buffed, making Shen and Irelia more popular"
   ]
  },
  {
   "cell_type": "code",
   "execution_count": 43,
   "id": "ad568916",
   "metadata": {},
   "outputs": [
    {
     "data": {
      "text/html": [
       "<div>\n",
       "<style scoped>\n",
       "    .dataframe tbody tr th:only-of-type {\n",
       "        vertical-align: middle;\n",
       "    }\n",
       "\n",
       "    .dataframe tbody tr th {\n",
       "        vertical-align: top;\n",
       "    }\n",
       "\n",
       "    .dataframe thead th {\n",
       "        text-align: right;\n",
       "    }\n",
       "</style>\n",
       "<table border=\"1\" class=\"dataframe\">\n",
       "  <thead>\n",
       "    <tr style=\"text-align: right;\">\n",
       "      <th></th>\n",
       "      <th>unit_name</th>\n",
       "      <th>count</th>\n",
       "    </tr>\n",
       "  </thead>\n",
       "  <tbody>\n",
       "    <tr>\n",
       "      <th>10</th>\n",
       "      <td>Shen</td>\n",
       "      <td>49660</td>\n",
       "    </tr>\n",
       "    <tr>\n",
       "      <th>43</th>\n",
       "      <td>Irelia</td>\n",
       "      <td>40908</td>\n",
       "    </tr>\n",
       "    <tr>\n",
       "      <th>54</th>\n",
       "      <td>Yone</td>\n",
       "      <td>31323</td>\n",
       "    </tr>\n",
       "    <tr>\n",
       "      <th>26</th>\n",
       "      <td>Lux</td>\n",
       "      <td>30878</td>\n",
       "    </tr>\n",
       "    <tr>\n",
       "      <th>51</th>\n",
       "      <td>Morgana</td>\n",
       "      <td>29753</td>\n",
       "    </tr>\n",
       "    <tr>\n",
       "      <th>28</th>\n",
       "      <td>Janna</td>\n",
       "      <td>26988</td>\n",
       "    </tr>\n",
       "    <tr>\n",
       "      <th>52</th>\n",
       "      <td>Cassiopeia</td>\n",
       "      <td>26540</td>\n",
       "    </tr>\n",
       "    <tr>\n",
       "      <th>44</th>\n",
       "      <td>Sejuani</td>\n",
       "      <td>26471</td>\n",
       "    </tr>\n",
       "    <tr>\n",
       "      <th>32</th>\n",
       "      <td>Zilean</td>\n",
       "      <td>26348</td>\n",
       "    </tr>\n",
       "    <tr>\n",
       "      <th>9</th>\n",
       "      <td>Warwick</td>\n",
       "      <td>25438</td>\n",
       "    </tr>\n",
       "  </tbody>\n",
       "</table>\n",
       "</div>"
      ],
      "text/plain": [
       "     unit_name  count\n",
       "10        Shen  49660\n",
       "43      Irelia  40908\n",
       "54        Yone  31323\n",
       "26         Lux  30878\n",
       "51     Morgana  29753\n",
       "28       Janna  26988\n",
       "52  Cassiopeia  26540\n",
       "44     Sejuani  26471\n",
       "32      Zilean  26348\n",
       "9      Warwick  25438"
      ]
     },
     "execution_count": 43,
     "metadata": {},
     "output_type": "execute_result"
    }
   ],
   "source": [
    "# check to see how many times each unit appears in patch 10.22\n",
    "unit_cnt_1022 = dict()\n",
    "\n",
    "for u in units:\n",
    "    unit_cnt_1022[u] = 0 \n",
    "    \n",
    "for c in df_1022['units']:\n",
    "    for k in c.keys():\n",
    "        unit_cnt_1022[k] += 1\n",
    "\n",
    "unit_df_1022 = pd.DataFrame({\n",
    "    'unit_name': list(unit_cnt_1022.keys()),\n",
    "    'count': list(unit_cnt_1022.values())\n",
    "}, index = None)\n",
    "\n",
    "# Top 10 units played during patch 10.22\n",
    "unit_df_1022.sort_values(by='count', ascending=False).head(10)"
   ]
  },
  {
   "cell_type": "markdown",
   "id": "f0bc7c4a",
   "metadata": {},
   "source": [
    "### Shen, Irelia, and Yone are among top 3, showing Adept trait is really in meta during this patch.\n",
    "### Cassiopeia is no longer in top 5, which makes sense as Dusk was no longer among top 10 traits during patch 10.22"
   ]
  },
  {
   "cell_type": "code",
   "execution_count": 44,
   "id": "34572f31",
   "metadata": {},
   "outputs": [
    {
     "data": {
      "text/html": [
       "<div>\n",
       "<style scoped>\n",
       "    .dataframe tbody tr th:only-of-type {\n",
       "        vertical-align: middle;\n",
       "    }\n",
       "\n",
       "    .dataframe tbody tr th {\n",
       "        vertical-align: top;\n",
       "    }\n",
       "\n",
       "    .dataframe thead th {\n",
       "        text-align: right;\n",
       "    }\n",
       "</style>\n",
       "<table border=\"1\" class=\"dataframe\">\n",
       "  <thead>\n",
       "    <tr style=\"text-align: right;\">\n",
       "      <th></th>\n",
       "      <th>unit_name</th>\n",
       "      <th>count</th>\n",
       "    </tr>\n",
       "  </thead>\n",
       "  <tbody>\n",
       "    <tr>\n",
       "      <th>10</th>\n",
       "      <td>Shen</td>\n",
       "      <td>49620</td>\n",
       "    </tr>\n",
       "    <tr>\n",
       "      <th>43</th>\n",
       "      <td>Irelia</td>\n",
       "      <td>41949</td>\n",
       "    </tr>\n",
       "    <tr>\n",
       "      <th>54</th>\n",
       "      <td>Yone</td>\n",
       "      <td>35463</td>\n",
       "    </tr>\n",
       "    <tr>\n",
       "      <th>32</th>\n",
       "      <td>Zilean</td>\n",
       "      <td>32717</td>\n",
       "    </tr>\n",
       "    <tr>\n",
       "      <th>26</th>\n",
       "      <td>Lux</td>\n",
       "      <td>32362</td>\n",
       "    </tr>\n",
       "    <tr>\n",
       "      <th>25</th>\n",
       "      <td>Azir</td>\n",
       "      <td>30006</td>\n",
       "    </tr>\n",
       "    <tr>\n",
       "      <th>51</th>\n",
       "      <td>Morgana</td>\n",
       "      <td>29552</td>\n",
       "    </tr>\n",
       "    <tr>\n",
       "      <th>52</th>\n",
       "      <td>Cassiopeia</td>\n",
       "      <td>29361</td>\n",
       "    </tr>\n",
       "    <tr>\n",
       "      <th>31</th>\n",
       "      <td>Jhin</td>\n",
       "      <td>28177</td>\n",
       "    </tr>\n",
       "    <tr>\n",
       "      <th>8</th>\n",
       "      <td>Aatrox</td>\n",
       "      <td>27088</td>\n",
       "    </tr>\n",
       "  </tbody>\n",
       "</table>\n",
       "</div>"
      ],
      "text/plain": [
       "     unit_name  count\n",
       "10        Shen  49620\n",
       "43      Irelia  41949\n",
       "54        Yone  35463\n",
       "32      Zilean  32717\n",
       "26         Lux  32362\n",
       "25        Azir  30006\n",
       "51     Morgana  29552\n",
       "52  Cassiopeia  29361\n",
       "31        Jhin  28177\n",
       "8       Aatrox  27088"
      ]
     },
     "execution_count": 44,
     "metadata": {},
     "output_type": "execute_result"
    }
   ],
   "source": [
    "# check to see how many times each unit appears in patch 10.23\n",
    "unit_cnt_1023 = dict()\n",
    "\n",
    "for u in units:\n",
    "    unit_cnt_1023[u] = 0 \n",
    "    \n",
    "for c in df_1023['units']:\n",
    "    for k in c.keys():\n",
    "        unit_cnt_1023[k] += 1\n",
    "\n",
    "unit_df_1023 = pd.DataFrame({\n",
    "    'unit_name': list(unit_cnt_1023.keys()),\n",
    "    'count': list(unit_cnt_1023.values())\n",
    "}, index = None)\n",
    "\n",
    "# Top 10 units played during patch 10.23\n",
    "unit_df_1023.sort_values(by='count', ascending=False).head(10)"
   ]
  },
  {
   "cell_type": "markdown",
   "id": "3373072b",
   "metadata": {},
   "source": [
    "### Zilean was gaining more popularity in this patch & so is Azir"
   ]
  },
  {
   "cell_type": "code",
   "execution_count": 45,
   "id": "9be70081",
   "metadata": {},
   "outputs": [
    {
     "data": {
      "text/html": [
       "<div>\n",
       "<style scoped>\n",
       "    .dataframe tbody tr th:only-of-type {\n",
       "        vertical-align: middle;\n",
       "    }\n",
       "\n",
       "    .dataframe tbody tr th {\n",
       "        vertical-align: top;\n",
       "    }\n",
       "\n",
       "    .dataframe thead th {\n",
       "        text-align: right;\n",
       "    }\n",
       "</style>\n",
       "<table border=\"1\" class=\"dataframe\">\n",
       "  <thead>\n",
       "    <tr style=\"text-align: right;\">\n",
       "      <th></th>\n",
       "      <th>unit_name</th>\n",
       "      <th>count</th>\n",
       "    </tr>\n",
       "  </thead>\n",
       "  <tbody>\n",
       "    <tr>\n",
       "      <th>10</th>\n",
       "      <td>Shen</td>\n",
       "      <td>66417</td>\n",
       "    </tr>\n",
       "    <tr>\n",
       "      <th>54</th>\n",
       "      <td>Yone</td>\n",
       "      <td>63121</td>\n",
       "    </tr>\n",
       "    <tr>\n",
       "      <th>32</th>\n",
       "      <td>Zilean</td>\n",
       "      <td>57970</td>\n",
       "    </tr>\n",
       "    <tr>\n",
       "      <th>25</th>\n",
       "      <td>Azir</td>\n",
       "      <td>56837</td>\n",
       "    </tr>\n",
       "    <tr>\n",
       "      <th>43</th>\n",
       "      <td>Irelia</td>\n",
       "      <td>49929</td>\n",
       "    </tr>\n",
       "    <tr>\n",
       "      <th>20</th>\n",
       "      <td>Riven</td>\n",
       "      <td>48006</td>\n",
       "    </tr>\n",
       "    <tr>\n",
       "      <th>9</th>\n",
       "      <td>Warwick</td>\n",
       "      <td>43294</td>\n",
       "    </tr>\n",
       "    <tr>\n",
       "      <th>52</th>\n",
       "      <td>Cassiopeia</td>\n",
       "      <td>42902</td>\n",
       "    </tr>\n",
       "    <tr>\n",
       "      <th>26</th>\n",
       "      <td>Lux</td>\n",
       "      <td>39528</td>\n",
       "    </tr>\n",
       "    <tr>\n",
       "      <th>31</th>\n",
       "      <td>Jhin</td>\n",
       "      <td>39464</td>\n",
       "    </tr>\n",
       "  </tbody>\n",
       "</table>\n",
       "</div>"
      ],
      "text/plain": [
       "     unit_name  count\n",
       "10        Shen  66417\n",
       "54        Yone  63121\n",
       "32      Zilean  57970\n",
       "25        Azir  56837\n",
       "43      Irelia  49929\n",
       "20       Riven  48006\n",
       "9      Warwick  43294\n",
       "52  Cassiopeia  42902\n",
       "26         Lux  39528\n",
       "31        Jhin  39464"
      ]
     },
     "execution_count": 45,
     "metadata": {},
     "output_type": "execute_result"
    }
   ],
   "source": [
    "# check to see how many times each unit appears in patch 10.24\n",
    "unit_cnt_1024 = dict()\n",
    "\n",
    "for u in units:\n",
    "    unit_cnt_1024[u] = 0 \n",
    "    \n",
    "for c in df_1024['units']:\n",
    "    for k in c.keys():\n",
    "        unit_cnt_1024[k] += 1\n",
    "\n",
    "unit_df_1024 = pd.DataFrame({\n",
    "    'unit_name': list(unit_cnt_1024.keys()),\n",
    "    'count': list(unit_cnt_1024.values())\n",
    "}, index = None)\n",
    "\n",
    "# Top 10 units played during patch 10.24\n",
    "unit_df_1024.sort_values(by='count', ascending=False).head(10)"
   ]
  },
  {
   "cell_type": "markdown",
   "id": "260cbd12",
   "metadata": {},
   "source": [
    "### Riven making top 10 & Warwick coming back after patch 10.22"
   ]
  },
  {
   "cell_type": "code",
   "execution_count": 46,
   "id": "7fa4d2a8",
   "metadata": {},
   "outputs": [
    {
     "data": {
      "text/html": [
       "<div>\n",
       "<style scoped>\n",
       "    .dataframe tbody tr th:only-of-type {\n",
       "        vertical-align: middle;\n",
       "    }\n",
       "\n",
       "    .dataframe tbody tr th {\n",
       "        vertical-align: top;\n",
       "    }\n",
       "\n",
       "    .dataframe thead th {\n",
       "        text-align: right;\n",
       "    }\n",
       "</style>\n",
       "<table border=\"1\" class=\"dataframe\">\n",
       "  <thead>\n",
       "    <tr style=\"text-align: right;\">\n",
       "      <th></th>\n",
       "      <th>unit_name</th>\n",
       "      <th>count</th>\n",
       "    </tr>\n",
       "  </thead>\n",
       "  <tbody>\n",
       "    <tr>\n",
       "      <th>10</th>\n",
       "      <td>Shen</td>\n",
       "      <td>101529</td>\n",
       "    </tr>\n",
       "    <tr>\n",
       "      <th>54</th>\n",
       "      <td>Yone</td>\n",
       "      <td>92418</td>\n",
       "    </tr>\n",
       "    <tr>\n",
       "      <th>32</th>\n",
       "      <td>Zilean</td>\n",
       "      <td>86059</td>\n",
       "    </tr>\n",
       "    <tr>\n",
       "      <th>25</th>\n",
       "      <td>Azir</td>\n",
       "      <td>85530</td>\n",
       "    </tr>\n",
       "    <tr>\n",
       "      <th>9</th>\n",
       "      <td>Warwick</td>\n",
       "      <td>76649</td>\n",
       "    </tr>\n",
       "    <tr>\n",
       "      <th>52</th>\n",
       "      <td>Cassiopeia</td>\n",
       "      <td>75126</td>\n",
       "    </tr>\n",
       "    <tr>\n",
       "      <th>43</th>\n",
       "      <td>Irelia</td>\n",
       "      <td>72433</td>\n",
       "    </tr>\n",
       "    <tr>\n",
       "      <th>20</th>\n",
       "      <td>Riven</td>\n",
       "      <td>71208</td>\n",
       "    </tr>\n",
       "    <tr>\n",
       "      <th>31</th>\n",
       "      <td>Jhin</td>\n",
       "      <td>64548</td>\n",
       "    </tr>\n",
       "    <tr>\n",
       "      <th>57</th>\n",
       "      <td>Lillia</td>\n",
       "      <td>60181</td>\n",
       "    </tr>\n",
       "  </tbody>\n",
       "</table>\n",
       "</div>"
      ],
      "text/plain": [
       "     unit_name   count\n",
       "10        Shen  101529\n",
       "54        Yone   92418\n",
       "32      Zilean   86059\n",
       "25        Azir   85530\n",
       "9      Warwick   76649\n",
       "52  Cassiopeia   75126\n",
       "43      Irelia   72433\n",
       "20       Riven   71208\n",
       "31        Jhin   64548\n",
       "57      Lillia   60181"
      ]
     },
     "execution_count": 46,
     "metadata": {},
     "output_type": "execute_result"
    }
   ],
   "source": [
    "# check to see how many times each unit appears in patch 10.25\n",
    "unit_cnt_1025 = dict()\n",
    "\n",
    "for u in units:\n",
    "    unit_cnt_1025[u] = 0 \n",
    "    \n",
    "for c in df_1025['units']:\n",
    "    for k in c.keys():\n",
    "        unit_cnt_1025[k] += 1\n",
    "\n",
    "unit_df_1025 = pd.DataFrame({\n",
    "    'unit_name': list(unit_cnt_1025.keys()),\n",
    "    'count': list(unit_cnt_1025.values())\n",
    "}, index = None)\n",
    "\n",
    "# Top 10 units played during patch 10.25\n",
    "unit_df_1025.sort_values(by='count', ascending=False).head(10)"
   ]
  },
  {
   "cell_type": "code",
   "execution_count": 47,
   "id": "0ba0cd5c",
   "metadata": {},
   "outputs": [
    {
     "data": {
      "text/html": [
       "<div>\n",
       "<style scoped>\n",
       "    .dataframe tbody tr th:only-of-type {\n",
       "        vertical-align: middle;\n",
       "    }\n",
       "\n",
       "    .dataframe tbody tr th {\n",
       "        vertical-align: top;\n",
       "    }\n",
       "\n",
       "    .dataframe thead th {\n",
       "        text-align: right;\n",
       "    }\n",
       "</style>\n",
       "<table border=\"1\" class=\"dataframe\">\n",
       "  <thead>\n",
       "    <tr style=\"text-align: right;\">\n",
       "      <th></th>\n",
       "      <th>unit_name</th>\n",
       "      <th>count</th>\n",
       "    </tr>\n",
       "  </thead>\n",
       "  <tbody>\n",
       "    <tr>\n",
       "      <th>10</th>\n",
       "      <td>Shen</td>\n",
       "      <td>4214</td>\n",
       "    </tr>\n",
       "    <tr>\n",
       "      <th>54</th>\n",
       "      <td>Yone</td>\n",
       "      <td>3574</td>\n",
       "    </tr>\n",
       "    <tr>\n",
       "      <th>25</th>\n",
       "      <td>Azir</td>\n",
       "      <td>3062</td>\n",
       "    </tr>\n",
       "    <tr>\n",
       "      <th>32</th>\n",
       "      <td>Zilean</td>\n",
       "      <td>2886</td>\n",
       "    </tr>\n",
       "    <tr>\n",
       "      <th>43</th>\n",
       "      <td>Irelia</td>\n",
       "      <td>2885</td>\n",
       "    </tr>\n",
       "    <tr>\n",
       "      <th>52</th>\n",
       "      <td>Cassiopeia</td>\n",
       "      <td>2795</td>\n",
       "    </tr>\n",
       "    <tr>\n",
       "      <th>9</th>\n",
       "      <td>Warwick</td>\n",
       "      <td>2700</td>\n",
       "    </tr>\n",
       "    <tr>\n",
       "      <th>41</th>\n",
       "      <td>Yuumi</td>\n",
       "      <td>2540</td>\n",
       "    </tr>\n",
       "    <tr>\n",
       "      <th>20</th>\n",
       "      <td>Riven</td>\n",
       "      <td>2288</td>\n",
       "    </tr>\n",
       "    <tr>\n",
       "      <th>31</th>\n",
       "      <td>Jhin</td>\n",
       "      <td>2220</td>\n",
       "    </tr>\n",
       "  </tbody>\n",
       "</table>\n",
       "</div>"
      ],
      "text/plain": [
       "     unit_name  count\n",
       "10        Shen   4214\n",
       "54        Yone   3574\n",
       "25        Azir   3062\n",
       "32      Zilean   2886\n",
       "43      Irelia   2885\n",
       "52  Cassiopeia   2795\n",
       "9      Warwick   2700\n",
       "41       Yuumi   2540\n",
       "20       Riven   2288\n",
       "31        Jhin   2220"
      ]
     },
     "execution_count": 47,
     "metadata": {},
     "output_type": "execute_result"
    }
   ],
   "source": [
    "# check to see how many times each unit appears in patch 11.10\n",
    "unit_cnt_1110 = dict()\n",
    "\n",
    "for u in units:\n",
    "    unit_cnt_1110[u] = 0 \n",
    "    \n",
    "for c in df_1110['units']:\n",
    "    for k in c.keys():\n",
    "        unit_cnt_1110[k] += 1\n",
    "\n",
    "unit_df_1110 = pd.DataFrame({\n",
    "    'unit_name': list(unit_cnt_1110.keys()),\n",
    "    'count': list(unit_cnt_1110.values())\n",
    "}, index = None)\n",
    "\n",
    "# Top 10 units played during patch 11.10\n",
    "unit_df_1110.sort_values(by='count', ascending=False).head(10)"
   ]
  },
  {
   "cell_type": "markdown",
   "id": "c1203820",
   "metadata": {},
   "source": [
    "## Which chosen traits and chosen units were the most popular across different patches?"
   ]
  },
  {
   "cell_type": "code",
   "execution_count": 48,
   "id": "3a621f74",
   "metadata": {},
   "outputs": [
    {
     "data": {
      "text/html": [
       "<div>\n",
       "<style scoped>\n",
       "    .dataframe tbody tr th:only-of-type {\n",
       "        vertical-align: middle;\n",
       "    }\n",
       "\n",
       "    .dataframe tbody tr th {\n",
       "        vertical-align: top;\n",
       "    }\n",
       "\n",
       "    .dataframe thead th {\n",
       "        text-align: right;\n",
       "    }\n",
       "</style>\n",
       "<table border=\"1\" class=\"dataframe\">\n",
       "  <thead>\n",
       "    <tr style=\"text-align: right;\">\n",
       "      <th></th>\n",
       "      <th>patch_version</th>\n",
       "      <th>match_id</th>\n",
       "      <th>puuid</th>\n",
       "      <th>placement</th>\n",
       "      <th>level</th>\n",
       "      <th>gold_left</th>\n",
       "      <th>last_round</th>\n",
       "      <th>time_in_game</th>\n",
       "      <th>total_dmg_to_players</th>\n",
       "      <th>players_eliminated</th>\n",
       "      <th>chosen_unit</th>\n",
       "      <th>chosen_trait</th>\n",
       "      <th>units</th>\n",
       "      <th>traits</th>\n",
       "      <th>top4</th>\n",
       "    </tr>\n",
       "  </thead>\n",
       "  <tbody>\n",
       "    <tr>\n",
       "      <th>0</th>\n",
       "      <td>10.19</td>\n",
       "      <td>EUW1_4817498958</td>\n",
       "      <td>KzseHzU3hoWVccjzPLRHVynRYxLT_Ww27nQpZSMXsa4YFp...</td>\n",
       "      <td>1</td>\n",
       "      <td>9</td>\n",
       "      <td>22</td>\n",
       "      <td>40</td>\n",
       "      <td>2461.936768</td>\n",
       "      <td>181</td>\n",
       "      <td>2</td>\n",
       "      <td>NaN</td>\n",
       "      <td>NaN</td>\n",
       "      <td>{'Nidalee': {'items': [99, 5, 36], 'stars': 2}...</td>\n",
       "      <td>{'Divine': 1, 'Emperor': 1, 'Fortune': 3, 'Kee...</td>\n",
       "      <td>1</td>\n",
       "    </tr>\n",
       "    <tr>\n",
       "      <th>1</th>\n",
       "      <td>10.19</td>\n",
       "      <td>EUW1_4817498958</td>\n",
       "      <td>0i6nCStgF5A3Bg-xmHvcS9Htjxo3t-BMcGBTfgG_VDc8H0...</td>\n",
       "      <td>2</td>\n",
       "      <td>9</td>\n",
       "      <td>1</td>\n",
       "      <td>40</td>\n",
       "      <td>2461.936768</td>\n",
       "      <td>161</td>\n",
       "      <td>0</td>\n",
       "      <td>NaN</td>\n",
       "      <td>NaN</td>\n",
       "      <td>{'Elise': {'items': [], 'stars': 2}, 'TwistedF...</td>\n",
       "      <td>{'Cultist': 8, 'Divine': 1, 'Duelist': 2, 'Dus...</td>\n",
       "      <td>1</td>\n",
       "    </tr>\n",
       "    <tr>\n",
       "      <th>2</th>\n",
       "      <td>10.19</td>\n",
       "      <td>EUW1_4817498958</td>\n",
       "      <td>xbmh7BXRjtNjZaUGkiY7kPAbx85q6CqkmR2CpijLu9Icz7...</td>\n",
       "      <td>3</td>\n",
       "      <td>9</td>\n",
       "      <td>1</td>\n",
       "      <td>37</td>\n",
       "      <td>2279.858154</td>\n",
       "      <td>116</td>\n",
       "      <td>1</td>\n",
       "      <td>NaN</td>\n",
       "      <td>NaN</td>\n",
       "      <td>{'Elise': {'items': [77, 57, 17], 'stars': 2},...</td>\n",
       "      <td>{'Cultist': 6, 'Emperor': 1, 'Keeper': 2, 'Ass...</td>\n",
       "      <td>1</td>\n",
       "    </tr>\n",
       "    <tr>\n",
       "      <th>3</th>\n",
       "      <td>10.19</td>\n",
       "      <td>EUW1_4817498958</td>\n",
       "      <td>O7P3r5EcNYdWWWaXR_pRtrE92G-Recxed8nwTCe5FsNBNG...</td>\n",
       "      <td>4</td>\n",
       "      <td>8</td>\n",
       "      <td>1</td>\n",
       "      <td>35</td>\n",
       "      <td>2189.656006</td>\n",
       "      <td>125</td>\n",
       "      <td>3</td>\n",
       "      <td>NaN</td>\n",
       "      <td>NaN</td>\n",
       "      <td>{'Maokai': {'items': [], 'stars': 2}, 'Hecarim...</td>\n",
       "      <td>{'Boss': 1, 'Dusk': 1, 'Assassin': 1, 'Brawler...</td>\n",
       "      <td>1</td>\n",
       "    </tr>\n",
       "    <tr>\n",
       "      <th>4</th>\n",
       "      <td>10.19</td>\n",
       "      <td>EUW1_4817498958</td>\n",
       "      <td>OpwDkmPPsNS2P-1XKuR_jpDkScZFzPYYbk4eUJ8gMTfVV-...</td>\n",
       "      <td>5</td>\n",
       "      <td>8</td>\n",
       "      <td>2</td>\n",
       "      <td>34</td>\n",
       "      <td>2123.929199</td>\n",
       "      <td>80</td>\n",
       "      <td>0</td>\n",
       "      <td>NaN</td>\n",
       "      <td>NaN</td>\n",
       "      <td>{'Maokai': {'items': [], 'stars': 2}, 'Irelia'...</td>\n",
       "      <td>{'Divine': 2, 'Hunter': 3, 'Adept': 2, 'Brawle...</td>\n",
       "      <td>0</td>\n",
       "    </tr>\n",
       "  </tbody>\n",
       "</table>\n",
       "</div>"
      ],
      "text/plain": [
       "   patch_version         match_id  \\\n",
       "0          10.19  EUW1_4817498958   \n",
       "1          10.19  EUW1_4817498958   \n",
       "2          10.19  EUW1_4817498958   \n",
       "3          10.19  EUW1_4817498958   \n",
       "4          10.19  EUW1_4817498958   \n",
       "\n",
       "                                               puuid  placement  level  \\\n",
       "0  KzseHzU3hoWVccjzPLRHVynRYxLT_Ww27nQpZSMXsa4YFp...          1      9   \n",
       "1  0i6nCStgF5A3Bg-xmHvcS9Htjxo3t-BMcGBTfgG_VDc8H0...          2      9   \n",
       "2  xbmh7BXRjtNjZaUGkiY7kPAbx85q6CqkmR2CpijLu9Icz7...          3      9   \n",
       "3  O7P3r5EcNYdWWWaXR_pRtrE92G-Recxed8nwTCe5FsNBNG...          4      8   \n",
       "4  OpwDkmPPsNS2P-1XKuR_jpDkScZFzPYYbk4eUJ8gMTfVV-...          5      8   \n",
       "\n",
       "   gold_left  last_round  time_in_game  total_dmg_to_players  \\\n",
       "0         22          40   2461.936768                   181   \n",
       "1          1          40   2461.936768                   161   \n",
       "2          1          37   2279.858154                   116   \n",
       "3          1          35   2189.656006                   125   \n",
       "4          2          34   2123.929199                    80   \n",
       "\n",
       "   players_eliminated chosen_unit chosen_trait  \\\n",
       "0                   2         NaN          NaN   \n",
       "1                   0         NaN          NaN   \n",
       "2                   1         NaN          NaN   \n",
       "3                   3         NaN          NaN   \n",
       "4                   0         NaN          NaN   \n",
       "\n",
       "                                               units  \\\n",
       "0  {'Nidalee': {'items': [99, 5, 36], 'stars': 2}...   \n",
       "1  {'Elise': {'items': [], 'stars': 2}, 'TwistedF...   \n",
       "2  {'Elise': {'items': [77, 57, 17], 'stars': 2},...   \n",
       "3  {'Maokai': {'items': [], 'stars': 2}, 'Hecarim...   \n",
       "4  {'Maokai': {'items': [], 'stars': 2}, 'Irelia'...   \n",
       "\n",
       "                                              traits  top4  \n",
       "0  {'Divine': 1, 'Emperor': 1, 'Fortune': 3, 'Kee...     1  \n",
       "1  {'Cultist': 8, 'Divine': 1, 'Duelist': 2, 'Dus...     1  \n",
       "2  {'Cultist': 6, 'Emperor': 1, 'Keeper': 2, 'Ass...     1  \n",
       "3  {'Boss': 1, 'Dusk': 1, 'Assassin': 1, 'Brawler...     1  \n",
       "4  {'Divine': 2, 'Hunter': 3, 'Adept': 2, 'Brawle...     0  "
      ]
     },
     "execution_count": 48,
     "metadata": {},
     "output_type": "execute_result"
    }
   ],
   "source": [
    "df_1019.head()"
   ]
  },
  {
   "cell_type": "code",
   "execution_count": 49,
   "id": "873ba8ec",
   "metadata": {},
   "outputs": [
    {
     "data": {
      "text/plain": [
       "array([nan], dtype=object)"
      ]
     },
     "execution_count": 49,
     "metadata": {},
     "output_type": "execute_result"
    }
   ],
   "source": [
    "# Patch 10.19 were missing data for chosen trait and chosen unit so we'll skip this patch\n",
    "df_1019['chosen_trait'].unique()"
   ]
  },
  {
   "cell_type": "code",
   "execution_count": 50,
   "id": "f20fdaab",
   "metadata": {},
   "outputs": [
    {
     "data": {
      "text/plain": [
       "array([nan], dtype=object)"
      ]
     },
     "execution_count": 50,
     "metadata": {},
     "output_type": "execute_result"
    }
   ],
   "source": [
    "df_1019['chosen_unit'].unique()"
   ]
  },
  {
   "cell_type": "code",
   "execution_count": 51,
   "id": "13ad8f15",
   "metadata": {},
   "outputs": [
    {
     "data": {
      "text/plain": [
       "chosen_trait\n",
       "Elderwood    3738\n",
       "Moonlight    3337\n",
       "Mage         3025\n",
       "Mystic       2790\n",
       "Duelist      2733\n",
       "Name: match_id, dtype: int64"
      ]
     },
     "execution_count": 51,
     "metadata": {},
     "output_type": "execute_result"
    }
   ],
   "source": [
    "# Patch 10.20\n",
    "# Most popular chosen traits\n",
    "df_1020.groupby('chosen_trait').count()['match_id'].sort_values(ascending=False).head()"
   ]
  },
  {
   "cell_type": "code",
   "execution_count": 52,
   "id": "12dfdb6f",
   "metadata": {},
   "outputs": [
    {
     "data": {
      "text/plain": [
       "chosen_unit\n",
       "Zed           1924\n",
       "Yasuo         1762\n",
       "Cassiopeia    1634\n",
       "Riven         1433\n",
       "Diana         1365\n",
       "Wukong        1335\n",
       "Maokai        1252\n",
       "Lulu          1223\n",
       "Veigar        1196\n",
       "Aphelios      1161\n",
       "Name: match_id, dtype: int64"
      ]
     },
     "execution_count": 52,
     "metadata": {},
     "output_type": "execute_result"
    }
   ],
   "source": [
    "# Most popular chosen units\n",
    "df_1020.groupby('chosen_unit').count()['match_id'].sort_values(ascending=False).head(10)"
   ]
  },
  {
   "cell_type": "code",
   "execution_count": 53,
   "id": "1e6bb7dd",
   "metadata": {},
   "outputs": [
    {
     "data": {
      "text/plain": [
       "chosen_trait\n",
       "Sharpshooter    5660\n",
       "Mystic          5373\n",
       "Assassin        4474\n",
       "Vanguard        3759\n",
       "Divine          3388\n",
       "Name: match_id, dtype: int64"
      ]
     },
     "execution_count": 53,
     "metadata": {},
     "output_type": "execute_result"
    }
   ],
   "source": [
    "# Patch 10.21\n",
    "# Most popular chosen traits: Sharpshooter was gaining popularity during this patch too\n",
    "df_1021.groupby('chosen_trait').count()['match_id'].sort_values(ascending=False).head()"
   ]
  },
  {
   "cell_type": "code",
   "execution_count": 54,
   "id": "39c34f83",
   "metadata": {},
   "outputs": [
    {
     "data": {
      "text/plain": [
       "chosen_unit\n",
       "Shen          3405\n",
       "Cassiopeia    2630\n",
       "Akali         2196\n",
       "Ahri          2004\n",
       "Jinx          1935\n",
       "Sejuani       1911\n",
       "Yasuo         1791\n",
       "Irelia        1715\n",
       "Riven         1662\n",
       "Talon         1618\n",
       "Name: match_id, dtype: int64"
      ]
     },
     "execution_count": 54,
     "metadata": {},
     "output_type": "execute_result"
    }
   ],
   "source": [
    "# Most popular chosen units\n",
    "df_1021.groupby('chosen_unit').count()['match_id'].sort_values(ascending=False).head(10)"
   ]
  },
  {
   "cell_type": "code",
   "execution_count": 55,
   "id": "ef86f64c",
   "metadata": {},
   "outputs": [
    {
     "data": {
      "text/plain": [
       "chosen_trait\n",
       "Enlightened     7642\n",
       "Hunter          7626\n",
       "Dusk            6378\n",
       "Mystic          6343\n",
       "Sharpshooter    5808\n",
       "Name: match_id, dtype: int64"
      ]
     },
     "execution_count": 55,
     "metadata": {},
     "output_type": "execute_result"
    }
   ],
   "source": [
    "# Patch 10.22\n",
    "# Most popular chosen traits\n",
    "df_1022.groupby('chosen_trait').count()['match_id'].sort_values(ascending=False).head()"
   ]
  },
  {
   "cell_type": "markdown",
   "id": "195698e2",
   "metadata": {},
   "source": [
    "## Predict whether a player will make it to top 4 based on level, traits, and chosen units"
   ]
  },
  {
   "cell_type": "code",
   "execution_count": 56,
   "id": "8b5814a5",
   "metadata": {},
   "outputs": [
    {
     "data": {
      "text/html": [
       "<div>\n",
       "<style scoped>\n",
       "    .dataframe tbody tr th:only-of-type {\n",
       "        vertical-align: middle;\n",
       "    }\n",
       "\n",
       "    .dataframe tbody tr th {\n",
       "        vertical-align: top;\n",
       "    }\n",
       "\n",
       "    .dataframe thead th {\n",
       "        text-align: right;\n",
       "    }\n",
       "</style>\n",
       "<table border=\"1\" class=\"dataframe\">\n",
       "  <thead>\n",
       "    <tr style=\"text-align: right;\">\n",
       "      <th></th>\n",
       "      <th>patch_version</th>\n",
       "      <th>match_id</th>\n",
       "      <th>puuid</th>\n",
       "      <th>placement</th>\n",
       "      <th>level</th>\n",
       "      <th>gold_left</th>\n",
       "      <th>last_round</th>\n",
       "      <th>time_in_game</th>\n",
       "      <th>total_dmg_to_players</th>\n",
       "      <th>players_eliminated</th>\n",
       "      <th>chosen_unit</th>\n",
       "      <th>chosen_trait</th>\n",
       "      <th>units</th>\n",
       "      <th>traits</th>\n",
       "      <th>top4</th>\n",
       "    </tr>\n",
       "  </thead>\n",
       "  <tbody>\n",
       "    <tr>\n",
       "      <th>480968</th>\n",
       "      <td>10.25</td>\n",
       "      <td>EUW1_4970450971</td>\n",
       "      <td>nW1eW61ZuDhTcWJhibRyJAbFTNGr0wRPljIQupCzuN3pit...</td>\n",
       "      <td>1</td>\n",
       "      <td>9</td>\n",
       "      <td>13</td>\n",
       "      <td>34</td>\n",
       "      <td>1915.634644</td>\n",
       "      <td>166</td>\n",
       "      <td>3</td>\n",
       "      <td>Ashe</td>\n",
       "      <td>Elderwood</td>\n",
       "      <td>{'Irelia': {'items': [], 'stars': 2}, 'Lux': {...</td>\n",
       "      <td>{'Cultist': 1, 'Divine': 3, 'Hunter': 2, 'Adep...</td>\n",
       "      <td>1</td>\n",
       "    </tr>\n",
       "    <tr>\n",
       "      <th>480969</th>\n",
       "      <td>10.25</td>\n",
       "      <td>EUW1_4970450971</td>\n",
       "      <td>P7sM33d22W23grj7K9b_0JibddTDOkHMej0kcrQRoOUOob...</td>\n",
       "      <td>2</td>\n",
       "      <td>8</td>\n",
       "      <td>0</td>\n",
       "      <td>34</td>\n",
       "      <td>1909.740234</td>\n",
       "      <td>117</td>\n",
       "      <td>2</td>\n",
       "      <td>Thresh</td>\n",
       "      <td>Dusk</td>\n",
       "      <td>{'Vayne': {'items': [], 'stars': 2}, 'Thresh':...</td>\n",
       "      <td>{'Cultist': 1, 'Dusk': 6, 'Emperor': 1, 'Keepe...</td>\n",
       "      <td>1</td>\n",
       "    </tr>\n",
       "    <tr>\n",
       "      <th>480970</th>\n",
       "      <td>10.25</td>\n",
       "      <td>EUW1_4970450971</td>\n",
       "      <td>RFrY5m4JftKtgtSPy7KvRUR0P4o9Icsm_bkO3i0nE3FmFB...</td>\n",
       "      <td>3</td>\n",
       "      <td>9</td>\n",
       "      <td>2</td>\n",
       "      <td>34</td>\n",
       "      <td>1914.015259</td>\n",
       "      <td>117</td>\n",
       "      <td>0</td>\n",
       "      <td>Yone</td>\n",
       "      <td>Adept</td>\n",
       "      <td>{'Nami': {'items': [], 'stars': 2}, 'Lulu': {'...</td>\n",
       "      <td>{'Cultist': 1, 'Dusk': 2, 'Fortune': 1, 'Adept...</td>\n",
       "      <td>1</td>\n",
       "    </tr>\n",
       "    <tr>\n",
       "      <th>480971</th>\n",
       "      <td>10.25</td>\n",
       "      <td>EUW1_4970450971</td>\n",
       "      <td>68fCJ5RI9vq1WRS1r4sNUQgThbs2jfPaSjGWpwIZcFsDPf...</td>\n",
       "      <td>4</td>\n",
       "      <td>8</td>\n",
       "      <td>40</td>\n",
       "      <td>33</td>\n",
       "      <td>1835.909302</td>\n",
       "      <td>96</td>\n",
       "      <td>0</td>\n",
       "      <td>Shen</td>\n",
       "      <td>Adept</td>\n",
       "      <td>{'Wukong': {'items': [], 'stars': 2}, 'Jax': {...</td>\n",
       "      <td>{'Divine': 6, 'Duelist': 2, 'Hunter': 1, 'Adep...</td>\n",
       "      <td>1</td>\n",
       "    </tr>\n",
       "    <tr>\n",
       "      <th>480972</th>\n",
       "      <td>10.25</td>\n",
       "      <td>EUW1_4970450971</td>\n",
       "      <td>F3tCm0sM1isUxkqfLhSJVhUqQ5MFJCcIzaZbr5VnfjQFc-...</td>\n",
       "      <td>5</td>\n",
       "      <td>8</td>\n",
       "      <td>5</td>\n",
       "      <td>31</td>\n",
       "      <td>1735.222412</td>\n",
       "      <td>77</td>\n",
       "      <td>0</td>\n",
       "      <td>NaN</td>\n",
       "      <td>NaN</td>\n",
       "      <td>{'Irelia': {'items': [], 'stars': 2}, 'Lux': {...</td>\n",
       "      <td>{'Boss': 1, 'Divine': 3, 'Emperor': 1, 'Hunter...</td>\n",
       "      <td>0</td>\n",
       "    </tr>\n",
       "  </tbody>\n",
       "</table>\n",
       "</div>"
      ],
      "text/plain": [
       "        patch_version         match_id  \\\n",
       "480968          10.25  EUW1_4970450971   \n",
       "480969          10.25  EUW1_4970450971   \n",
       "480970          10.25  EUW1_4970450971   \n",
       "480971          10.25  EUW1_4970450971   \n",
       "480972          10.25  EUW1_4970450971   \n",
       "\n",
       "                                                    puuid  placement  level  \\\n",
       "480968  nW1eW61ZuDhTcWJhibRyJAbFTNGr0wRPljIQupCzuN3pit...          1      9   \n",
       "480969  P7sM33d22W23grj7K9b_0JibddTDOkHMej0kcrQRoOUOob...          2      8   \n",
       "480970  RFrY5m4JftKtgtSPy7KvRUR0P4o9Icsm_bkO3i0nE3FmFB...          3      9   \n",
       "480971  68fCJ5RI9vq1WRS1r4sNUQgThbs2jfPaSjGWpwIZcFsDPf...          4      8   \n",
       "480972  F3tCm0sM1isUxkqfLhSJVhUqQ5MFJCcIzaZbr5VnfjQFc-...          5      8   \n",
       "\n",
       "        gold_left  last_round  time_in_game  total_dmg_to_players  \\\n",
       "480968         13          34   1915.634644                   166   \n",
       "480969          0          34   1909.740234                   117   \n",
       "480970          2          34   1914.015259                   117   \n",
       "480971         40          33   1835.909302                    96   \n",
       "480972          5          31   1735.222412                    77   \n",
       "\n",
       "        players_eliminated chosen_unit chosen_trait  \\\n",
       "480968                   3        Ashe    Elderwood   \n",
       "480969                   2      Thresh         Dusk   \n",
       "480970                   0        Yone        Adept   \n",
       "480971                   0        Shen        Adept   \n",
       "480972                   0         NaN          NaN   \n",
       "\n",
       "                                                    units  \\\n",
       "480968  {'Irelia': {'items': [], 'stars': 2}, 'Lux': {...   \n",
       "480969  {'Vayne': {'items': [], 'stars': 2}, 'Thresh':...   \n",
       "480970  {'Nami': {'items': [], 'stars': 2}, 'Lulu': {'...   \n",
       "480971  {'Wukong': {'items': [], 'stars': 2}, 'Jax': {...   \n",
       "480972  {'Irelia': {'items': [], 'stars': 2}, 'Lux': {...   \n",
       "\n",
       "                                                   traits  top4  \n",
       "480968  {'Cultist': 1, 'Divine': 3, 'Hunter': 2, 'Adep...     1  \n",
       "480969  {'Cultist': 1, 'Dusk': 6, 'Emperor': 1, 'Keepe...     1  \n",
       "480970  {'Cultist': 1, 'Dusk': 2, 'Fortune': 1, 'Adept...     1  \n",
       "480971  {'Divine': 6, 'Duelist': 2, 'Hunter': 1, 'Adep...     1  \n",
       "480972  {'Boss': 1, 'Divine': 3, 'Emperor': 1, 'Hunter...     0  "
      ]
     },
     "execution_count": 56,
     "metadata": {},
     "output_type": "execute_result"
    }
   ],
   "source": [
    "# Patch 10.25\n",
    "df_1025.head()"
   ]
  },
  {
   "cell_type": "code",
   "execution_count": 57,
   "id": "79e096d4",
   "metadata": {},
   "outputs": [],
   "source": [
    "df_1025 = df_1025[(df_1025['traits'] != {}) & (df_1025['units'] != {})]"
   ]
  },
  {
   "cell_type": "code",
   "execution_count": 58,
   "id": "68c6631f",
   "metadata": {},
   "outputs": [],
   "source": [
    "df_1025['top4'] = df_1025['placement'].apply(lambda x: 1 if x < 5 else 0)"
   ]
  },
  {
   "cell_type": "code",
   "execution_count": 59,
   "id": "1e33314b",
   "metadata": {},
   "outputs": [
    {
     "data": {
      "text/html": [
       "<div>\n",
       "<style scoped>\n",
       "    .dataframe tbody tr th:only-of-type {\n",
       "        vertical-align: middle;\n",
       "    }\n",
       "\n",
       "    .dataframe tbody tr th {\n",
       "        vertical-align: top;\n",
       "    }\n",
       "\n",
       "    .dataframe thead th {\n",
       "        text-align: right;\n",
       "    }\n",
       "</style>\n",
       "<table border=\"1\" class=\"dataframe\">\n",
       "  <thead>\n",
       "    <tr style=\"text-align: right;\">\n",
       "      <th></th>\n",
       "      <th>patch_version</th>\n",
       "      <th>match_id</th>\n",
       "      <th>puuid</th>\n",
       "      <th>placement</th>\n",
       "      <th>level</th>\n",
       "      <th>gold_left</th>\n",
       "      <th>last_round</th>\n",
       "      <th>time_in_game</th>\n",
       "      <th>total_dmg_to_players</th>\n",
       "      <th>players_eliminated</th>\n",
       "      <th>chosen_unit</th>\n",
       "      <th>chosen_trait</th>\n",
       "      <th>units</th>\n",
       "      <th>traits</th>\n",
       "      <th>top4</th>\n",
       "    </tr>\n",
       "  </thead>\n",
       "  <tbody>\n",
       "    <tr>\n",
       "      <th>480968</th>\n",
       "      <td>10.25</td>\n",
       "      <td>EUW1_4970450971</td>\n",
       "      <td>nW1eW61ZuDhTcWJhibRyJAbFTNGr0wRPljIQupCzuN3pit...</td>\n",
       "      <td>1</td>\n",
       "      <td>9</td>\n",
       "      <td>13</td>\n",
       "      <td>34</td>\n",
       "      <td>1915.634644</td>\n",
       "      <td>166</td>\n",
       "      <td>3</td>\n",
       "      <td>Ashe</td>\n",
       "      <td>Elderwood</td>\n",
       "      <td>{'Irelia': {'items': [], 'stars': 2}, 'Lux': {...</td>\n",
       "      <td>{'Cultist': 1, 'Divine': 3, 'Hunter': 2, 'Adep...</td>\n",
       "      <td>1</td>\n",
       "    </tr>\n",
       "    <tr>\n",
       "      <th>480969</th>\n",
       "      <td>10.25</td>\n",
       "      <td>EUW1_4970450971</td>\n",
       "      <td>P7sM33d22W23grj7K9b_0JibddTDOkHMej0kcrQRoOUOob...</td>\n",
       "      <td>2</td>\n",
       "      <td>8</td>\n",
       "      <td>0</td>\n",
       "      <td>34</td>\n",
       "      <td>1909.740234</td>\n",
       "      <td>117</td>\n",
       "      <td>2</td>\n",
       "      <td>Thresh</td>\n",
       "      <td>Dusk</td>\n",
       "      <td>{'Vayne': {'items': [], 'stars': 2}, 'Thresh':...</td>\n",
       "      <td>{'Cultist': 1, 'Dusk': 6, 'Emperor': 1, 'Keepe...</td>\n",
       "      <td>1</td>\n",
       "    </tr>\n",
       "    <tr>\n",
       "      <th>480970</th>\n",
       "      <td>10.25</td>\n",
       "      <td>EUW1_4970450971</td>\n",
       "      <td>RFrY5m4JftKtgtSPy7KvRUR0P4o9Icsm_bkO3i0nE3FmFB...</td>\n",
       "      <td>3</td>\n",
       "      <td>9</td>\n",
       "      <td>2</td>\n",
       "      <td>34</td>\n",
       "      <td>1914.015259</td>\n",
       "      <td>117</td>\n",
       "      <td>0</td>\n",
       "      <td>Yone</td>\n",
       "      <td>Adept</td>\n",
       "      <td>{'Nami': {'items': [], 'stars': 2}, 'Lulu': {'...</td>\n",
       "      <td>{'Cultist': 1, 'Dusk': 2, 'Fortune': 1, 'Adept...</td>\n",
       "      <td>1</td>\n",
       "    </tr>\n",
       "    <tr>\n",
       "      <th>480971</th>\n",
       "      <td>10.25</td>\n",
       "      <td>EUW1_4970450971</td>\n",
       "      <td>68fCJ5RI9vq1WRS1r4sNUQgThbs2jfPaSjGWpwIZcFsDPf...</td>\n",
       "      <td>4</td>\n",
       "      <td>8</td>\n",
       "      <td>40</td>\n",
       "      <td>33</td>\n",
       "      <td>1835.909302</td>\n",
       "      <td>96</td>\n",
       "      <td>0</td>\n",
       "      <td>Shen</td>\n",
       "      <td>Adept</td>\n",
       "      <td>{'Wukong': {'items': [], 'stars': 2}, 'Jax': {...</td>\n",
       "      <td>{'Divine': 6, 'Duelist': 2, 'Hunter': 1, 'Adep...</td>\n",
       "      <td>1</td>\n",
       "    </tr>\n",
       "    <tr>\n",
       "      <th>480972</th>\n",
       "      <td>10.25</td>\n",
       "      <td>EUW1_4970450971</td>\n",
       "      <td>F3tCm0sM1isUxkqfLhSJVhUqQ5MFJCcIzaZbr5VnfjQFc-...</td>\n",
       "      <td>5</td>\n",
       "      <td>8</td>\n",
       "      <td>5</td>\n",
       "      <td>31</td>\n",
       "      <td>1735.222412</td>\n",
       "      <td>77</td>\n",
       "      <td>0</td>\n",
       "      <td>NaN</td>\n",
       "      <td>NaN</td>\n",
       "      <td>{'Irelia': {'items': [], 'stars': 2}, 'Lux': {...</td>\n",
       "      <td>{'Boss': 1, 'Divine': 3, 'Emperor': 1, 'Hunter...</td>\n",
       "      <td>0</td>\n",
       "    </tr>\n",
       "  </tbody>\n",
       "</table>\n",
       "</div>"
      ],
      "text/plain": [
       "        patch_version         match_id  \\\n",
       "480968          10.25  EUW1_4970450971   \n",
       "480969          10.25  EUW1_4970450971   \n",
       "480970          10.25  EUW1_4970450971   \n",
       "480971          10.25  EUW1_4970450971   \n",
       "480972          10.25  EUW1_4970450971   \n",
       "\n",
       "                                                    puuid  placement  level  \\\n",
       "480968  nW1eW61ZuDhTcWJhibRyJAbFTNGr0wRPljIQupCzuN3pit...          1      9   \n",
       "480969  P7sM33d22W23grj7K9b_0JibddTDOkHMej0kcrQRoOUOob...          2      8   \n",
       "480970  RFrY5m4JftKtgtSPy7KvRUR0P4o9Icsm_bkO3i0nE3FmFB...          3      9   \n",
       "480971  68fCJ5RI9vq1WRS1r4sNUQgThbs2jfPaSjGWpwIZcFsDPf...          4      8   \n",
       "480972  F3tCm0sM1isUxkqfLhSJVhUqQ5MFJCcIzaZbr5VnfjQFc-...          5      8   \n",
       "\n",
       "        gold_left  last_round  time_in_game  total_dmg_to_players  \\\n",
       "480968         13          34   1915.634644                   166   \n",
       "480969          0          34   1909.740234                   117   \n",
       "480970          2          34   1914.015259                   117   \n",
       "480971         40          33   1835.909302                    96   \n",
       "480972          5          31   1735.222412                    77   \n",
       "\n",
       "        players_eliminated chosen_unit chosen_trait  \\\n",
       "480968                   3        Ashe    Elderwood   \n",
       "480969                   2      Thresh         Dusk   \n",
       "480970                   0        Yone        Adept   \n",
       "480971                   0        Shen        Adept   \n",
       "480972                   0         NaN          NaN   \n",
       "\n",
       "                                                    units  \\\n",
       "480968  {'Irelia': {'items': [], 'stars': 2}, 'Lux': {...   \n",
       "480969  {'Vayne': {'items': [], 'stars': 2}, 'Thresh':...   \n",
       "480970  {'Nami': {'items': [], 'stars': 2}, 'Lulu': {'...   \n",
       "480971  {'Wukong': {'items': [], 'stars': 2}, 'Jax': {...   \n",
       "480972  {'Irelia': {'items': [], 'stars': 2}, 'Lux': {...   \n",
       "\n",
       "                                                   traits  top4  \n",
       "480968  {'Cultist': 1, 'Divine': 3, 'Hunter': 2, 'Adep...     1  \n",
       "480969  {'Cultist': 1, 'Dusk': 6, 'Emperor': 1, 'Keepe...     1  \n",
       "480970  {'Cultist': 1, 'Dusk': 2, 'Fortune': 1, 'Adept...     1  \n",
       "480971  {'Divine': 6, 'Duelist': 2, 'Hunter': 1, 'Adep...     1  \n",
       "480972  {'Boss': 1, 'Divine': 3, 'Emperor': 1, 'Hunter...     0  "
      ]
     },
     "execution_count": 59,
     "metadata": {},
     "output_type": "execute_result"
    }
   ],
   "source": [
    "df_1025.head()"
   ]
  },
  {
   "cell_type": "code",
   "execution_count": 60,
   "id": "e4a044b3",
   "metadata": {},
   "outputs": [],
   "source": [
    "# Create a new column comp to store info about traits, chosen unit, and level\n",
    "\n",
    "comp = list()\n",
    "for i in range(len(df_1025['traits'])):\n",
    "    c = []\n",
    "    for k in df_1025['traits'].iloc[i].keys():\n",
    "        c.append((k, str(df_1025['traits'].iloc[i][k])))\n",
    "    c.append(('level', str(df_1025['level'].iloc[i])))\n",
    "    c.append(('chosen_unit', str(df_1025['chosen_unit'].iloc[i])))\n",
    "    comp.append(c)\n",
    "\n",
    "df_1025['comp_info'] = comp"
   ]
  },
  {
   "cell_type": "code",
   "execution_count": 61,
   "id": "7d7dbf19",
   "metadata": {},
   "outputs": [
    {
     "data": {
      "text/html": [
       "<div>\n",
       "<style scoped>\n",
       "    .dataframe tbody tr th:only-of-type {\n",
       "        vertical-align: middle;\n",
       "    }\n",
       "\n",
       "    .dataframe tbody tr th {\n",
       "        vertical-align: top;\n",
       "    }\n",
       "\n",
       "    .dataframe thead th {\n",
       "        text-align: right;\n",
       "    }\n",
       "</style>\n",
       "<table border=\"1\" class=\"dataframe\">\n",
       "  <thead>\n",
       "    <tr style=\"text-align: right;\">\n",
       "      <th></th>\n",
       "      <th>patch_version</th>\n",
       "      <th>match_id</th>\n",
       "      <th>puuid</th>\n",
       "      <th>placement</th>\n",
       "      <th>level</th>\n",
       "      <th>gold_left</th>\n",
       "      <th>last_round</th>\n",
       "      <th>time_in_game</th>\n",
       "      <th>total_dmg_to_players</th>\n",
       "      <th>players_eliminated</th>\n",
       "      <th>chosen_unit</th>\n",
       "      <th>chosen_trait</th>\n",
       "      <th>units</th>\n",
       "      <th>traits</th>\n",
       "      <th>top4</th>\n",
       "      <th>comp_info</th>\n",
       "    </tr>\n",
       "  </thead>\n",
       "  <tbody>\n",
       "    <tr>\n",
       "      <th>480968</th>\n",
       "      <td>10.25</td>\n",
       "      <td>EUW1_4970450971</td>\n",
       "      <td>nW1eW61ZuDhTcWJhibRyJAbFTNGr0wRPljIQupCzuN3pit...</td>\n",
       "      <td>1</td>\n",
       "      <td>9</td>\n",
       "      <td>13</td>\n",
       "      <td>34</td>\n",
       "      <td>1915.634644</td>\n",
       "      <td>166</td>\n",
       "      <td>3</td>\n",
       "      <td>Ashe</td>\n",
       "      <td>Elderwood</td>\n",
       "      <td>{'Irelia': {'items': [], 'stars': 2}, 'Lux': {...</td>\n",
       "      <td>{'Cultist': 1, 'Divine': 3, 'Hunter': 2, 'Adep...</td>\n",
       "      <td>1</td>\n",
       "      <td>[(Cultist, 1), (Divine, 3), (Hunter, 2), (Adep...</td>\n",
       "    </tr>\n",
       "    <tr>\n",
       "      <th>480969</th>\n",
       "      <td>10.25</td>\n",
       "      <td>EUW1_4970450971</td>\n",
       "      <td>P7sM33d22W23grj7K9b_0JibddTDOkHMej0kcrQRoOUOob...</td>\n",
       "      <td>2</td>\n",
       "      <td>8</td>\n",
       "      <td>0</td>\n",
       "      <td>34</td>\n",
       "      <td>1909.740234</td>\n",
       "      <td>117</td>\n",
       "      <td>2</td>\n",
       "      <td>Thresh</td>\n",
       "      <td>Dusk</td>\n",
       "      <td>{'Vayne': {'items': [], 'stars': 2}, 'Thresh':...</td>\n",
       "      <td>{'Cultist': 1, 'Dusk': 6, 'Emperor': 1, 'Keepe...</td>\n",
       "      <td>1</td>\n",
       "      <td>[(Cultist, 1), (Dusk, 6), (Emperor, 1), (Keepe...</td>\n",
       "    </tr>\n",
       "    <tr>\n",
       "      <th>480970</th>\n",
       "      <td>10.25</td>\n",
       "      <td>EUW1_4970450971</td>\n",
       "      <td>RFrY5m4JftKtgtSPy7KvRUR0P4o9Icsm_bkO3i0nE3FmFB...</td>\n",
       "      <td>3</td>\n",
       "      <td>9</td>\n",
       "      <td>2</td>\n",
       "      <td>34</td>\n",
       "      <td>1914.015259</td>\n",
       "      <td>117</td>\n",
       "      <td>0</td>\n",
       "      <td>Yone</td>\n",
       "      <td>Adept</td>\n",
       "      <td>{'Nami': {'items': [], 'stars': 2}, 'Lulu': {'...</td>\n",
       "      <td>{'Cultist': 1, 'Dusk': 2, 'Fortune': 1, 'Adept...</td>\n",
       "      <td>1</td>\n",
       "      <td>[(Cultist, 1), (Dusk, 2), (Fortune, 1), (Adept...</td>\n",
       "    </tr>\n",
       "    <tr>\n",
       "      <th>480971</th>\n",
       "      <td>10.25</td>\n",
       "      <td>EUW1_4970450971</td>\n",
       "      <td>68fCJ5RI9vq1WRS1r4sNUQgThbs2jfPaSjGWpwIZcFsDPf...</td>\n",
       "      <td>4</td>\n",
       "      <td>8</td>\n",
       "      <td>40</td>\n",
       "      <td>33</td>\n",
       "      <td>1835.909302</td>\n",
       "      <td>96</td>\n",
       "      <td>0</td>\n",
       "      <td>Shen</td>\n",
       "      <td>Adept</td>\n",
       "      <td>{'Wukong': {'items': [], 'stars': 2}, 'Jax': {...</td>\n",
       "      <td>{'Divine': 6, 'Duelist': 2, 'Hunter': 1, 'Adep...</td>\n",
       "      <td>1</td>\n",
       "      <td>[(Divine, 6), (Duelist, 2), (Hunter, 1), (Adep...</td>\n",
       "    </tr>\n",
       "    <tr>\n",
       "      <th>480972</th>\n",
       "      <td>10.25</td>\n",
       "      <td>EUW1_4970450971</td>\n",
       "      <td>F3tCm0sM1isUxkqfLhSJVhUqQ5MFJCcIzaZbr5VnfjQFc-...</td>\n",
       "      <td>5</td>\n",
       "      <td>8</td>\n",
       "      <td>5</td>\n",
       "      <td>31</td>\n",
       "      <td>1735.222412</td>\n",
       "      <td>77</td>\n",
       "      <td>0</td>\n",
       "      <td>NaN</td>\n",
       "      <td>NaN</td>\n",
       "      <td>{'Irelia': {'items': [], 'stars': 2}, 'Lux': {...</td>\n",
       "      <td>{'Boss': 1, 'Divine': 3, 'Emperor': 1, 'Hunter...</td>\n",
       "      <td>0</td>\n",
       "      <td>[(Boss, 1), (Divine, 3), (Emperor, 1), (Hunter...</td>\n",
       "    </tr>\n",
       "  </tbody>\n",
       "</table>\n",
       "</div>"
      ],
      "text/plain": [
       "        patch_version         match_id  \\\n",
       "480968          10.25  EUW1_4970450971   \n",
       "480969          10.25  EUW1_4970450971   \n",
       "480970          10.25  EUW1_4970450971   \n",
       "480971          10.25  EUW1_4970450971   \n",
       "480972          10.25  EUW1_4970450971   \n",
       "\n",
       "                                                    puuid  placement  level  \\\n",
       "480968  nW1eW61ZuDhTcWJhibRyJAbFTNGr0wRPljIQupCzuN3pit...          1      9   \n",
       "480969  P7sM33d22W23grj7K9b_0JibddTDOkHMej0kcrQRoOUOob...          2      8   \n",
       "480970  RFrY5m4JftKtgtSPy7KvRUR0P4o9Icsm_bkO3i0nE3FmFB...          3      9   \n",
       "480971  68fCJ5RI9vq1WRS1r4sNUQgThbs2jfPaSjGWpwIZcFsDPf...          4      8   \n",
       "480972  F3tCm0sM1isUxkqfLhSJVhUqQ5MFJCcIzaZbr5VnfjQFc-...          5      8   \n",
       "\n",
       "        gold_left  last_round  time_in_game  total_dmg_to_players  \\\n",
       "480968         13          34   1915.634644                   166   \n",
       "480969          0          34   1909.740234                   117   \n",
       "480970          2          34   1914.015259                   117   \n",
       "480971         40          33   1835.909302                    96   \n",
       "480972          5          31   1735.222412                    77   \n",
       "\n",
       "        players_eliminated chosen_unit chosen_trait  \\\n",
       "480968                   3        Ashe    Elderwood   \n",
       "480969                   2      Thresh         Dusk   \n",
       "480970                   0        Yone        Adept   \n",
       "480971                   0        Shen        Adept   \n",
       "480972                   0         NaN          NaN   \n",
       "\n",
       "                                                    units  \\\n",
       "480968  {'Irelia': {'items': [], 'stars': 2}, 'Lux': {...   \n",
       "480969  {'Vayne': {'items': [], 'stars': 2}, 'Thresh':...   \n",
       "480970  {'Nami': {'items': [], 'stars': 2}, 'Lulu': {'...   \n",
       "480971  {'Wukong': {'items': [], 'stars': 2}, 'Jax': {...   \n",
       "480972  {'Irelia': {'items': [], 'stars': 2}, 'Lux': {...   \n",
       "\n",
       "                                                   traits  top4  \\\n",
       "480968  {'Cultist': 1, 'Divine': 3, 'Hunter': 2, 'Adep...     1   \n",
       "480969  {'Cultist': 1, 'Dusk': 6, 'Emperor': 1, 'Keepe...     1   \n",
       "480970  {'Cultist': 1, 'Dusk': 2, 'Fortune': 1, 'Adept...     1   \n",
       "480971  {'Divine': 6, 'Duelist': 2, 'Hunter': 1, 'Adep...     1   \n",
       "480972  {'Boss': 1, 'Divine': 3, 'Emperor': 1, 'Hunter...     0   \n",
       "\n",
       "                                                comp_info  \n",
       "480968  [(Cultist, 1), (Divine, 3), (Hunter, 2), (Adep...  \n",
       "480969  [(Cultist, 1), (Dusk, 6), (Emperor, 1), (Keepe...  \n",
       "480970  [(Cultist, 1), (Dusk, 2), (Fortune, 1), (Adept...  \n",
       "480971  [(Divine, 6), (Duelist, 2), (Hunter, 1), (Adep...  \n",
       "480972  [(Boss, 1), (Divine, 3), (Emperor, 1), (Hunter...  "
      ]
     },
     "execution_count": 61,
     "metadata": {},
     "output_type": "execute_result"
    }
   ],
   "source": [
    "df_1025.head()"
   ]
  },
  {
   "cell_type": "code",
   "execution_count": 62,
   "id": "dbe19e5e",
   "metadata": {},
   "outputs": [
    {
     "data": {
      "text/plain": [
       "str"
      ]
     },
     "execution_count": 62,
     "metadata": {},
     "output_type": "execute_result"
    }
   ],
   "source": [
    "type(df_1025['comp_info'].iloc[0][0][1])"
   ]
  },
  {
   "cell_type": "code",
   "execution_count": 63,
   "id": "43ba8c79",
   "metadata": {},
   "outputs": [
    {
     "data": {
      "text/plain": [
       "('Cultist', '1')"
      ]
     },
     "execution_count": 63,
     "metadata": {},
     "output_type": "execute_result"
    }
   ],
   "source": [
    "df_1025['comp_info'].iloc[0][0]"
   ]
  },
  {
   "cell_type": "code",
   "execution_count": 64,
   "id": "a5ce5aa8",
   "metadata": {},
   "outputs": [],
   "source": [
    "def get_comp_info(x):\n",
    "    return x"
   ]
  },
  {
   "cell_type": "code",
   "execution_count": 65,
   "id": "ea67e7da",
   "metadata": {},
   "outputs": [],
   "source": [
    "from sklearn.feature_extraction.text import CountVectorizer"
   ]
  },
  {
   "cell_type": "code",
   "execution_count": 66,
   "id": "37f5db25",
   "metadata": {},
   "outputs": [],
   "source": [
    "from sklearn.feature_extraction.text import TfidfTransformer"
   ]
  },
  {
   "cell_type": "code",
   "execution_count": 67,
   "id": "5b53b695",
   "metadata": {},
   "outputs": [],
   "source": [
    "from sklearn.naive_bayes import MultinomialNB"
   ]
  },
  {
   "cell_type": "code",
   "execution_count": 68,
   "id": "3a0fca01",
   "metadata": {},
   "outputs": [],
   "source": [
    "from sklearn.ensemble import RandomForestClassifier"
   ]
  },
  {
   "cell_type": "code",
   "execution_count": 69,
   "id": "f44fb249",
   "metadata": {},
   "outputs": [],
   "source": [
    "from sklearn.pipeline import Pipeline"
   ]
  },
  {
   "cell_type": "code",
   "execution_count": 70,
   "id": "2ab88ef2",
   "metadata": {},
   "outputs": [],
   "source": [
    "from sklearn.model_selection import train_test_split"
   ]
  },
  {
   "cell_type": "code",
   "execution_count": 71,
   "id": "66bb7133",
   "metadata": {},
   "outputs": [],
   "source": [
    "X = df_1025['comp_info']\n",
    "y = df_1025['top4']"
   ]
  },
  {
   "cell_type": "code",
   "execution_count": 72,
   "id": "4692cea9",
   "metadata": {},
   "outputs": [],
   "source": [
    "X_train, X_test, y_train, y_test = train_test_split(X, y, test_size=0.3, random_state=101)"
   ]
  },
  {
   "cell_type": "code",
   "execution_count": 73,
   "id": "d447b1ff",
   "metadata": {},
   "outputs": [],
   "source": [
    "pipeline = Pipeline([\n",
    "    ('bof', CountVectorizer(analyzer = get_comp_info)),\n",
    "    ('tfidf', TfidfTransformer()),\n",
    "    ('classifier', MultinomialNB())\n",
    "])"
   ]
  },
  {
   "cell_type": "code",
   "execution_count": 74,
   "id": "abe7cf97",
   "metadata": {},
   "outputs": [
    {
     "data": {
      "text/html": [
       "<style>#sk-container-id-1 {color: black;background-color: white;}#sk-container-id-1 pre{padding: 0;}#sk-container-id-1 div.sk-toggleable {background-color: white;}#sk-container-id-1 label.sk-toggleable__label {cursor: pointer;display: block;width: 100%;margin-bottom: 0;padding: 0.3em;box-sizing: border-box;text-align: center;}#sk-container-id-1 label.sk-toggleable__label-arrow:before {content: \"▸\";float: left;margin-right: 0.25em;color: #696969;}#sk-container-id-1 label.sk-toggleable__label-arrow:hover:before {color: black;}#sk-container-id-1 div.sk-estimator:hover label.sk-toggleable__label-arrow:before {color: black;}#sk-container-id-1 div.sk-toggleable__content {max-height: 0;max-width: 0;overflow: hidden;text-align: left;background-color: #f0f8ff;}#sk-container-id-1 div.sk-toggleable__content pre {margin: 0.2em;color: black;border-radius: 0.25em;background-color: #f0f8ff;}#sk-container-id-1 input.sk-toggleable__control:checked~div.sk-toggleable__content {max-height: 200px;max-width: 100%;overflow: auto;}#sk-container-id-1 input.sk-toggleable__control:checked~label.sk-toggleable__label-arrow:before {content: \"▾\";}#sk-container-id-1 div.sk-estimator input.sk-toggleable__control:checked~label.sk-toggleable__label {background-color: #d4ebff;}#sk-container-id-1 div.sk-label input.sk-toggleable__control:checked~label.sk-toggleable__label {background-color: #d4ebff;}#sk-container-id-1 input.sk-hidden--visually {border: 0;clip: rect(1px 1px 1px 1px);clip: rect(1px, 1px, 1px, 1px);height: 1px;margin: -1px;overflow: hidden;padding: 0;position: absolute;width: 1px;}#sk-container-id-1 div.sk-estimator {font-family: monospace;background-color: #f0f8ff;border: 1px dotted black;border-radius: 0.25em;box-sizing: border-box;margin-bottom: 0.5em;}#sk-container-id-1 div.sk-estimator:hover {background-color: #d4ebff;}#sk-container-id-1 div.sk-parallel-item::after {content: \"\";width: 100%;border-bottom: 1px solid gray;flex-grow: 1;}#sk-container-id-1 div.sk-label:hover label.sk-toggleable__label {background-color: #d4ebff;}#sk-container-id-1 div.sk-serial::before {content: \"\";position: absolute;border-left: 1px solid gray;box-sizing: border-box;top: 0;bottom: 0;left: 50%;z-index: 0;}#sk-container-id-1 div.sk-serial {display: flex;flex-direction: column;align-items: center;background-color: white;padding-right: 0.2em;padding-left: 0.2em;position: relative;}#sk-container-id-1 div.sk-item {position: relative;z-index: 1;}#sk-container-id-1 div.sk-parallel {display: flex;align-items: stretch;justify-content: center;background-color: white;position: relative;}#sk-container-id-1 div.sk-item::before, #sk-container-id-1 div.sk-parallel-item::before {content: \"\";position: absolute;border-left: 1px solid gray;box-sizing: border-box;top: 0;bottom: 0;left: 50%;z-index: -1;}#sk-container-id-1 div.sk-parallel-item {display: flex;flex-direction: column;z-index: 1;position: relative;background-color: white;}#sk-container-id-1 div.sk-parallel-item:first-child::after {align-self: flex-end;width: 50%;}#sk-container-id-1 div.sk-parallel-item:last-child::after {align-self: flex-start;width: 50%;}#sk-container-id-1 div.sk-parallel-item:only-child::after {width: 0;}#sk-container-id-1 div.sk-dashed-wrapped {border: 1px dashed gray;margin: 0 0.4em 0.5em 0.4em;box-sizing: border-box;padding-bottom: 0.4em;background-color: white;}#sk-container-id-1 div.sk-label label {font-family: monospace;font-weight: bold;display: inline-block;line-height: 1.2em;}#sk-container-id-1 div.sk-label-container {text-align: center;}#sk-container-id-1 div.sk-container {/* jupyter's `normalize.less` sets `[hidden] { display: none; }` but bootstrap.min.css set `[hidden] { display: none !important; }` so we also need the `!important` here to be able to override the default hidden behavior on the sphinx rendered scikit-learn.org. See: https://github.com/scikit-learn/scikit-learn/issues/21755 */display: inline-block !important;position: relative;}#sk-container-id-1 div.sk-text-repr-fallback {display: none;}</style><div id=\"sk-container-id-1\" class=\"sk-top-container\"><div class=\"sk-text-repr-fallback\"><pre>Pipeline(steps=[(&#x27;bof&#x27;,\n",
       "                 CountVectorizer(analyzer=&lt;function get_comp_info at 0x00000226B860D440&gt;)),\n",
       "                (&#x27;tfidf&#x27;, TfidfTransformer()),\n",
       "                (&#x27;classifier&#x27;, MultinomialNB())])</pre><b>In a Jupyter environment, please rerun this cell to show the HTML representation or trust the notebook. <br />On GitHub, the HTML representation is unable to render, please try loading this page with nbviewer.org.</b></div><div class=\"sk-container\" hidden><div class=\"sk-item sk-dashed-wrapped\"><div class=\"sk-label-container\"><div class=\"sk-label sk-toggleable\"><input class=\"sk-toggleable__control sk-hidden--visually\" id=\"sk-estimator-id-1\" type=\"checkbox\" ><label for=\"sk-estimator-id-1\" class=\"sk-toggleable__label sk-toggleable__label-arrow\">Pipeline</label><div class=\"sk-toggleable__content\"><pre>Pipeline(steps=[(&#x27;bof&#x27;,\n",
       "                 CountVectorizer(analyzer=&lt;function get_comp_info at 0x00000226B860D440&gt;)),\n",
       "                (&#x27;tfidf&#x27;, TfidfTransformer()),\n",
       "                (&#x27;classifier&#x27;, MultinomialNB())])</pre></div></div></div><div class=\"sk-serial\"><div class=\"sk-item\"><div class=\"sk-estimator sk-toggleable\"><input class=\"sk-toggleable__control sk-hidden--visually\" id=\"sk-estimator-id-2\" type=\"checkbox\" ><label for=\"sk-estimator-id-2\" class=\"sk-toggleable__label sk-toggleable__label-arrow\">CountVectorizer</label><div class=\"sk-toggleable__content\"><pre>CountVectorizer(analyzer=&lt;function get_comp_info at 0x00000226B860D440&gt;)</pre></div></div></div><div class=\"sk-item\"><div class=\"sk-estimator sk-toggleable\"><input class=\"sk-toggleable__control sk-hidden--visually\" id=\"sk-estimator-id-3\" type=\"checkbox\" ><label for=\"sk-estimator-id-3\" class=\"sk-toggleable__label sk-toggleable__label-arrow\">TfidfTransformer</label><div class=\"sk-toggleable__content\"><pre>TfidfTransformer()</pre></div></div></div><div class=\"sk-item\"><div class=\"sk-estimator sk-toggleable\"><input class=\"sk-toggleable__control sk-hidden--visually\" id=\"sk-estimator-id-4\" type=\"checkbox\" ><label for=\"sk-estimator-id-4\" class=\"sk-toggleable__label sk-toggleable__label-arrow\">MultinomialNB</label><div class=\"sk-toggleable__content\"><pre>MultinomialNB()</pre></div></div></div></div></div></div></div>"
      ],
      "text/plain": [
       "Pipeline(steps=[('bof',\n",
       "                 CountVectorizer(analyzer=<function get_comp_info at 0x00000226B860D440>)),\n",
       "                ('tfidf', TfidfTransformer()),\n",
       "                ('classifier', MultinomialNB())])"
      ]
     },
     "execution_count": 74,
     "metadata": {},
     "output_type": "execute_result"
    }
   ],
   "source": [
    "pipeline.fit(X_train,y_train)"
   ]
  },
  {
   "cell_type": "code",
   "execution_count": 75,
   "id": "d89bf3d5",
   "metadata": {},
   "outputs": [],
   "source": [
    "predictions = pipeline.predict(X_test)"
   ]
  },
  {
   "cell_type": "code",
   "execution_count": 76,
   "id": "993aded1",
   "metadata": {},
   "outputs": [],
   "source": [
    "from sklearn.metrics import classification_report, confusion_matrix"
   ]
  },
  {
   "cell_type": "code",
   "execution_count": 77,
   "id": "52267f56",
   "metadata": {},
   "outputs": [
    {
     "name": "stdout",
     "output_type": "stream",
     "text": [
      "              precision    recall  f1-score   support\n",
      "\n",
      "           0       0.71      0.70      0.71     38884\n",
      "           1       0.70      0.71      0.71     38691\n",
      "\n",
      "    accuracy                           0.71     77575\n",
      "   macro avg       0.71      0.71      0.71     77575\n",
      "weighted avg       0.71      0.71      0.71     77575\n",
      "\n"
     ]
    }
   ],
   "source": [
    "print(classification_report(y_test, predictions))"
   ]
  },
  {
   "cell_type": "code",
   "execution_count": 78,
   "id": "9fd06c2b",
   "metadata": {},
   "outputs": [],
   "source": [
    "# Try with Logistic Regression classifier\n",
    "from sklearn.linear_model import LogisticRegression"
   ]
  },
  {
   "cell_type": "code",
   "execution_count": 79,
   "id": "5055b42e",
   "metadata": {},
   "outputs": [],
   "source": [
    "pipeline = Pipeline([\n",
    "    ('bof', CountVectorizer(analyzer = get_comp_info)),\n",
    "    ('tfidf', TfidfTransformer()),\n",
    "    ('classifier', LogisticRegression(max_iter=100000))\n",
    "])"
   ]
  },
  {
   "cell_type": "code",
   "execution_count": 80,
   "id": "0db23cfb",
   "metadata": {},
   "outputs": [
    {
     "data": {
      "text/html": [
       "<style>#sk-container-id-2 {color: black;background-color: white;}#sk-container-id-2 pre{padding: 0;}#sk-container-id-2 div.sk-toggleable {background-color: white;}#sk-container-id-2 label.sk-toggleable__label {cursor: pointer;display: block;width: 100%;margin-bottom: 0;padding: 0.3em;box-sizing: border-box;text-align: center;}#sk-container-id-2 label.sk-toggleable__label-arrow:before {content: \"▸\";float: left;margin-right: 0.25em;color: #696969;}#sk-container-id-2 label.sk-toggleable__label-arrow:hover:before {color: black;}#sk-container-id-2 div.sk-estimator:hover label.sk-toggleable__label-arrow:before {color: black;}#sk-container-id-2 div.sk-toggleable__content {max-height: 0;max-width: 0;overflow: hidden;text-align: left;background-color: #f0f8ff;}#sk-container-id-2 div.sk-toggleable__content pre {margin: 0.2em;color: black;border-radius: 0.25em;background-color: #f0f8ff;}#sk-container-id-2 input.sk-toggleable__control:checked~div.sk-toggleable__content {max-height: 200px;max-width: 100%;overflow: auto;}#sk-container-id-2 input.sk-toggleable__control:checked~label.sk-toggleable__label-arrow:before {content: \"▾\";}#sk-container-id-2 div.sk-estimator input.sk-toggleable__control:checked~label.sk-toggleable__label {background-color: #d4ebff;}#sk-container-id-2 div.sk-label input.sk-toggleable__control:checked~label.sk-toggleable__label {background-color: #d4ebff;}#sk-container-id-2 input.sk-hidden--visually {border: 0;clip: rect(1px 1px 1px 1px);clip: rect(1px, 1px, 1px, 1px);height: 1px;margin: -1px;overflow: hidden;padding: 0;position: absolute;width: 1px;}#sk-container-id-2 div.sk-estimator {font-family: monospace;background-color: #f0f8ff;border: 1px dotted black;border-radius: 0.25em;box-sizing: border-box;margin-bottom: 0.5em;}#sk-container-id-2 div.sk-estimator:hover {background-color: #d4ebff;}#sk-container-id-2 div.sk-parallel-item::after {content: \"\";width: 100%;border-bottom: 1px solid gray;flex-grow: 1;}#sk-container-id-2 div.sk-label:hover label.sk-toggleable__label {background-color: #d4ebff;}#sk-container-id-2 div.sk-serial::before {content: \"\";position: absolute;border-left: 1px solid gray;box-sizing: border-box;top: 0;bottom: 0;left: 50%;z-index: 0;}#sk-container-id-2 div.sk-serial {display: flex;flex-direction: column;align-items: center;background-color: white;padding-right: 0.2em;padding-left: 0.2em;position: relative;}#sk-container-id-2 div.sk-item {position: relative;z-index: 1;}#sk-container-id-2 div.sk-parallel {display: flex;align-items: stretch;justify-content: center;background-color: white;position: relative;}#sk-container-id-2 div.sk-item::before, #sk-container-id-2 div.sk-parallel-item::before {content: \"\";position: absolute;border-left: 1px solid gray;box-sizing: border-box;top: 0;bottom: 0;left: 50%;z-index: -1;}#sk-container-id-2 div.sk-parallel-item {display: flex;flex-direction: column;z-index: 1;position: relative;background-color: white;}#sk-container-id-2 div.sk-parallel-item:first-child::after {align-self: flex-end;width: 50%;}#sk-container-id-2 div.sk-parallel-item:last-child::after {align-self: flex-start;width: 50%;}#sk-container-id-2 div.sk-parallel-item:only-child::after {width: 0;}#sk-container-id-2 div.sk-dashed-wrapped {border: 1px dashed gray;margin: 0 0.4em 0.5em 0.4em;box-sizing: border-box;padding-bottom: 0.4em;background-color: white;}#sk-container-id-2 div.sk-label label {font-family: monospace;font-weight: bold;display: inline-block;line-height: 1.2em;}#sk-container-id-2 div.sk-label-container {text-align: center;}#sk-container-id-2 div.sk-container {/* jupyter's `normalize.less` sets `[hidden] { display: none; }` but bootstrap.min.css set `[hidden] { display: none !important; }` so we also need the `!important` here to be able to override the default hidden behavior on the sphinx rendered scikit-learn.org. See: https://github.com/scikit-learn/scikit-learn/issues/21755 */display: inline-block !important;position: relative;}#sk-container-id-2 div.sk-text-repr-fallback {display: none;}</style><div id=\"sk-container-id-2\" class=\"sk-top-container\"><div class=\"sk-text-repr-fallback\"><pre>Pipeline(steps=[(&#x27;bof&#x27;,\n",
       "                 CountVectorizer(analyzer=&lt;function get_comp_info at 0x00000226B860D440&gt;)),\n",
       "                (&#x27;tfidf&#x27;, TfidfTransformer()),\n",
       "                (&#x27;classifier&#x27;, LogisticRegression(max_iter=100000))])</pre><b>In a Jupyter environment, please rerun this cell to show the HTML representation or trust the notebook. <br />On GitHub, the HTML representation is unable to render, please try loading this page with nbviewer.org.</b></div><div class=\"sk-container\" hidden><div class=\"sk-item sk-dashed-wrapped\"><div class=\"sk-label-container\"><div class=\"sk-label sk-toggleable\"><input class=\"sk-toggleable__control sk-hidden--visually\" id=\"sk-estimator-id-5\" type=\"checkbox\" ><label for=\"sk-estimator-id-5\" class=\"sk-toggleable__label sk-toggleable__label-arrow\">Pipeline</label><div class=\"sk-toggleable__content\"><pre>Pipeline(steps=[(&#x27;bof&#x27;,\n",
       "                 CountVectorizer(analyzer=&lt;function get_comp_info at 0x00000226B860D440&gt;)),\n",
       "                (&#x27;tfidf&#x27;, TfidfTransformer()),\n",
       "                (&#x27;classifier&#x27;, LogisticRegression(max_iter=100000))])</pre></div></div></div><div class=\"sk-serial\"><div class=\"sk-item\"><div class=\"sk-estimator sk-toggleable\"><input class=\"sk-toggleable__control sk-hidden--visually\" id=\"sk-estimator-id-6\" type=\"checkbox\" ><label for=\"sk-estimator-id-6\" class=\"sk-toggleable__label sk-toggleable__label-arrow\">CountVectorizer</label><div class=\"sk-toggleable__content\"><pre>CountVectorizer(analyzer=&lt;function get_comp_info at 0x00000226B860D440&gt;)</pre></div></div></div><div class=\"sk-item\"><div class=\"sk-estimator sk-toggleable\"><input class=\"sk-toggleable__control sk-hidden--visually\" id=\"sk-estimator-id-7\" type=\"checkbox\" ><label for=\"sk-estimator-id-7\" class=\"sk-toggleable__label sk-toggleable__label-arrow\">TfidfTransformer</label><div class=\"sk-toggleable__content\"><pre>TfidfTransformer()</pre></div></div></div><div class=\"sk-item\"><div class=\"sk-estimator sk-toggleable\"><input class=\"sk-toggleable__control sk-hidden--visually\" id=\"sk-estimator-id-8\" type=\"checkbox\" ><label for=\"sk-estimator-id-8\" class=\"sk-toggleable__label sk-toggleable__label-arrow\">LogisticRegression</label><div class=\"sk-toggleable__content\"><pre>LogisticRegression(max_iter=100000)</pre></div></div></div></div></div></div></div>"
      ],
      "text/plain": [
       "Pipeline(steps=[('bof',\n",
       "                 CountVectorizer(analyzer=<function get_comp_info at 0x00000226B860D440>)),\n",
       "                ('tfidf', TfidfTransformer()),\n",
       "                ('classifier', LogisticRegression(max_iter=100000))])"
      ]
     },
     "execution_count": 80,
     "metadata": {},
     "output_type": "execute_result"
    }
   ],
   "source": [
    "pipeline.fit(X_train,y_train)"
   ]
  },
  {
   "cell_type": "code",
   "execution_count": 81,
   "id": "b4af157a",
   "metadata": {},
   "outputs": [],
   "source": [
    "logpreds = pipeline.predict(X_test)"
   ]
  },
  {
   "cell_type": "code",
   "execution_count": 82,
   "id": "50f3d64b",
   "metadata": {},
   "outputs": [
    {
     "name": "stdout",
     "output_type": "stream",
     "text": [
      "              precision    recall  f1-score   support\n",
      "\n",
      "           0       0.74      0.74      0.74     38884\n",
      "           1       0.74      0.74      0.74     38691\n",
      "\n",
      "    accuracy                           0.74     77575\n",
      "   macro avg       0.74      0.74      0.74     77575\n",
      "weighted avg       0.74      0.74      0.74     77575\n",
      "\n"
     ]
    }
   ],
   "source": [
    "print(classification_report(y_test, logpreds))"
   ]
  },
  {
   "cell_type": "markdown",
   "id": "1f27deb1",
   "metadata": {},
   "source": [
    "## Adding item count to the features"
   ]
  },
  {
   "cell_type": "code",
   "execution_count": 83,
   "id": "77530a8f",
   "metadata": {},
   "outputs": [],
   "source": [
    "def get_item_count(x):\n",
    "    cnt = 0\n",
    "    for c in x.keys():\n",
    "        cnt+=len(x[c]['items'])\n",
    "    return cnt"
   ]
  },
  {
   "cell_type": "code",
   "execution_count": 84,
   "id": "3a0b753f",
   "metadata": {},
   "outputs": [],
   "source": [
    "df_1025['item_count'] = df_1025['units'].apply(get_item_count)"
   ]
  },
  {
   "cell_type": "code",
   "execution_count": 85,
   "id": "f34301cc",
   "metadata": {},
   "outputs": [
    {
     "data": {
      "text/html": [
       "<div>\n",
       "<style scoped>\n",
       "    .dataframe tbody tr th:only-of-type {\n",
       "        vertical-align: middle;\n",
       "    }\n",
       "\n",
       "    .dataframe tbody tr th {\n",
       "        vertical-align: top;\n",
       "    }\n",
       "\n",
       "    .dataframe thead th {\n",
       "        text-align: right;\n",
       "    }\n",
       "</style>\n",
       "<table border=\"1\" class=\"dataframe\">\n",
       "  <thead>\n",
       "    <tr style=\"text-align: right;\">\n",
       "      <th></th>\n",
       "      <th>patch_version</th>\n",
       "      <th>match_id</th>\n",
       "      <th>puuid</th>\n",
       "      <th>placement</th>\n",
       "      <th>level</th>\n",
       "      <th>gold_left</th>\n",
       "      <th>last_round</th>\n",
       "      <th>time_in_game</th>\n",
       "      <th>total_dmg_to_players</th>\n",
       "      <th>players_eliminated</th>\n",
       "      <th>chosen_unit</th>\n",
       "      <th>chosen_trait</th>\n",
       "      <th>units</th>\n",
       "      <th>traits</th>\n",
       "      <th>top4</th>\n",
       "      <th>comp_info</th>\n",
       "      <th>item_count</th>\n",
       "    </tr>\n",
       "  </thead>\n",
       "  <tbody>\n",
       "    <tr>\n",
       "      <th>480968</th>\n",
       "      <td>10.25</td>\n",
       "      <td>EUW1_4970450971</td>\n",
       "      <td>nW1eW61ZuDhTcWJhibRyJAbFTNGr0wRPljIQupCzuN3pit...</td>\n",
       "      <td>1</td>\n",
       "      <td>9</td>\n",
       "      <td>13</td>\n",
       "      <td>34</td>\n",
       "      <td>1915.634644</td>\n",
       "      <td>166</td>\n",
       "      <td>3</td>\n",
       "      <td>Ashe</td>\n",
       "      <td>Elderwood</td>\n",
       "      <td>{'Irelia': {'items': [], 'stars': 2}, 'Lux': {...</td>\n",
       "      <td>{'Cultist': 1, 'Divine': 3, 'Hunter': 2, 'Adep...</td>\n",
       "      <td>1</td>\n",
       "      <td>[(Cultist, 1), (Divine, 3), (Hunter, 2), (Adep...</td>\n",
       "      <td>8</td>\n",
       "    </tr>\n",
       "    <tr>\n",
       "      <th>480969</th>\n",
       "      <td>10.25</td>\n",
       "      <td>EUW1_4970450971</td>\n",
       "      <td>P7sM33d22W23grj7K9b_0JibddTDOkHMej0kcrQRoOUOob...</td>\n",
       "      <td>2</td>\n",
       "      <td>8</td>\n",
       "      <td>0</td>\n",
       "      <td>34</td>\n",
       "      <td>1909.740234</td>\n",
       "      <td>117</td>\n",
       "      <td>2</td>\n",
       "      <td>Thresh</td>\n",
       "      <td>Dusk</td>\n",
       "      <td>{'Vayne': {'items': [], 'stars': 2}, 'Thresh':...</td>\n",
       "      <td>{'Cultist': 1, 'Dusk': 6, 'Emperor': 1, 'Keepe...</td>\n",
       "      <td>1</td>\n",
       "      <td>[(Cultist, 1), (Dusk, 6), (Emperor, 1), (Keepe...</td>\n",
       "      <td>9</td>\n",
       "    </tr>\n",
       "    <tr>\n",
       "      <th>480970</th>\n",
       "      <td>10.25</td>\n",
       "      <td>EUW1_4970450971</td>\n",
       "      <td>RFrY5m4JftKtgtSPy7KvRUR0P4o9Icsm_bkO3i0nE3FmFB...</td>\n",
       "      <td>3</td>\n",
       "      <td>9</td>\n",
       "      <td>2</td>\n",
       "      <td>34</td>\n",
       "      <td>1914.015259</td>\n",
       "      <td>117</td>\n",
       "      <td>0</td>\n",
       "      <td>Yone</td>\n",
       "      <td>Adept</td>\n",
       "      <td>{'Nami': {'items': [], 'stars': 2}, 'Lulu': {'...</td>\n",
       "      <td>{'Cultist': 1, 'Dusk': 2, 'Fortune': 1, 'Adept...</td>\n",
       "      <td>1</td>\n",
       "      <td>[(Cultist, 1), (Dusk, 2), (Fortune, 1), (Adept...</td>\n",
       "      <td>8</td>\n",
       "    </tr>\n",
       "    <tr>\n",
       "      <th>480971</th>\n",
       "      <td>10.25</td>\n",
       "      <td>EUW1_4970450971</td>\n",
       "      <td>68fCJ5RI9vq1WRS1r4sNUQgThbs2jfPaSjGWpwIZcFsDPf...</td>\n",
       "      <td>4</td>\n",
       "      <td>8</td>\n",
       "      <td>40</td>\n",
       "      <td>33</td>\n",
       "      <td>1835.909302</td>\n",
       "      <td>96</td>\n",
       "      <td>0</td>\n",
       "      <td>Shen</td>\n",
       "      <td>Adept</td>\n",
       "      <td>{'Wukong': {'items': [], 'stars': 2}, 'Jax': {...</td>\n",
       "      <td>{'Divine': 6, 'Duelist': 2, 'Hunter': 1, 'Adep...</td>\n",
       "      <td>1</td>\n",
       "      <td>[(Divine, 6), (Duelist, 2), (Hunter, 1), (Adep...</td>\n",
       "      <td>9</td>\n",
       "    </tr>\n",
       "    <tr>\n",
       "      <th>480972</th>\n",
       "      <td>10.25</td>\n",
       "      <td>EUW1_4970450971</td>\n",
       "      <td>F3tCm0sM1isUxkqfLhSJVhUqQ5MFJCcIzaZbr5VnfjQFc-...</td>\n",
       "      <td>5</td>\n",
       "      <td>8</td>\n",
       "      <td>5</td>\n",
       "      <td>31</td>\n",
       "      <td>1735.222412</td>\n",
       "      <td>77</td>\n",
       "      <td>0</td>\n",
       "      <td>NaN</td>\n",
       "      <td>NaN</td>\n",
       "      <td>{'Irelia': {'items': [], 'stars': 2}, 'Lux': {...</td>\n",
       "      <td>{'Boss': 1, 'Divine': 3, 'Emperor': 1, 'Hunter...</td>\n",
       "      <td>0</td>\n",
       "      <td>[(Boss, 1), (Divine, 3), (Emperor, 1), (Hunter...</td>\n",
       "      <td>6</td>\n",
       "    </tr>\n",
       "  </tbody>\n",
       "</table>\n",
       "</div>"
      ],
      "text/plain": [
       "        patch_version         match_id  \\\n",
       "480968          10.25  EUW1_4970450971   \n",
       "480969          10.25  EUW1_4970450971   \n",
       "480970          10.25  EUW1_4970450971   \n",
       "480971          10.25  EUW1_4970450971   \n",
       "480972          10.25  EUW1_4970450971   \n",
       "\n",
       "                                                    puuid  placement  level  \\\n",
       "480968  nW1eW61ZuDhTcWJhibRyJAbFTNGr0wRPljIQupCzuN3pit...          1      9   \n",
       "480969  P7sM33d22W23grj7K9b_0JibddTDOkHMej0kcrQRoOUOob...          2      8   \n",
       "480970  RFrY5m4JftKtgtSPy7KvRUR0P4o9Icsm_bkO3i0nE3FmFB...          3      9   \n",
       "480971  68fCJ5RI9vq1WRS1r4sNUQgThbs2jfPaSjGWpwIZcFsDPf...          4      8   \n",
       "480972  F3tCm0sM1isUxkqfLhSJVhUqQ5MFJCcIzaZbr5VnfjQFc-...          5      8   \n",
       "\n",
       "        gold_left  last_round  time_in_game  total_dmg_to_players  \\\n",
       "480968         13          34   1915.634644                   166   \n",
       "480969          0          34   1909.740234                   117   \n",
       "480970          2          34   1914.015259                   117   \n",
       "480971         40          33   1835.909302                    96   \n",
       "480972          5          31   1735.222412                    77   \n",
       "\n",
       "        players_eliminated chosen_unit chosen_trait  \\\n",
       "480968                   3        Ashe    Elderwood   \n",
       "480969                   2      Thresh         Dusk   \n",
       "480970                   0        Yone        Adept   \n",
       "480971                   0        Shen        Adept   \n",
       "480972                   0         NaN          NaN   \n",
       "\n",
       "                                                    units  \\\n",
       "480968  {'Irelia': {'items': [], 'stars': 2}, 'Lux': {...   \n",
       "480969  {'Vayne': {'items': [], 'stars': 2}, 'Thresh':...   \n",
       "480970  {'Nami': {'items': [], 'stars': 2}, 'Lulu': {'...   \n",
       "480971  {'Wukong': {'items': [], 'stars': 2}, 'Jax': {...   \n",
       "480972  {'Irelia': {'items': [], 'stars': 2}, 'Lux': {...   \n",
       "\n",
       "                                                   traits  top4  \\\n",
       "480968  {'Cultist': 1, 'Divine': 3, 'Hunter': 2, 'Adep...     1   \n",
       "480969  {'Cultist': 1, 'Dusk': 6, 'Emperor': 1, 'Keepe...     1   \n",
       "480970  {'Cultist': 1, 'Dusk': 2, 'Fortune': 1, 'Adept...     1   \n",
       "480971  {'Divine': 6, 'Duelist': 2, 'Hunter': 1, 'Adep...     1   \n",
       "480972  {'Boss': 1, 'Divine': 3, 'Emperor': 1, 'Hunter...     0   \n",
       "\n",
       "                                                comp_info  item_count  \n",
       "480968  [(Cultist, 1), (Divine, 3), (Hunter, 2), (Adep...           8  \n",
       "480969  [(Cultist, 1), (Dusk, 6), (Emperor, 1), (Keepe...           9  \n",
       "480970  [(Cultist, 1), (Dusk, 2), (Fortune, 1), (Adept...           8  \n",
       "480971  [(Divine, 6), (Duelist, 2), (Hunter, 1), (Adep...           9  \n",
       "480972  [(Boss, 1), (Divine, 3), (Emperor, 1), (Hunter...           6  "
      ]
     },
     "execution_count": 85,
     "metadata": {},
     "output_type": "execute_result"
    }
   ],
   "source": [
    "df_1025.head()"
   ]
  },
  {
   "cell_type": "code",
   "execution_count": 86,
   "id": "422da30e",
   "metadata": {},
   "outputs": [],
   "source": [
    "for i, comp in enumerate(df_1025['comp_info']):\n",
    "    comp.append(('item_count', str(df_1025['item_count'].iloc[i])))\n",
    "    "
   ]
  },
  {
   "cell_type": "code",
   "execution_count": 87,
   "id": "12fafb38",
   "metadata": {},
   "outputs": [
    {
     "data": {
      "text/plain": [
       "[('Cultist', '1'),\n",
       " ('Divine', '3'),\n",
       " ('Hunter', '2'),\n",
       " ('Adept', '3'),\n",
       " ('Brawler', '1'),\n",
       " ('Dazzler', '2'),\n",
       " ('Elderwood', '3'),\n",
       " ('Enlightened', '1'),\n",
       " ('Exile', '1'),\n",
       " ('Mystic', '2'),\n",
       " ('Ninja', '1'),\n",
       " ('Shade', '1'),\n",
       " ('Tormented', '1'),\n",
       " ('level', '9'),\n",
       " ('chosen_unit', 'Ashe'),\n",
       " ('item_count', '8')]"
      ]
     },
     "execution_count": 87,
     "metadata": {},
     "output_type": "execute_result"
    }
   ],
   "source": [
    "df_1025['comp_info'].iloc[0]"
   ]
  },
  {
   "cell_type": "code",
   "execution_count": 88,
   "id": "cf7711be",
   "metadata": {},
   "outputs": [],
   "source": [
    "X = df_1025['comp_info']\n",
    "y = df_1025['top4']"
   ]
  },
  {
   "cell_type": "code",
   "execution_count": 89,
   "id": "cf991a29",
   "metadata": {},
   "outputs": [],
   "source": [
    "X_train, X_test, y_train, y_test = train_test_split(X, y, test_size=0.3, random_state=101)"
   ]
  },
  {
   "cell_type": "code",
   "execution_count": 90,
   "id": "c76b57ec",
   "metadata": {},
   "outputs": [],
   "source": [
    "# Pipeline with MultinomialNB classifier\n",
    "pipeline = Pipeline([\n",
    "    ('bof', CountVectorizer(analyzer = get_comp_info)),\n",
    "    ('tfidf', TfidfTransformer()),\n",
    "    ('classifier', MultinomialNB())\n",
    "])"
   ]
  },
  {
   "cell_type": "code",
   "execution_count": 91,
   "id": "f8a7dd72",
   "metadata": {},
   "outputs": [
    {
     "data": {
      "text/html": [
       "<style>#sk-container-id-3 {color: black;background-color: white;}#sk-container-id-3 pre{padding: 0;}#sk-container-id-3 div.sk-toggleable {background-color: white;}#sk-container-id-3 label.sk-toggleable__label {cursor: pointer;display: block;width: 100%;margin-bottom: 0;padding: 0.3em;box-sizing: border-box;text-align: center;}#sk-container-id-3 label.sk-toggleable__label-arrow:before {content: \"▸\";float: left;margin-right: 0.25em;color: #696969;}#sk-container-id-3 label.sk-toggleable__label-arrow:hover:before {color: black;}#sk-container-id-3 div.sk-estimator:hover label.sk-toggleable__label-arrow:before {color: black;}#sk-container-id-3 div.sk-toggleable__content {max-height: 0;max-width: 0;overflow: hidden;text-align: left;background-color: #f0f8ff;}#sk-container-id-3 div.sk-toggleable__content pre {margin: 0.2em;color: black;border-radius: 0.25em;background-color: #f0f8ff;}#sk-container-id-3 input.sk-toggleable__control:checked~div.sk-toggleable__content {max-height: 200px;max-width: 100%;overflow: auto;}#sk-container-id-3 input.sk-toggleable__control:checked~label.sk-toggleable__label-arrow:before {content: \"▾\";}#sk-container-id-3 div.sk-estimator input.sk-toggleable__control:checked~label.sk-toggleable__label {background-color: #d4ebff;}#sk-container-id-3 div.sk-label input.sk-toggleable__control:checked~label.sk-toggleable__label {background-color: #d4ebff;}#sk-container-id-3 input.sk-hidden--visually {border: 0;clip: rect(1px 1px 1px 1px);clip: rect(1px, 1px, 1px, 1px);height: 1px;margin: -1px;overflow: hidden;padding: 0;position: absolute;width: 1px;}#sk-container-id-3 div.sk-estimator {font-family: monospace;background-color: #f0f8ff;border: 1px dotted black;border-radius: 0.25em;box-sizing: border-box;margin-bottom: 0.5em;}#sk-container-id-3 div.sk-estimator:hover {background-color: #d4ebff;}#sk-container-id-3 div.sk-parallel-item::after {content: \"\";width: 100%;border-bottom: 1px solid gray;flex-grow: 1;}#sk-container-id-3 div.sk-label:hover label.sk-toggleable__label {background-color: #d4ebff;}#sk-container-id-3 div.sk-serial::before {content: \"\";position: absolute;border-left: 1px solid gray;box-sizing: border-box;top: 0;bottom: 0;left: 50%;z-index: 0;}#sk-container-id-3 div.sk-serial {display: flex;flex-direction: column;align-items: center;background-color: white;padding-right: 0.2em;padding-left: 0.2em;position: relative;}#sk-container-id-3 div.sk-item {position: relative;z-index: 1;}#sk-container-id-3 div.sk-parallel {display: flex;align-items: stretch;justify-content: center;background-color: white;position: relative;}#sk-container-id-3 div.sk-item::before, #sk-container-id-3 div.sk-parallel-item::before {content: \"\";position: absolute;border-left: 1px solid gray;box-sizing: border-box;top: 0;bottom: 0;left: 50%;z-index: -1;}#sk-container-id-3 div.sk-parallel-item {display: flex;flex-direction: column;z-index: 1;position: relative;background-color: white;}#sk-container-id-3 div.sk-parallel-item:first-child::after {align-self: flex-end;width: 50%;}#sk-container-id-3 div.sk-parallel-item:last-child::after {align-self: flex-start;width: 50%;}#sk-container-id-3 div.sk-parallel-item:only-child::after {width: 0;}#sk-container-id-3 div.sk-dashed-wrapped {border: 1px dashed gray;margin: 0 0.4em 0.5em 0.4em;box-sizing: border-box;padding-bottom: 0.4em;background-color: white;}#sk-container-id-3 div.sk-label label {font-family: monospace;font-weight: bold;display: inline-block;line-height: 1.2em;}#sk-container-id-3 div.sk-label-container {text-align: center;}#sk-container-id-3 div.sk-container {/* jupyter's `normalize.less` sets `[hidden] { display: none; }` but bootstrap.min.css set `[hidden] { display: none !important; }` so we also need the `!important` here to be able to override the default hidden behavior on the sphinx rendered scikit-learn.org. See: https://github.com/scikit-learn/scikit-learn/issues/21755 */display: inline-block !important;position: relative;}#sk-container-id-3 div.sk-text-repr-fallback {display: none;}</style><div id=\"sk-container-id-3\" class=\"sk-top-container\"><div class=\"sk-text-repr-fallback\"><pre>Pipeline(steps=[(&#x27;bof&#x27;,\n",
       "                 CountVectorizer(analyzer=&lt;function get_comp_info at 0x00000226B860D440&gt;)),\n",
       "                (&#x27;tfidf&#x27;, TfidfTransformer()),\n",
       "                (&#x27;classifier&#x27;, MultinomialNB())])</pre><b>In a Jupyter environment, please rerun this cell to show the HTML representation or trust the notebook. <br />On GitHub, the HTML representation is unable to render, please try loading this page with nbviewer.org.</b></div><div class=\"sk-container\" hidden><div class=\"sk-item sk-dashed-wrapped\"><div class=\"sk-label-container\"><div class=\"sk-label sk-toggleable\"><input class=\"sk-toggleable__control sk-hidden--visually\" id=\"sk-estimator-id-9\" type=\"checkbox\" ><label for=\"sk-estimator-id-9\" class=\"sk-toggleable__label sk-toggleable__label-arrow\">Pipeline</label><div class=\"sk-toggleable__content\"><pre>Pipeline(steps=[(&#x27;bof&#x27;,\n",
       "                 CountVectorizer(analyzer=&lt;function get_comp_info at 0x00000226B860D440&gt;)),\n",
       "                (&#x27;tfidf&#x27;, TfidfTransformer()),\n",
       "                (&#x27;classifier&#x27;, MultinomialNB())])</pre></div></div></div><div class=\"sk-serial\"><div class=\"sk-item\"><div class=\"sk-estimator sk-toggleable\"><input class=\"sk-toggleable__control sk-hidden--visually\" id=\"sk-estimator-id-10\" type=\"checkbox\" ><label for=\"sk-estimator-id-10\" class=\"sk-toggleable__label sk-toggleable__label-arrow\">CountVectorizer</label><div class=\"sk-toggleable__content\"><pre>CountVectorizer(analyzer=&lt;function get_comp_info at 0x00000226B860D440&gt;)</pre></div></div></div><div class=\"sk-item\"><div class=\"sk-estimator sk-toggleable\"><input class=\"sk-toggleable__control sk-hidden--visually\" id=\"sk-estimator-id-11\" type=\"checkbox\" ><label for=\"sk-estimator-id-11\" class=\"sk-toggleable__label sk-toggleable__label-arrow\">TfidfTransformer</label><div class=\"sk-toggleable__content\"><pre>TfidfTransformer()</pre></div></div></div><div class=\"sk-item\"><div class=\"sk-estimator sk-toggleable\"><input class=\"sk-toggleable__control sk-hidden--visually\" id=\"sk-estimator-id-12\" type=\"checkbox\" ><label for=\"sk-estimator-id-12\" class=\"sk-toggleable__label sk-toggleable__label-arrow\">MultinomialNB</label><div class=\"sk-toggleable__content\"><pre>MultinomialNB()</pre></div></div></div></div></div></div></div>"
      ],
      "text/plain": [
       "Pipeline(steps=[('bof',\n",
       "                 CountVectorizer(analyzer=<function get_comp_info at 0x00000226B860D440>)),\n",
       "                ('tfidf', TfidfTransformer()),\n",
       "                ('classifier', MultinomialNB())])"
      ]
     },
     "execution_count": 91,
     "metadata": {},
     "output_type": "execute_result"
    }
   ],
   "source": [
    "pipeline.fit(X_train, y_train)"
   ]
  },
  {
   "cell_type": "code",
   "execution_count": 92,
   "id": "d694dfe9",
   "metadata": {},
   "outputs": [],
   "source": [
    "nbpreds = pipeline.predict(X_test)"
   ]
  },
  {
   "cell_type": "code",
   "execution_count": 93,
   "id": "0a97613a",
   "metadata": {},
   "outputs": [
    {
     "name": "stdout",
     "output_type": "stream",
     "text": [
      "              precision    recall  f1-score   support\n",
      "\n",
      "           0       0.82      0.76      0.79     38884\n",
      "           1       0.78      0.83      0.80     38691\n",
      "\n",
      "    accuracy                           0.80     77575\n",
      "   macro avg       0.80      0.80      0.80     77575\n",
      "weighted avg       0.80      0.80      0.80     77575\n",
      "\n"
     ]
    }
   ],
   "source": [
    "print(classification_report(y_test, nbpreds))"
   ]
  },
  {
   "cell_type": "code",
   "execution_count": 94,
   "id": "984fee61",
   "metadata": {},
   "outputs": [
    {
     "name": "stdout",
     "output_type": "stream",
     "text": [
      "[[29738  9146]\n",
      " [ 6710 31981]]\n"
     ]
    }
   ],
   "source": [
    "print(confusion_matrix(y_test, nbpreds))"
   ]
  },
  {
   "cell_type": "code",
   "execution_count": 95,
   "id": "46c413e9",
   "metadata": {},
   "outputs": [],
   "source": [
    "# Pipeline with Logistic Regression classifier\n",
    "pipeline = Pipeline([\n",
    "    ('bof', CountVectorizer(analyzer = get_comp_info)),\n",
    "    ('tfidf', TfidfTransformer()),\n",
    "    ('classifier', LogisticRegression(max_iter=100000))\n",
    "])"
   ]
  },
  {
   "cell_type": "code",
   "execution_count": 96,
   "id": "c66ff8a3",
   "metadata": {},
   "outputs": [
    {
     "data": {
      "text/html": [
       "<style>#sk-container-id-4 {color: black;background-color: white;}#sk-container-id-4 pre{padding: 0;}#sk-container-id-4 div.sk-toggleable {background-color: white;}#sk-container-id-4 label.sk-toggleable__label {cursor: pointer;display: block;width: 100%;margin-bottom: 0;padding: 0.3em;box-sizing: border-box;text-align: center;}#sk-container-id-4 label.sk-toggleable__label-arrow:before {content: \"▸\";float: left;margin-right: 0.25em;color: #696969;}#sk-container-id-4 label.sk-toggleable__label-arrow:hover:before {color: black;}#sk-container-id-4 div.sk-estimator:hover label.sk-toggleable__label-arrow:before {color: black;}#sk-container-id-4 div.sk-toggleable__content {max-height: 0;max-width: 0;overflow: hidden;text-align: left;background-color: #f0f8ff;}#sk-container-id-4 div.sk-toggleable__content pre {margin: 0.2em;color: black;border-radius: 0.25em;background-color: #f0f8ff;}#sk-container-id-4 input.sk-toggleable__control:checked~div.sk-toggleable__content {max-height: 200px;max-width: 100%;overflow: auto;}#sk-container-id-4 input.sk-toggleable__control:checked~label.sk-toggleable__label-arrow:before {content: \"▾\";}#sk-container-id-4 div.sk-estimator input.sk-toggleable__control:checked~label.sk-toggleable__label {background-color: #d4ebff;}#sk-container-id-4 div.sk-label input.sk-toggleable__control:checked~label.sk-toggleable__label {background-color: #d4ebff;}#sk-container-id-4 input.sk-hidden--visually {border: 0;clip: rect(1px 1px 1px 1px);clip: rect(1px, 1px, 1px, 1px);height: 1px;margin: -1px;overflow: hidden;padding: 0;position: absolute;width: 1px;}#sk-container-id-4 div.sk-estimator {font-family: monospace;background-color: #f0f8ff;border: 1px dotted black;border-radius: 0.25em;box-sizing: border-box;margin-bottom: 0.5em;}#sk-container-id-4 div.sk-estimator:hover {background-color: #d4ebff;}#sk-container-id-4 div.sk-parallel-item::after {content: \"\";width: 100%;border-bottom: 1px solid gray;flex-grow: 1;}#sk-container-id-4 div.sk-label:hover label.sk-toggleable__label {background-color: #d4ebff;}#sk-container-id-4 div.sk-serial::before {content: \"\";position: absolute;border-left: 1px solid gray;box-sizing: border-box;top: 0;bottom: 0;left: 50%;z-index: 0;}#sk-container-id-4 div.sk-serial {display: flex;flex-direction: column;align-items: center;background-color: white;padding-right: 0.2em;padding-left: 0.2em;position: relative;}#sk-container-id-4 div.sk-item {position: relative;z-index: 1;}#sk-container-id-4 div.sk-parallel {display: flex;align-items: stretch;justify-content: center;background-color: white;position: relative;}#sk-container-id-4 div.sk-item::before, #sk-container-id-4 div.sk-parallel-item::before {content: \"\";position: absolute;border-left: 1px solid gray;box-sizing: border-box;top: 0;bottom: 0;left: 50%;z-index: -1;}#sk-container-id-4 div.sk-parallel-item {display: flex;flex-direction: column;z-index: 1;position: relative;background-color: white;}#sk-container-id-4 div.sk-parallel-item:first-child::after {align-self: flex-end;width: 50%;}#sk-container-id-4 div.sk-parallel-item:last-child::after {align-self: flex-start;width: 50%;}#sk-container-id-4 div.sk-parallel-item:only-child::after {width: 0;}#sk-container-id-4 div.sk-dashed-wrapped {border: 1px dashed gray;margin: 0 0.4em 0.5em 0.4em;box-sizing: border-box;padding-bottom: 0.4em;background-color: white;}#sk-container-id-4 div.sk-label label {font-family: monospace;font-weight: bold;display: inline-block;line-height: 1.2em;}#sk-container-id-4 div.sk-label-container {text-align: center;}#sk-container-id-4 div.sk-container {/* jupyter's `normalize.less` sets `[hidden] { display: none; }` but bootstrap.min.css set `[hidden] { display: none !important; }` so we also need the `!important` here to be able to override the default hidden behavior on the sphinx rendered scikit-learn.org. See: https://github.com/scikit-learn/scikit-learn/issues/21755 */display: inline-block !important;position: relative;}#sk-container-id-4 div.sk-text-repr-fallback {display: none;}</style><div id=\"sk-container-id-4\" class=\"sk-top-container\"><div class=\"sk-text-repr-fallback\"><pre>Pipeline(steps=[(&#x27;bof&#x27;,\n",
       "                 CountVectorizer(analyzer=&lt;function get_comp_info at 0x00000226B860D440&gt;)),\n",
       "                (&#x27;tfidf&#x27;, TfidfTransformer()),\n",
       "                (&#x27;classifier&#x27;, LogisticRegression(max_iter=100000))])</pre><b>In a Jupyter environment, please rerun this cell to show the HTML representation or trust the notebook. <br />On GitHub, the HTML representation is unable to render, please try loading this page with nbviewer.org.</b></div><div class=\"sk-container\" hidden><div class=\"sk-item sk-dashed-wrapped\"><div class=\"sk-label-container\"><div class=\"sk-label sk-toggleable\"><input class=\"sk-toggleable__control sk-hidden--visually\" id=\"sk-estimator-id-13\" type=\"checkbox\" ><label for=\"sk-estimator-id-13\" class=\"sk-toggleable__label sk-toggleable__label-arrow\">Pipeline</label><div class=\"sk-toggleable__content\"><pre>Pipeline(steps=[(&#x27;bof&#x27;,\n",
       "                 CountVectorizer(analyzer=&lt;function get_comp_info at 0x00000226B860D440&gt;)),\n",
       "                (&#x27;tfidf&#x27;, TfidfTransformer()),\n",
       "                (&#x27;classifier&#x27;, LogisticRegression(max_iter=100000))])</pre></div></div></div><div class=\"sk-serial\"><div class=\"sk-item\"><div class=\"sk-estimator sk-toggleable\"><input class=\"sk-toggleable__control sk-hidden--visually\" id=\"sk-estimator-id-14\" type=\"checkbox\" ><label for=\"sk-estimator-id-14\" class=\"sk-toggleable__label sk-toggleable__label-arrow\">CountVectorizer</label><div class=\"sk-toggleable__content\"><pre>CountVectorizer(analyzer=&lt;function get_comp_info at 0x00000226B860D440&gt;)</pre></div></div></div><div class=\"sk-item\"><div class=\"sk-estimator sk-toggleable\"><input class=\"sk-toggleable__control sk-hidden--visually\" id=\"sk-estimator-id-15\" type=\"checkbox\" ><label for=\"sk-estimator-id-15\" class=\"sk-toggleable__label sk-toggleable__label-arrow\">TfidfTransformer</label><div class=\"sk-toggleable__content\"><pre>TfidfTransformer()</pre></div></div></div><div class=\"sk-item\"><div class=\"sk-estimator sk-toggleable\"><input class=\"sk-toggleable__control sk-hidden--visually\" id=\"sk-estimator-id-16\" type=\"checkbox\" ><label for=\"sk-estimator-id-16\" class=\"sk-toggleable__label sk-toggleable__label-arrow\">LogisticRegression</label><div class=\"sk-toggleable__content\"><pre>LogisticRegression(max_iter=100000)</pre></div></div></div></div></div></div></div>"
      ],
      "text/plain": [
       "Pipeline(steps=[('bof',\n",
       "                 CountVectorizer(analyzer=<function get_comp_info at 0x00000226B860D440>)),\n",
       "                ('tfidf', TfidfTransformer()),\n",
       "                ('classifier', LogisticRegression(max_iter=100000))])"
      ]
     },
     "execution_count": 96,
     "metadata": {},
     "output_type": "execute_result"
    }
   ],
   "source": [
    "pipeline.fit(X_train, y_train)"
   ]
  },
  {
   "cell_type": "code",
   "execution_count": 97,
   "id": "f0c7f148",
   "metadata": {},
   "outputs": [],
   "source": [
    "logpreds = pipeline.predict(X_test)"
   ]
  },
  {
   "cell_type": "code",
   "execution_count": 98,
   "id": "8662daa6",
   "metadata": {},
   "outputs": [
    {
     "name": "stdout",
     "output_type": "stream",
     "text": [
      "              precision    recall  f1-score   support\n",
      "\n",
      "           0       0.83      0.78      0.80     38884\n",
      "           1       0.79      0.83      0.81     38691\n",
      "\n",
      "    accuracy                           0.81     77575\n",
      "   macro avg       0.81      0.81      0.81     77575\n",
      "weighted avg       0.81      0.81      0.81     77575\n",
      "\n"
     ]
    }
   ],
   "source": [
    "print(classification_report(y_test, logpreds))"
   ]
  },
  {
   "cell_type": "code",
   "execution_count": 99,
   "id": "9433ecc4",
   "metadata": {},
   "outputs": [
    {
     "name": "stdout",
     "output_type": "stream",
     "text": [
      "[[30466  8418]\n",
      " [ 6403 32288]]\n"
     ]
    }
   ],
   "source": [
    "print(confusion_matrix(y_test, logpreds))"
   ]
  },
  {
   "cell_type": "markdown",
   "id": "221ae386",
   "metadata": {},
   "source": [
    "## Adding number of 2-star & 3-star units / total unit count"
   ]
  },
  {
   "cell_type": "code",
   "execution_count": 100,
   "id": "286437d2",
   "metadata": {},
   "outputs": [],
   "source": [
    "def upgraded_units(x):\n",
    "    try:\n",
    "        total_cnt = len(x)\n",
    "        upgraded_cnt = 0\n",
    "        for c in x.keys():\n",
    "            if x[c]['stars'] >1:\n",
    "                upgraded_cnt+=1\n",
    "        return upgraded_cnt/total_cnt\n",
    "    except:\n",
    "        return 0"
   ]
  },
  {
   "cell_type": "code",
   "execution_count": 101,
   "id": "1f66f23e",
   "metadata": {},
   "outputs": [],
   "source": [
    "df_1025['upgraded_units_proportion'] = df_1025['units'].apply(upgraded_units)"
   ]
  },
  {
   "cell_type": "code",
   "execution_count": 104,
   "id": "05b14c0e",
   "metadata": {},
   "outputs": [
    {
     "data": {
      "text/html": [
       "<div>\n",
       "<style scoped>\n",
       "    .dataframe tbody tr th:only-of-type {\n",
       "        vertical-align: middle;\n",
       "    }\n",
       "\n",
       "    .dataframe tbody tr th {\n",
       "        vertical-align: top;\n",
       "    }\n",
       "\n",
       "    .dataframe thead th {\n",
       "        text-align: right;\n",
       "    }\n",
       "</style>\n",
       "<table border=\"1\" class=\"dataframe\">\n",
       "  <thead>\n",
       "    <tr style=\"text-align: right;\">\n",
       "      <th></th>\n",
       "      <th>patch_version</th>\n",
       "      <th>match_id</th>\n",
       "      <th>puuid</th>\n",
       "      <th>placement</th>\n",
       "      <th>level</th>\n",
       "      <th>gold_left</th>\n",
       "      <th>last_round</th>\n",
       "      <th>time_in_game</th>\n",
       "      <th>total_dmg_to_players</th>\n",
       "      <th>players_eliminated</th>\n",
       "      <th>chosen_unit</th>\n",
       "      <th>chosen_trait</th>\n",
       "      <th>units</th>\n",
       "      <th>traits</th>\n",
       "      <th>top4</th>\n",
       "      <th>comp_info</th>\n",
       "      <th>item_count</th>\n",
       "      <th>upgraded_units_proportion</th>\n",
       "    </tr>\n",
       "  </thead>\n",
       "  <tbody>\n",
       "    <tr>\n",
       "      <th>480968</th>\n",
       "      <td>10.25</td>\n",
       "      <td>EUW1_4970450971</td>\n",
       "      <td>nW1eW61ZuDhTcWJhibRyJAbFTNGr0wRPljIQupCzuN3pit...</td>\n",
       "      <td>1</td>\n",
       "      <td>9</td>\n",
       "      <td>13</td>\n",
       "      <td>34</td>\n",
       "      <td>1915.634644</td>\n",
       "      <td>166</td>\n",
       "      <td>3</td>\n",
       "      <td>Ashe</td>\n",
       "      <td>Elderwood</td>\n",
       "      <td>{'Irelia': {'items': [], 'stars': 2}, 'Lux': {...</td>\n",
       "      <td>{'Cultist': 1, 'Divine': 3, 'Hunter': 2, 'Adep...</td>\n",
       "      <td>1</td>\n",
       "      <td>[(Cultist, 1), (Divine, 3), (Hunter, 2), (Adep...</td>\n",
       "      <td>8</td>\n",
       "      <td>0.555556</td>\n",
       "    </tr>\n",
       "    <tr>\n",
       "      <th>480969</th>\n",
       "      <td>10.25</td>\n",
       "      <td>EUW1_4970450971</td>\n",
       "      <td>P7sM33d22W23grj7K9b_0JibddTDOkHMej0kcrQRoOUOob...</td>\n",
       "      <td>2</td>\n",
       "      <td>8</td>\n",
       "      <td>0</td>\n",
       "      <td>34</td>\n",
       "      <td>1909.740234</td>\n",
       "      <td>117</td>\n",
       "      <td>2</td>\n",
       "      <td>Thresh</td>\n",
       "      <td>Dusk</td>\n",
       "      <td>{'Vayne': {'items': [], 'stars': 2}, 'Thresh':...</td>\n",
       "      <td>{'Cultist': 1, 'Dusk': 6, 'Emperor': 1, 'Keepe...</td>\n",
       "      <td>1</td>\n",
       "      <td>[(Cultist, 1), (Dusk, 6), (Emperor, 1), (Keepe...</td>\n",
       "      <td>9</td>\n",
       "      <td>0.571429</td>\n",
       "    </tr>\n",
       "    <tr>\n",
       "      <th>480970</th>\n",
       "      <td>10.25</td>\n",
       "      <td>EUW1_4970450971</td>\n",
       "      <td>RFrY5m4JftKtgtSPy7KvRUR0P4o9Icsm_bkO3i0nE3FmFB...</td>\n",
       "      <td>3</td>\n",
       "      <td>9</td>\n",
       "      <td>2</td>\n",
       "      <td>34</td>\n",
       "      <td>1914.015259</td>\n",
       "      <td>117</td>\n",
       "      <td>0</td>\n",
       "      <td>Yone</td>\n",
       "      <td>Adept</td>\n",
       "      <td>{'Nami': {'items': [], 'stars': 2}, 'Lulu': {'...</td>\n",
       "      <td>{'Cultist': 1, 'Dusk': 2, 'Fortune': 1, 'Adept...</td>\n",
       "      <td>1</td>\n",
       "      <td>[(Cultist, 1), (Dusk, 2), (Fortune, 1), (Adept...</td>\n",
       "      <td>8</td>\n",
       "      <td>0.666667</td>\n",
       "    </tr>\n",
       "    <tr>\n",
       "      <th>480971</th>\n",
       "      <td>10.25</td>\n",
       "      <td>EUW1_4970450971</td>\n",
       "      <td>68fCJ5RI9vq1WRS1r4sNUQgThbs2jfPaSjGWpwIZcFsDPf...</td>\n",
       "      <td>4</td>\n",
       "      <td>8</td>\n",
       "      <td>40</td>\n",
       "      <td>33</td>\n",
       "      <td>1835.909302</td>\n",
       "      <td>96</td>\n",
       "      <td>0</td>\n",
       "      <td>Shen</td>\n",
       "      <td>Adept</td>\n",
       "      <td>{'Wukong': {'items': [], 'stars': 2}, 'Jax': {...</td>\n",
       "      <td>{'Divine': 6, 'Duelist': 2, 'Hunter': 1, 'Adep...</td>\n",
       "      <td>1</td>\n",
       "      <td>[(Divine, 6), (Duelist, 2), (Hunter, 1), (Adep...</td>\n",
       "      <td>9</td>\n",
       "      <td>0.875000</td>\n",
       "    </tr>\n",
       "    <tr>\n",
       "      <th>480972</th>\n",
       "      <td>10.25</td>\n",
       "      <td>EUW1_4970450971</td>\n",
       "      <td>F3tCm0sM1isUxkqfLhSJVhUqQ5MFJCcIzaZbr5VnfjQFc-...</td>\n",
       "      <td>5</td>\n",
       "      <td>8</td>\n",
       "      <td>5</td>\n",
       "      <td>31</td>\n",
       "      <td>1735.222412</td>\n",
       "      <td>77</td>\n",
       "      <td>0</td>\n",
       "      <td>NaN</td>\n",
       "      <td>NaN</td>\n",
       "      <td>{'Irelia': {'items': [], 'stars': 2}, 'Lux': {...</td>\n",
       "      <td>{'Boss': 1, 'Divine': 3, 'Emperor': 1, 'Hunter...</td>\n",
       "      <td>0</td>\n",
       "      <td>[(Boss, 1), (Divine, 3), (Emperor, 1), (Hunter...</td>\n",
       "      <td>6</td>\n",
       "      <td>0.666667</td>\n",
       "    </tr>\n",
       "  </tbody>\n",
       "</table>\n",
       "</div>"
      ],
      "text/plain": [
       "        patch_version         match_id  \\\n",
       "480968          10.25  EUW1_4970450971   \n",
       "480969          10.25  EUW1_4970450971   \n",
       "480970          10.25  EUW1_4970450971   \n",
       "480971          10.25  EUW1_4970450971   \n",
       "480972          10.25  EUW1_4970450971   \n",
       "\n",
       "                                                    puuid  placement  level  \\\n",
       "480968  nW1eW61ZuDhTcWJhibRyJAbFTNGr0wRPljIQupCzuN3pit...          1      9   \n",
       "480969  P7sM33d22W23grj7K9b_0JibddTDOkHMej0kcrQRoOUOob...          2      8   \n",
       "480970  RFrY5m4JftKtgtSPy7KvRUR0P4o9Icsm_bkO3i0nE3FmFB...          3      9   \n",
       "480971  68fCJ5RI9vq1WRS1r4sNUQgThbs2jfPaSjGWpwIZcFsDPf...          4      8   \n",
       "480972  F3tCm0sM1isUxkqfLhSJVhUqQ5MFJCcIzaZbr5VnfjQFc-...          5      8   \n",
       "\n",
       "        gold_left  last_round  time_in_game  total_dmg_to_players  \\\n",
       "480968         13          34   1915.634644                   166   \n",
       "480969          0          34   1909.740234                   117   \n",
       "480970          2          34   1914.015259                   117   \n",
       "480971         40          33   1835.909302                    96   \n",
       "480972          5          31   1735.222412                    77   \n",
       "\n",
       "        players_eliminated chosen_unit chosen_trait  \\\n",
       "480968                   3        Ashe    Elderwood   \n",
       "480969                   2      Thresh         Dusk   \n",
       "480970                   0        Yone        Adept   \n",
       "480971                   0        Shen        Adept   \n",
       "480972                   0         NaN          NaN   \n",
       "\n",
       "                                                    units  \\\n",
       "480968  {'Irelia': {'items': [], 'stars': 2}, 'Lux': {...   \n",
       "480969  {'Vayne': {'items': [], 'stars': 2}, 'Thresh':...   \n",
       "480970  {'Nami': {'items': [], 'stars': 2}, 'Lulu': {'...   \n",
       "480971  {'Wukong': {'items': [], 'stars': 2}, 'Jax': {...   \n",
       "480972  {'Irelia': {'items': [], 'stars': 2}, 'Lux': {...   \n",
       "\n",
       "                                                   traits  top4  \\\n",
       "480968  {'Cultist': 1, 'Divine': 3, 'Hunter': 2, 'Adep...     1   \n",
       "480969  {'Cultist': 1, 'Dusk': 6, 'Emperor': 1, 'Keepe...     1   \n",
       "480970  {'Cultist': 1, 'Dusk': 2, 'Fortune': 1, 'Adept...     1   \n",
       "480971  {'Divine': 6, 'Duelist': 2, 'Hunter': 1, 'Adep...     1   \n",
       "480972  {'Boss': 1, 'Divine': 3, 'Emperor': 1, 'Hunter...     0   \n",
       "\n",
       "                                                comp_info  item_count  \\\n",
       "480968  [(Cultist, 1), (Divine, 3), (Hunter, 2), (Adep...           8   \n",
       "480969  [(Cultist, 1), (Dusk, 6), (Emperor, 1), (Keepe...           9   \n",
       "480970  [(Cultist, 1), (Dusk, 2), (Fortune, 1), (Adept...           8   \n",
       "480971  [(Divine, 6), (Duelist, 2), (Hunter, 1), (Adep...           9   \n",
       "480972  [(Boss, 1), (Divine, 3), (Emperor, 1), (Hunter...           6   \n",
       "\n",
       "        upgraded_units_proportion  \n",
       "480968                   0.555556  \n",
       "480969                   0.571429  \n",
       "480970                   0.666667  \n",
       "480971                   0.875000  \n",
       "480972                   0.666667  "
      ]
     },
     "execution_count": 104,
     "metadata": {},
     "output_type": "execute_result"
    }
   ],
   "source": [
    "df_1025.head()"
   ]
  },
  {
   "cell_type": "code",
   "execution_count": 107,
   "id": "172f3495",
   "metadata": {},
   "outputs": [],
   "source": [
    "for i, c in enumerate(df_1025['comp_info']):\n",
    "    c.append(('upgraded_units', str(df_1025['upgraded_units_proportion'].iloc[i])))"
   ]
  },
  {
   "cell_type": "code",
   "execution_count": 108,
   "id": "fa90c3ce",
   "metadata": {},
   "outputs": [
    {
     "data": {
      "text/plain": [
       "[('Cultist', '1'),\n",
       " ('Divine', '3'),\n",
       " ('Hunter', '2'),\n",
       " ('Adept', '3'),\n",
       " ('Brawler', '1'),\n",
       " ('Dazzler', '2'),\n",
       " ('Elderwood', '3'),\n",
       " ('Enlightened', '1'),\n",
       " ('Exile', '1'),\n",
       " ('Mystic', '2'),\n",
       " ('Ninja', '1'),\n",
       " ('Shade', '1'),\n",
       " ('Tormented', '1'),\n",
       " ('level', '9'),\n",
       " ('chosen_unit', 'Ashe'),\n",
       " ('item_count', '8'),\n",
       " ('upgraded_units', '0.5555555555555556')]"
      ]
     },
     "execution_count": 108,
     "metadata": {},
     "output_type": "execute_result"
    }
   ],
   "source": [
    "df_1025['comp_info'].iloc[0]"
   ]
  },
  {
   "cell_type": "code",
   "execution_count": 109,
   "id": "2e334ddd",
   "metadata": {},
   "outputs": [],
   "source": [
    "X = df_1025['comp_info']\n",
    "y = df_1025['top4']"
   ]
  },
  {
   "cell_type": "code",
   "execution_count": 110,
   "id": "af1c4b4c",
   "metadata": {},
   "outputs": [],
   "source": [
    "X_train, X_test, y_train, y_test = train_test_split(X, y, test_size=0.3, random_state=101)"
   ]
  },
  {
   "cell_type": "code",
   "execution_count": 111,
   "id": "1969c23b",
   "metadata": {},
   "outputs": [],
   "source": [
    "# Pipeline with MultinomialNB classifier\n",
    "pipeline = Pipeline([\n",
    "    ('bof', CountVectorizer(analyzer = get_comp_info)),\n",
    "    ('tfidf', TfidfTransformer()),\n",
    "    ('classifier', MultinomialNB())\n",
    "])"
   ]
  },
  {
   "cell_type": "code",
   "execution_count": 112,
   "id": "70b16d40",
   "metadata": {},
   "outputs": [
    {
     "data": {
      "text/html": [
       "<style>#sk-container-id-5 {color: black;background-color: white;}#sk-container-id-5 pre{padding: 0;}#sk-container-id-5 div.sk-toggleable {background-color: white;}#sk-container-id-5 label.sk-toggleable__label {cursor: pointer;display: block;width: 100%;margin-bottom: 0;padding: 0.3em;box-sizing: border-box;text-align: center;}#sk-container-id-5 label.sk-toggleable__label-arrow:before {content: \"▸\";float: left;margin-right: 0.25em;color: #696969;}#sk-container-id-5 label.sk-toggleable__label-arrow:hover:before {color: black;}#sk-container-id-5 div.sk-estimator:hover label.sk-toggleable__label-arrow:before {color: black;}#sk-container-id-5 div.sk-toggleable__content {max-height: 0;max-width: 0;overflow: hidden;text-align: left;background-color: #f0f8ff;}#sk-container-id-5 div.sk-toggleable__content pre {margin: 0.2em;color: black;border-radius: 0.25em;background-color: #f0f8ff;}#sk-container-id-5 input.sk-toggleable__control:checked~div.sk-toggleable__content {max-height: 200px;max-width: 100%;overflow: auto;}#sk-container-id-5 input.sk-toggleable__control:checked~label.sk-toggleable__label-arrow:before {content: \"▾\";}#sk-container-id-5 div.sk-estimator input.sk-toggleable__control:checked~label.sk-toggleable__label {background-color: #d4ebff;}#sk-container-id-5 div.sk-label input.sk-toggleable__control:checked~label.sk-toggleable__label {background-color: #d4ebff;}#sk-container-id-5 input.sk-hidden--visually {border: 0;clip: rect(1px 1px 1px 1px);clip: rect(1px, 1px, 1px, 1px);height: 1px;margin: -1px;overflow: hidden;padding: 0;position: absolute;width: 1px;}#sk-container-id-5 div.sk-estimator {font-family: monospace;background-color: #f0f8ff;border: 1px dotted black;border-radius: 0.25em;box-sizing: border-box;margin-bottom: 0.5em;}#sk-container-id-5 div.sk-estimator:hover {background-color: #d4ebff;}#sk-container-id-5 div.sk-parallel-item::after {content: \"\";width: 100%;border-bottom: 1px solid gray;flex-grow: 1;}#sk-container-id-5 div.sk-label:hover label.sk-toggleable__label {background-color: #d4ebff;}#sk-container-id-5 div.sk-serial::before {content: \"\";position: absolute;border-left: 1px solid gray;box-sizing: border-box;top: 0;bottom: 0;left: 50%;z-index: 0;}#sk-container-id-5 div.sk-serial {display: flex;flex-direction: column;align-items: center;background-color: white;padding-right: 0.2em;padding-left: 0.2em;position: relative;}#sk-container-id-5 div.sk-item {position: relative;z-index: 1;}#sk-container-id-5 div.sk-parallel {display: flex;align-items: stretch;justify-content: center;background-color: white;position: relative;}#sk-container-id-5 div.sk-item::before, #sk-container-id-5 div.sk-parallel-item::before {content: \"\";position: absolute;border-left: 1px solid gray;box-sizing: border-box;top: 0;bottom: 0;left: 50%;z-index: -1;}#sk-container-id-5 div.sk-parallel-item {display: flex;flex-direction: column;z-index: 1;position: relative;background-color: white;}#sk-container-id-5 div.sk-parallel-item:first-child::after {align-self: flex-end;width: 50%;}#sk-container-id-5 div.sk-parallel-item:last-child::after {align-self: flex-start;width: 50%;}#sk-container-id-5 div.sk-parallel-item:only-child::after {width: 0;}#sk-container-id-5 div.sk-dashed-wrapped {border: 1px dashed gray;margin: 0 0.4em 0.5em 0.4em;box-sizing: border-box;padding-bottom: 0.4em;background-color: white;}#sk-container-id-5 div.sk-label label {font-family: monospace;font-weight: bold;display: inline-block;line-height: 1.2em;}#sk-container-id-5 div.sk-label-container {text-align: center;}#sk-container-id-5 div.sk-container {/* jupyter's `normalize.less` sets `[hidden] { display: none; }` but bootstrap.min.css set `[hidden] { display: none !important; }` so we also need the `!important` here to be able to override the default hidden behavior on the sphinx rendered scikit-learn.org. See: https://github.com/scikit-learn/scikit-learn/issues/21755 */display: inline-block !important;position: relative;}#sk-container-id-5 div.sk-text-repr-fallback {display: none;}</style><div id=\"sk-container-id-5\" class=\"sk-top-container\"><div class=\"sk-text-repr-fallback\"><pre>Pipeline(steps=[(&#x27;bof&#x27;,\n",
       "                 CountVectorizer(analyzer=&lt;function get_comp_info at 0x00000226B860D440&gt;)),\n",
       "                (&#x27;tfidf&#x27;, TfidfTransformer()),\n",
       "                (&#x27;classifier&#x27;, MultinomialNB())])</pre><b>In a Jupyter environment, please rerun this cell to show the HTML representation or trust the notebook. <br />On GitHub, the HTML representation is unable to render, please try loading this page with nbviewer.org.</b></div><div class=\"sk-container\" hidden><div class=\"sk-item sk-dashed-wrapped\"><div class=\"sk-label-container\"><div class=\"sk-label sk-toggleable\"><input class=\"sk-toggleable__control sk-hidden--visually\" id=\"sk-estimator-id-17\" type=\"checkbox\" ><label for=\"sk-estimator-id-17\" class=\"sk-toggleable__label sk-toggleable__label-arrow\">Pipeline</label><div class=\"sk-toggleable__content\"><pre>Pipeline(steps=[(&#x27;bof&#x27;,\n",
       "                 CountVectorizer(analyzer=&lt;function get_comp_info at 0x00000226B860D440&gt;)),\n",
       "                (&#x27;tfidf&#x27;, TfidfTransformer()),\n",
       "                (&#x27;classifier&#x27;, MultinomialNB())])</pre></div></div></div><div class=\"sk-serial\"><div class=\"sk-item\"><div class=\"sk-estimator sk-toggleable\"><input class=\"sk-toggleable__control sk-hidden--visually\" id=\"sk-estimator-id-18\" type=\"checkbox\" ><label for=\"sk-estimator-id-18\" class=\"sk-toggleable__label sk-toggleable__label-arrow\">CountVectorizer</label><div class=\"sk-toggleable__content\"><pre>CountVectorizer(analyzer=&lt;function get_comp_info at 0x00000226B860D440&gt;)</pre></div></div></div><div class=\"sk-item\"><div class=\"sk-estimator sk-toggleable\"><input class=\"sk-toggleable__control sk-hidden--visually\" id=\"sk-estimator-id-19\" type=\"checkbox\" ><label for=\"sk-estimator-id-19\" class=\"sk-toggleable__label sk-toggleable__label-arrow\">TfidfTransformer</label><div class=\"sk-toggleable__content\"><pre>TfidfTransformer()</pre></div></div></div><div class=\"sk-item\"><div class=\"sk-estimator sk-toggleable\"><input class=\"sk-toggleable__control sk-hidden--visually\" id=\"sk-estimator-id-20\" type=\"checkbox\" ><label for=\"sk-estimator-id-20\" class=\"sk-toggleable__label sk-toggleable__label-arrow\">MultinomialNB</label><div class=\"sk-toggleable__content\"><pre>MultinomialNB()</pre></div></div></div></div></div></div></div>"
      ],
      "text/plain": [
       "Pipeline(steps=[('bof',\n",
       "                 CountVectorizer(analyzer=<function get_comp_info at 0x00000226B860D440>)),\n",
       "                ('tfidf', TfidfTransformer()),\n",
       "                ('classifier', MultinomialNB())])"
      ]
     },
     "execution_count": 112,
     "metadata": {},
     "output_type": "execute_result"
    }
   ],
   "source": [
    "pipeline.fit(X_train, y_train)"
   ]
  },
  {
   "cell_type": "code",
   "execution_count": 113,
   "id": "3aece012",
   "metadata": {},
   "outputs": [],
   "source": [
    "nbpreds = pipeline.predict(X_test)"
   ]
  },
  {
   "cell_type": "code",
   "execution_count": 114,
   "id": "bbe70872",
   "metadata": {},
   "outputs": [
    {
     "name": "stdout",
     "output_type": "stream",
     "text": [
      "              precision    recall  f1-score   support\n",
      "\n",
      "           0       0.83      0.79      0.81     38884\n",
      "           1       0.80      0.84      0.82     38691\n",
      "\n",
      "    accuracy                           0.81     77575\n",
      "   macro avg       0.81      0.81      0.81     77575\n",
      "weighted avg       0.81      0.81      0.81     77575\n",
      "\n"
     ]
    }
   ],
   "source": [
    "print(classification_report(y_test, nbpreds))"
   ]
  },
  {
   "cell_type": "code",
   "execution_count": 119,
   "id": "f2b382f6",
   "metadata": {},
   "outputs": [],
   "source": [
    "# Pipeline with Logistic Regression classifier\n",
    "pipeline = Pipeline([\n",
    "    ('bof', CountVectorizer(analyzer = get_comp_info)),\n",
    "    ('tfidf', TfidfTransformer()),\n",
    "    ('classifier', LogisticRegression(max_iter=100000))\n",
    "])"
   ]
  },
  {
   "cell_type": "code",
   "execution_count": 120,
   "id": "a0024894",
   "metadata": {},
   "outputs": [
    {
     "data": {
      "text/html": [
       "<style>#sk-container-id-7 {color: black;background-color: white;}#sk-container-id-7 pre{padding: 0;}#sk-container-id-7 div.sk-toggleable {background-color: white;}#sk-container-id-7 label.sk-toggleable__label {cursor: pointer;display: block;width: 100%;margin-bottom: 0;padding: 0.3em;box-sizing: border-box;text-align: center;}#sk-container-id-7 label.sk-toggleable__label-arrow:before {content: \"▸\";float: left;margin-right: 0.25em;color: #696969;}#sk-container-id-7 label.sk-toggleable__label-arrow:hover:before {color: black;}#sk-container-id-7 div.sk-estimator:hover label.sk-toggleable__label-arrow:before {color: black;}#sk-container-id-7 div.sk-toggleable__content {max-height: 0;max-width: 0;overflow: hidden;text-align: left;background-color: #f0f8ff;}#sk-container-id-7 div.sk-toggleable__content pre {margin: 0.2em;color: black;border-radius: 0.25em;background-color: #f0f8ff;}#sk-container-id-7 input.sk-toggleable__control:checked~div.sk-toggleable__content {max-height: 200px;max-width: 100%;overflow: auto;}#sk-container-id-7 input.sk-toggleable__control:checked~label.sk-toggleable__label-arrow:before {content: \"▾\";}#sk-container-id-7 div.sk-estimator input.sk-toggleable__control:checked~label.sk-toggleable__label {background-color: #d4ebff;}#sk-container-id-7 div.sk-label input.sk-toggleable__control:checked~label.sk-toggleable__label {background-color: #d4ebff;}#sk-container-id-7 input.sk-hidden--visually {border: 0;clip: rect(1px 1px 1px 1px);clip: rect(1px, 1px, 1px, 1px);height: 1px;margin: -1px;overflow: hidden;padding: 0;position: absolute;width: 1px;}#sk-container-id-7 div.sk-estimator {font-family: monospace;background-color: #f0f8ff;border: 1px dotted black;border-radius: 0.25em;box-sizing: border-box;margin-bottom: 0.5em;}#sk-container-id-7 div.sk-estimator:hover {background-color: #d4ebff;}#sk-container-id-7 div.sk-parallel-item::after {content: \"\";width: 100%;border-bottom: 1px solid gray;flex-grow: 1;}#sk-container-id-7 div.sk-label:hover label.sk-toggleable__label {background-color: #d4ebff;}#sk-container-id-7 div.sk-serial::before {content: \"\";position: absolute;border-left: 1px solid gray;box-sizing: border-box;top: 0;bottom: 0;left: 50%;z-index: 0;}#sk-container-id-7 div.sk-serial {display: flex;flex-direction: column;align-items: center;background-color: white;padding-right: 0.2em;padding-left: 0.2em;position: relative;}#sk-container-id-7 div.sk-item {position: relative;z-index: 1;}#sk-container-id-7 div.sk-parallel {display: flex;align-items: stretch;justify-content: center;background-color: white;position: relative;}#sk-container-id-7 div.sk-item::before, #sk-container-id-7 div.sk-parallel-item::before {content: \"\";position: absolute;border-left: 1px solid gray;box-sizing: border-box;top: 0;bottom: 0;left: 50%;z-index: -1;}#sk-container-id-7 div.sk-parallel-item {display: flex;flex-direction: column;z-index: 1;position: relative;background-color: white;}#sk-container-id-7 div.sk-parallel-item:first-child::after {align-self: flex-end;width: 50%;}#sk-container-id-7 div.sk-parallel-item:last-child::after {align-self: flex-start;width: 50%;}#sk-container-id-7 div.sk-parallel-item:only-child::after {width: 0;}#sk-container-id-7 div.sk-dashed-wrapped {border: 1px dashed gray;margin: 0 0.4em 0.5em 0.4em;box-sizing: border-box;padding-bottom: 0.4em;background-color: white;}#sk-container-id-7 div.sk-label label {font-family: monospace;font-weight: bold;display: inline-block;line-height: 1.2em;}#sk-container-id-7 div.sk-label-container {text-align: center;}#sk-container-id-7 div.sk-container {/* jupyter's `normalize.less` sets `[hidden] { display: none; }` but bootstrap.min.css set `[hidden] { display: none !important; }` so we also need the `!important` here to be able to override the default hidden behavior on the sphinx rendered scikit-learn.org. See: https://github.com/scikit-learn/scikit-learn/issues/21755 */display: inline-block !important;position: relative;}#sk-container-id-7 div.sk-text-repr-fallback {display: none;}</style><div id=\"sk-container-id-7\" class=\"sk-top-container\"><div class=\"sk-text-repr-fallback\"><pre>Pipeline(steps=[(&#x27;bof&#x27;,\n",
       "                 CountVectorizer(analyzer=&lt;function get_comp_info at 0x00000226B860D440&gt;)),\n",
       "                (&#x27;tfidf&#x27;, TfidfTransformer()),\n",
       "                (&#x27;classifier&#x27;, LogisticRegression(max_iter=100000))])</pre><b>In a Jupyter environment, please rerun this cell to show the HTML representation or trust the notebook. <br />On GitHub, the HTML representation is unable to render, please try loading this page with nbviewer.org.</b></div><div class=\"sk-container\" hidden><div class=\"sk-item sk-dashed-wrapped\"><div class=\"sk-label-container\"><div class=\"sk-label sk-toggleable\"><input class=\"sk-toggleable__control sk-hidden--visually\" id=\"sk-estimator-id-25\" type=\"checkbox\" ><label for=\"sk-estimator-id-25\" class=\"sk-toggleable__label sk-toggleable__label-arrow\">Pipeline</label><div class=\"sk-toggleable__content\"><pre>Pipeline(steps=[(&#x27;bof&#x27;,\n",
       "                 CountVectorizer(analyzer=&lt;function get_comp_info at 0x00000226B860D440&gt;)),\n",
       "                (&#x27;tfidf&#x27;, TfidfTransformer()),\n",
       "                (&#x27;classifier&#x27;, LogisticRegression(max_iter=100000))])</pre></div></div></div><div class=\"sk-serial\"><div class=\"sk-item\"><div class=\"sk-estimator sk-toggleable\"><input class=\"sk-toggleable__control sk-hidden--visually\" id=\"sk-estimator-id-26\" type=\"checkbox\" ><label for=\"sk-estimator-id-26\" class=\"sk-toggleable__label sk-toggleable__label-arrow\">CountVectorizer</label><div class=\"sk-toggleable__content\"><pre>CountVectorizer(analyzer=&lt;function get_comp_info at 0x00000226B860D440&gt;)</pre></div></div></div><div class=\"sk-item\"><div class=\"sk-estimator sk-toggleable\"><input class=\"sk-toggleable__control sk-hidden--visually\" id=\"sk-estimator-id-27\" type=\"checkbox\" ><label for=\"sk-estimator-id-27\" class=\"sk-toggleable__label sk-toggleable__label-arrow\">TfidfTransformer</label><div class=\"sk-toggleable__content\"><pre>TfidfTransformer()</pre></div></div></div><div class=\"sk-item\"><div class=\"sk-estimator sk-toggleable\"><input class=\"sk-toggleable__control sk-hidden--visually\" id=\"sk-estimator-id-28\" type=\"checkbox\" ><label for=\"sk-estimator-id-28\" class=\"sk-toggleable__label sk-toggleable__label-arrow\">LogisticRegression</label><div class=\"sk-toggleable__content\"><pre>LogisticRegression(max_iter=100000)</pre></div></div></div></div></div></div></div>"
      ],
      "text/plain": [
       "Pipeline(steps=[('bof',\n",
       "                 CountVectorizer(analyzer=<function get_comp_info at 0x00000226B860D440>)),\n",
       "                ('tfidf', TfidfTransformer()),\n",
       "                ('classifier', LogisticRegression(max_iter=100000))])"
      ]
     },
     "execution_count": 120,
     "metadata": {},
     "output_type": "execute_result"
    }
   ],
   "source": [
    "pipeline.fit(X_train, y_train)"
   ]
  },
  {
   "cell_type": "code",
   "execution_count": 121,
   "id": "e27ef67b",
   "metadata": {},
   "outputs": [],
   "source": [
    "logpreds = pipeline.predict(X_test)"
   ]
  },
  {
   "cell_type": "code",
   "execution_count": 122,
   "id": "78460cf9",
   "metadata": {},
   "outputs": [
    {
     "name": "stdout",
     "output_type": "stream",
     "text": [
      "              precision    recall  f1-score   support\n",
      "\n",
      "           0       0.84      0.81      0.82     38884\n",
      "           1       0.81      0.85      0.83     38691\n",
      "\n",
      "    accuracy                           0.83     77575\n",
      "   macro avg       0.83      0.83      0.83     77575\n",
      "weighted avg       0.83      0.83      0.83     77575\n",
      "\n"
     ]
    }
   ],
   "source": [
    "print(classification_report(y_test, logpreds))"
   ]
  },
  {
   "cell_type": "markdown",
   "id": "f1c23ae1",
   "metadata": {},
   "source": [
    "## Adding chosen unit's trait to the features"
   ]
  },
  {
   "cell_type": "code",
   "execution_count": 123,
   "id": "a4aabe63",
   "metadata": {},
   "outputs": [],
   "source": [
    "for i, c in enumerate(df_1025['comp_info']):\n",
    "    c.append(('chosen_trait', str(df_1025['chosen_trait'].iloc[i])))"
   ]
  },
  {
   "cell_type": "code",
   "execution_count": 124,
   "id": "99f18a81",
   "metadata": {},
   "outputs": [],
   "source": [
    "X = df_1025['comp_info']\n",
    "y = df_1025['top4']"
   ]
  },
  {
   "cell_type": "code",
   "execution_count": 125,
   "id": "57091d61",
   "metadata": {},
   "outputs": [],
   "source": [
    "X_train, X_test, y_train, y_test = train_test_split(X, y, test_size=0.3, random_state=101)"
   ]
  },
  {
   "cell_type": "code",
   "execution_count": 126,
   "id": "a1279cde",
   "metadata": {},
   "outputs": [],
   "source": [
    "# Pipeline with MultinomialNB classifier\n",
    "pipeline = Pipeline([\n",
    "    ('bof', CountVectorizer(analyzer = get_comp_info)),\n",
    "    ('tfidf', TfidfTransformer()),\n",
    "    ('classifier', MultinomialNB())\n",
    "])"
   ]
  },
  {
   "cell_type": "code",
   "execution_count": 127,
   "id": "7733788c",
   "metadata": {},
   "outputs": [
    {
     "data": {
      "text/html": [
       "<style>#sk-container-id-8 {color: black;background-color: white;}#sk-container-id-8 pre{padding: 0;}#sk-container-id-8 div.sk-toggleable {background-color: white;}#sk-container-id-8 label.sk-toggleable__label {cursor: pointer;display: block;width: 100%;margin-bottom: 0;padding: 0.3em;box-sizing: border-box;text-align: center;}#sk-container-id-8 label.sk-toggleable__label-arrow:before {content: \"▸\";float: left;margin-right: 0.25em;color: #696969;}#sk-container-id-8 label.sk-toggleable__label-arrow:hover:before {color: black;}#sk-container-id-8 div.sk-estimator:hover label.sk-toggleable__label-arrow:before {color: black;}#sk-container-id-8 div.sk-toggleable__content {max-height: 0;max-width: 0;overflow: hidden;text-align: left;background-color: #f0f8ff;}#sk-container-id-8 div.sk-toggleable__content pre {margin: 0.2em;color: black;border-radius: 0.25em;background-color: #f0f8ff;}#sk-container-id-8 input.sk-toggleable__control:checked~div.sk-toggleable__content {max-height: 200px;max-width: 100%;overflow: auto;}#sk-container-id-8 input.sk-toggleable__control:checked~label.sk-toggleable__label-arrow:before {content: \"▾\";}#sk-container-id-8 div.sk-estimator input.sk-toggleable__control:checked~label.sk-toggleable__label {background-color: #d4ebff;}#sk-container-id-8 div.sk-label input.sk-toggleable__control:checked~label.sk-toggleable__label {background-color: #d4ebff;}#sk-container-id-8 input.sk-hidden--visually {border: 0;clip: rect(1px 1px 1px 1px);clip: rect(1px, 1px, 1px, 1px);height: 1px;margin: -1px;overflow: hidden;padding: 0;position: absolute;width: 1px;}#sk-container-id-8 div.sk-estimator {font-family: monospace;background-color: #f0f8ff;border: 1px dotted black;border-radius: 0.25em;box-sizing: border-box;margin-bottom: 0.5em;}#sk-container-id-8 div.sk-estimator:hover {background-color: #d4ebff;}#sk-container-id-8 div.sk-parallel-item::after {content: \"\";width: 100%;border-bottom: 1px solid gray;flex-grow: 1;}#sk-container-id-8 div.sk-label:hover label.sk-toggleable__label {background-color: #d4ebff;}#sk-container-id-8 div.sk-serial::before {content: \"\";position: absolute;border-left: 1px solid gray;box-sizing: border-box;top: 0;bottom: 0;left: 50%;z-index: 0;}#sk-container-id-8 div.sk-serial {display: flex;flex-direction: column;align-items: center;background-color: white;padding-right: 0.2em;padding-left: 0.2em;position: relative;}#sk-container-id-8 div.sk-item {position: relative;z-index: 1;}#sk-container-id-8 div.sk-parallel {display: flex;align-items: stretch;justify-content: center;background-color: white;position: relative;}#sk-container-id-8 div.sk-item::before, #sk-container-id-8 div.sk-parallel-item::before {content: \"\";position: absolute;border-left: 1px solid gray;box-sizing: border-box;top: 0;bottom: 0;left: 50%;z-index: -1;}#sk-container-id-8 div.sk-parallel-item {display: flex;flex-direction: column;z-index: 1;position: relative;background-color: white;}#sk-container-id-8 div.sk-parallel-item:first-child::after {align-self: flex-end;width: 50%;}#sk-container-id-8 div.sk-parallel-item:last-child::after {align-self: flex-start;width: 50%;}#sk-container-id-8 div.sk-parallel-item:only-child::after {width: 0;}#sk-container-id-8 div.sk-dashed-wrapped {border: 1px dashed gray;margin: 0 0.4em 0.5em 0.4em;box-sizing: border-box;padding-bottom: 0.4em;background-color: white;}#sk-container-id-8 div.sk-label label {font-family: monospace;font-weight: bold;display: inline-block;line-height: 1.2em;}#sk-container-id-8 div.sk-label-container {text-align: center;}#sk-container-id-8 div.sk-container {/* jupyter's `normalize.less` sets `[hidden] { display: none; }` but bootstrap.min.css set `[hidden] { display: none !important; }` so we also need the `!important` here to be able to override the default hidden behavior on the sphinx rendered scikit-learn.org. See: https://github.com/scikit-learn/scikit-learn/issues/21755 */display: inline-block !important;position: relative;}#sk-container-id-8 div.sk-text-repr-fallback {display: none;}</style><div id=\"sk-container-id-8\" class=\"sk-top-container\"><div class=\"sk-text-repr-fallback\"><pre>Pipeline(steps=[(&#x27;bof&#x27;,\n",
       "                 CountVectorizer(analyzer=&lt;function get_comp_info at 0x00000226B860D440&gt;)),\n",
       "                (&#x27;tfidf&#x27;, TfidfTransformer()),\n",
       "                (&#x27;classifier&#x27;, MultinomialNB())])</pre><b>In a Jupyter environment, please rerun this cell to show the HTML representation or trust the notebook. <br />On GitHub, the HTML representation is unable to render, please try loading this page with nbviewer.org.</b></div><div class=\"sk-container\" hidden><div class=\"sk-item sk-dashed-wrapped\"><div class=\"sk-label-container\"><div class=\"sk-label sk-toggleable\"><input class=\"sk-toggleable__control sk-hidden--visually\" id=\"sk-estimator-id-29\" type=\"checkbox\" ><label for=\"sk-estimator-id-29\" class=\"sk-toggleable__label sk-toggleable__label-arrow\">Pipeline</label><div class=\"sk-toggleable__content\"><pre>Pipeline(steps=[(&#x27;bof&#x27;,\n",
       "                 CountVectorizer(analyzer=&lt;function get_comp_info at 0x00000226B860D440&gt;)),\n",
       "                (&#x27;tfidf&#x27;, TfidfTransformer()),\n",
       "                (&#x27;classifier&#x27;, MultinomialNB())])</pre></div></div></div><div class=\"sk-serial\"><div class=\"sk-item\"><div class=\"sk-estimator sk-toggleable\"><input class=\"sk-toggleable__control sk-hidden--visually\" id=\"sk-estimator-id-30\" type=\"checkbox\" ><label for=\"sk-estimator-id-30\" class=\"sk-toggleable__label sk-toggleable__label-arrow\">CountVectorizer</label><div class=\"sk-toggleable__content\"><pre>CountVectorizer(analyzer=&lt;function get_comp_info at 0x00000226B860D440&gt;)</pre></div></div></div><div class=\"sk-item\"><div class=\"sk-estimator sk-toggleable\"><input class=\"sk-toggleable__control sk-hidden--visually\" id=\"sk-estimator-id-31\" type=\"checkbox\" ><label for=\"sk-estimator-id-31\" class=\"sk-toggleable__label sk-toggleable__label-arrow\">TfidfTransformer</label><div class=\"sk-toggleable__content\"><pre>TfidfTransformer()</pre></div></div></div><div class=\"sk-item\"><div class=\"sk-estimator sk-toggleable\"><input class=\"sk-toggleable__control sk-hidden--visually\" id=\"sk-estimator-id-32\" type=\"checkbox\" ><label for=\"sk-estimator-id-32\" class=\"sk-toggleable__label sk-toggleable__label-arrow\">MultinomialNB</label><div class=\"sk-toggleable__content\"><pre>MultinomialNB()</pre></div></div></div></div></div></div></div>"
      ],
      "text/plain": [
       "Pipeline(steps=[('bof',\n",
       "                 CountVectorizer(analyzer=<function get_comp_info at 0x00000226B860D440>)),\n",
       "                ('tfidf', TfidfTransformer()),\n",
       "                ('classifier', MultinomialNB())])"
      ]
     },
     "execution_count": 127,
     "metadata": {},
     "output_type": "execute_result"
    }
   ],
   "source": [
    "pipeline.fit(X_train, y_train)"
   ]
  },
  {
   "cell_type": "code",
   "execution_count": 128,
   "id": "c4fba0a3",
   "metadata": {},
   "outputs": [],
   "source": [
    "nbpreds = pipeline.predict(X_test)"
   ]
  },
  {
   "cell_type": "code",
   "execution_count": 129,
   "id": "f41536c3",
   "metadata": {},
   "outputs": [
    {
     "name": "stdout",
     "output_type": "stream",
     "text": [
      "              precision    recall  f1-score   support\n",
      "\n",
      "           0       0.83      0.78      0.80     38884\n",
      "           1       0.79      0.84      0.81     38691\n",
      "\n",
      "    accuracy                           0.81     77575\n",
      "   macro avg       0.81      0.81      0.81     77575\n",
      "weighted avg       0.81      0.81      0.81     77575\n",
      "\n"
     ]
    }
   ],
   "source": [
    "print(classification_report(y_test, nbpreds))"
   ]
  },
  {
   "cell_type": "code",
   "execution_count": 130,
   "id": "46cbe4d5",
   "metadata": {},
   "outputs": [],
   "source": [
    "# Pipeline with Logistic Regression classifier\n",
    "pipeline = Pipeline([\n",
    "    ('bof', CountVectorizer(analyzer = get_comp_info)),\n",
    "    ('tfidf', TfidfTransformer()),\n",
    "    ('classifier', LogisticRegression(max_iter=100000))\n",
    "])"
   ]
  },
  {
   "cell_type": "code",
   "execution_count": 131,
   "id": "05c78e4e",
   "metadata": {},
   "outputs": [
    {
     "data": {
      "text/html": [
       "<style>#sk-container-id-9 {color: black;background-color: white;}#sk-container-id-9 pre{padding: 0;}#sk-container-id-9 div.sk-toggleable {background-color: white;}#sk-container-id-9 label.sk-toggleable__label {cursor: pointer;display: block;width: 100%;margin-bottom: 0;padding: 0.3em;box-sizing: border-box;text-align: center;}#sk-container-id-9 label.sk-toggleable__label-arrow:before {content: \"▸\";float: left;margin-right: 0.25em;color: #696969;}#sk-container-id-9 label.sk-toggleable__label-arrow:hover:before {color: black;}#sk-container-id-9 div.sk-estimator:hover label.sk-toggleable__label-arrow:before {color: black;}#sk-container-id-9 div.sk-toggleable__content {max-height: 0;max-width: 0;overflow: hidden;text-align: left;background-color: #f0f8ff;}#sk-container-id-9 div.sk-toggleable__content pre {margin: 0.2em;color: black;border-radius: 0.25em;background-color: #f0f8ff;}#sk-container-id-9 input.sk-toggleable__control:checked~div.sk-toggleable__content {max-height: 200px;max-width: 100%;overflow: auto;}#sk-container-id-9 input.sk-toggleable__control:checked~label.sk-toggleable__label-arrow:before {content: \"▾\";}#sk-container-id-9 div.sk-estimator input.sk-toggleable__control:checked~label.sk-toggleable__label {background-color: #d4ebff;}#sk-container-id-9 div.sk-label input.sk-toggleable__control:checked~label.sk-toggleable__label {background-color: #d4ebff;}#sk-container-id-9 input.sk-hidden--visually {border: 0;clip: rect(1px 1px 1px 1px);clip: rect(1px, 1px, 1px, 1px);height: 1px;margin: -1px;overflow: hidden;padding: 0;position: absolute;width: 1px;}#sk-container-id-9 div.sk-estimator {font-family: monospace;background-color: #f0f8ff;border: 1px dotted black;border-radius: 0.25em;box-sizing: border-box;margin-bottom: 0.5em;}#sk-container-id-9 div.sk-estimator:hover {background-color: #d4ebff;}#sk-container-id-9 div.sk-parallel-item::after {content: \"\";width: 100%;border-bottom: 1px solid gray;flex-grow: 1;}#sk-container-id-9 div.sk-label:hover label.sk-toggleable__label {background-color: #d4ebff;}#sk-container-id-9 div.sk-serial::before {content: \"\";position: absolute;border-left: 1px solid gray;box-sizing: border-box;top: 0;bottom: 0;left: 50%;z-index: 0;}#sk-container-id-9 div.sk-serial {display: flex;flex-direction: column;align-items: center;background-color: white;padding-right: 0.2em;padding-left: 0.2em;position: relative;}#sk-container-id-9 div.sk-item {position: relative;z-index: 1;}#sk-container-id-9 div.sk-parallel {display: flex;align-items: stretch;justify-content: center;background-color: white;position: relative;}#sk-container-id-9 div.sk-item::before, #sk-container-id-9 div.sk-parallel-item::before {content: \"\";position: absolute;border-left: 1px solid gray;box-sizing: border-box;top: 0;bottom: 0;left: 50%;z-index: -1;}#sk-container-id-9 div.sk-parallel-item {display: flex;flex-direction: column;z-index: 1;position: relative;background-color: white;}#sk-container-id-9 div.sk-parallel-item:first-child::after {align-self: flex-end;width: 50%;}#sk-container-id-9 div.sk-parallel-item:last-child::after {align-self: flex-start;width: 50%;}#sk-container-id-9 div.sk-parallel-item:only-child::after {width: 0;}#sk-container-id-9 div.sk-dashed-wrapped {border: 1px dashed gray;margin: 0 0.4em 0.5em 0.4em;box-sizing: border-box;padding-bottom: 0.4em;background-color: white;}#sk-container-id-9 div.sk-label label {font-family: monospace;font-weight: bold;display: inline-block;line-height: 1.2em;}#sk-container-id-9 div.sk-label-container {text-align: center;}#sk-container-id-9 div.sk-container {/* jupyter's `normalize.less` sets `[hidden] { display: none; }` but bootstrap.min.css set `[hidden] { display: none !important; }` so we also need the `!important` here to be able to override the default hidden behavior on the sphinx rendered scikit-learn.org. See: https://github.com/scikit-learn/scikit-learn/issues/21755 */display: inline-block !important;position: relative;}#sk-container-id-9 div.sk-text-repr-fallback {display: none;}</style><div id=\"sk-container-id-9\" class=\"sk-top-container\"><div class=\"sk-text-repr-fallback\"><pre>Pipeline(steps=[(&#x27;bof&#x27;,\n",
       "                 CountVectorizer(analyzer=&lt;function get_comp_info at 0x00000226B860D440&gt;)),\n",
       "                (&#x27;tfidf&#x27;, TfidfTransformer()),\n",
       "                (&#x27;classifier&#x27;, LogisticRegression(max_iter=100000))])</pre><b>In a Jupyter environment, please rerun this cell to show the HTML representation or trust the notebook. <br />On GitHub, the HTML representation is unable to render, please try loading this page with nbviewer.org.</b></div><div class=\"sk-container\" hidden><div class=\"sk-item sk-dashed-wrapped\"><div class=\"sk-label-container\"><div class=\"sk-label sk-toggleable\"><input class=\"sk-toggleable__control sk-hidden--visually\" id=\"sk-estimator-id-33\" type=\"checkbox\" ><label for=\"sk-estimator-id-33\" class=\"sk-toggleable__label sk-toggleable__label-arrow\">Pipeline</label><div class=\"sk-toggleable__content\"><pre>Pipeline(steps=[(&#x27;bof&#x27;,\n",
       "                 CountVectorizer(analyzer=&lt;function get_comp_info at 0x00000226B860D440&gt;)),\n",
       "                (&#x27;tfidf&#x27;, TfidfTransformer()),\n",
       "                (&#x27;classifier&#x27;, LogisticRegression(max_iter=100000))])</pre></div></div></div><div class=\"sk-serial\"><div class=\"sk-item\"><div class=\"sk-estimator sk-toggleable\"><input class=\"sk-toggleable__control sk-hidden--visually\" id=\"sk-estimator-id-34\" type=\"checkbox\" ><label for=\"sk-estimator-id-34\" class=\"sk-toggleable__label sk-toggleable__label-arrow\">CountVectorizer</label><div class=\"sk-toggleable__content\"><pre>CountVectorizer(analyzer=&lt;function get_comp_info at 0x00000226B860D440&gt;)</pre></div></div></div><div class=\"sk-item\"><div class=\"sk-estimator sk-toggleable\"><input class=\"sk-toggleable__control sk-hidden--visually\" id=\"sk-estimator-id-35\" type=\"checkbox\" ><label for=\"sk-estimator-id-35\" class=\"sk-toggleable__label sk-toggleable__label-arrow\">TfidfTransformer</label><div class=\"sk-toggleable__content\"><pre>TfidfTransformer()</pre></div></div></div><div class=\"sk-item\"><div class=\"sk-estimator sk-toggleable\"><input class=\"sk-toggleable__control sk-hidden--visually\" id=\"sk-estimator-id-36\" type=\"checkbox\" ><label for=\"sk-estimator-id-36\" class=\"sk-toggleable__label sk-toggleable__label-arrow\">LogisticRegression</label><div class=\"sk-toggleable__content\"><pre>LogisticRegression(max_iter=100000)</pre></div></div></div></div></div></div></div>"
      ],
      "text/plain": [
       "Pipeline(steps=[('bof',\n",
       "                 CountVectorizer(analyzer=<function get_comp_info at 0x00000226B860D440>)),\n",
       "                ('tfidf', TfidfTransformer()),\n",
       "                ('classifier', LogisticRegression(max_iter=100000))])"
      ]
     },
     "execution_count": 131,
     "metadata": {},
     "output_type": "execute_result"
    }
   ],
   "source": [
    "pipeline.fit(X_train, y_train)"
   ]
  },
  {
   "cell_type": "code",
   "execution_count": 132,
   "id": "aa694d63",
   "metadata": {},
   "outputs": [],
   "source": [
    "logpreds = pipeline.predict(X_test)"
   ]
  },
  {
   "cell_type": "code",
   "execution_count": 133,
   "id": "999ceebf",
   "metadata": {},
   "outputs": [
    {
     "name": "stdout",
     "output_type": "stream",
     "text": [
      "              precision    recall  f1-score   support\n",
      "\n",
      "           0       0.84      0.81      0.82     38884\n",
      "           1       0.81      0.85      0.83     38691\n",
      "\n",
      "    accuracy                           0.83     77575\n",
      "   macro avg       0.83      0.83      0.83     77575\n",
      "weighted avg       0.83      0.83      0.83     77575\n",
      "\n"
     ]
    }
   ],
   "source": [
    "print(classification_report(y_test, logpreds))"
   ]
  },
  {
   "cell_type": "markdown",
   "id": "9dee9291",
   "metadata": {},
   "source": [
    "### Does not really improve the model's performance. We can stop here"
   ]
  },
  {
   "cell_type": "code",
   "execution_count": null,
   "id": "64076afc",
   "metadata": {},
   "outputs": [],
   "source": []
  }
 ],
 "metadata": {
  "kernelspec": {
   "display_name": "Python 3 (ipykernel)",
   "language": "python",
   "name": "python3"
  },
  "language_info": {
   "codemirror_mode": {
    "name": "ipython",
    "version": 3
   },
   "file_extension": ".py",
   "mimetype": "text/x-python",
   "name": "python",
   "nbconvert_exporter": "python",
   "pygments_lexer": "ipython3",
   "version": "3.11.2"
  }
 },
 "nbformat": 4,
 "nbformat_minor": 5
}
